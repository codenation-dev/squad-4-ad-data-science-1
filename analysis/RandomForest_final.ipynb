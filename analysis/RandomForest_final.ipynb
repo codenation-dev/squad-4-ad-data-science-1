{
 "cells": [
  {
   "cell_type": "markdown",
   "metadata": {},
   "source": [
    "# Codenation  - final project\n",
    "## Squad-4\n",
    "### Finding leads using random forest\n",
    "\n",
    "\n",
    "This code provides suggestions for market leads based on an company portfolio (input).\n",
    "The leads are extracted from a larger data base (market.csv) and a probability is atributed to the most adherent companies from the input portfolio.\n",
    "\n",
    "The approach used in this study is random forest regressor and is implemented by the following steps:\n",
    "\n",
    "1) data cleaning and adjustments\n",
    "* removes non-informative variables\n",
    "* transforms boolean and object variables to numeric\n"
   ]
  },
  {
   "cell_type": "markdown",
   "metadata": {},
   "source": [
    "---"
   ]
  },
  {
   "cell_type": "markdown",
   "metadata": {},
   "source": [
    "> Import packages"
   ]
  },
  {
   "cell_type": "code",
   "execution_count": 1,
   "metadata": {},
   "outputs": [],
   "source": [
    "import numpy as np\n",
    "import matplotlib\n",
    "import pandas as pd\n",
    "import matplotlib.pyplot as plt\n",
    "import seaborn as sns\n",
    "from string import ascii_letters\n",
    "import time\n",
    "from sklearn.model_selection import train_test_split\n",
    "from imblearn.over_sampling import SMOTE\n",
    "from sklearn.ensemble import RandomForestRegressor\n",
    "from sklearn.ensemble import RandomForestClassifier\n",
    "from sklearn.datasets import make_classification\n",
    "from sklearn.metrics import confusion_matrix\n",
    "from sklearn.metrics import precision_recall_fscore_support\n",
    "from sklearn.metrics import f1_score, precision_score, recall_score\n",
    "from sklearn.model_selection import KFold\n",
    "from sklearn.model_selection import RandomizedSearchCV"
   ]
  },
  {
   "cell_type": "markdown",
   "metadata": {},
   "source": [
    "> Read files"
   ]
  },
  {
   "cell_type": "code",
   "execution_count": 3,
   "metadata": {},
   "outputs": [],
   "source": [
    "market=pd.read_csv(\"estaticos_market.csv\")\n",
    "market_original=market\n",
    "portfolio_01=pd.read_csv('estaticos_portfolio1.csv')\n",
    "portfolio_02=pd.read_csv('estaticos_portfolio2.csv')\n",
    "portfolio_03=pd.read_csv('estaticos_portfolio3.csv')"
   ]
  },
  {
   "cell_type": "markdown",
   "metadata": {},
   "source": [
    "## Data treatment"
   ]
  },
  {
   "cell_type": "markdown",
   "metadata": {},
   "source": [
    "> Remove variables:\n",
    "   * non-informative variables (contains just one unique value )\n",
    "   * 'Unnamed: 0' "
   ]
  },
  {
   "cell_type": "code",
   "execution_count": 4,
   "metadata": {},
   "outputs": [
    {
     "data": {
      "text/plain": [
       "(462298, 169)"
      ]
     },
     "execution_count": 4,
     "metadata": {},
     "output_type": "execute_result"
    }
   ],
   "source": [
    "market=market.drop(['Unnamed: 0'],axis=1)\n",
    "market_fill=market.count()\n",
    "market=market[market_fill[market_fill>0].index]\n",
    "market_unique=market.T.apply(lambda x: x.nunique(), axis=1)\n",
    "list_one=market_unique.index[market_unique.values==1]\n",
    "market=market[market_unique[market_unique>1].index]\n",
    "market.shape"
   ]
  },
  {
   "cell_type": "markdown",
   "metadata": {},
   "source": [
    "> Below, the list of non-informative variables removed"
   ]
  },
  {
   "cell_type": "code",
   "execution_count": 5,
   "metadata": {},
   "outputs": [
    {
     "data": {
      "text/plain": [
       "['fl_epp',\n",
       " 'qt_coligados_nula',\n",
       " 'qt_coligados_atividade_alto',\n",
       " 'qt_coligados_atividade_medio',\n",
       " 'qt_coligados_atividade_baixo',\n",
       " 'qt_coligados_atividade_mt_baixo',\n",
       " 'qt_coligados_atividade_inativo']"
      ]
     },
     "execution_count": 5,
     "metadata": {},
     "output_type": "execute_result"
    }
   ],
   "source": [
    "list(list_one)"
   ]
  },
  {
   "cell_type": "markdown",
   "metadata": {},
   "source": [
    "> change variables values from boolean (True/False) or (SIM/NAO) to numeric (1/0)"
   ]
  },
  {
   "cell_type": "code",
   "execution_count": 6,
   "metadata": {},
   "outputs": [],
   "source": [
    "bool_var=market.dtypes[market.dtypes=='bool'].index\n",
    "for i in bool_var: \n",
    "    market.loc[market[i]==True,i] = 1\n",
    "    market.loc[market[i]==False,i] = 0\n",
    "list_new_bool=('fl_spa',\n",
    "               'fl_antt',\n",
    "               'fl_veiculo',\n",
    "               'fl_optante_simples',\n",
    "               'fl_optante_simei',\n",
    "               'fl_simples_irregular',\n",
    "               'fl_passivel_iss')\n",
    "for i in list_new_bool: \n",
    "    market.loc[market[i]==True,i] = 1\n",
    "    market.loc[market[i]==False,i] = 0\n",
    "market.loc[market['fl_rm']=='SIM','fl_rm']=1\n",
    "market.loc[market['fl_rm']=='NAO','fl_rm']=0\n",
    "\n",
    "market['fl_spa']=pd.to_numeric(market['fl_spa'])\n",
    "market['fl_antt']=pd.to_numeric(market['fl_antt'])\n",
    "market['fl_veiculo']=pd.to_numeric(market['fl_veiculo'])\n",
    "market['fl_optante_simples']=pd.to_numeric(market['fl_optante_simples'])\n",
    "market['fl_optante_simei']=pd.to_numeric(market['fl_optante_simei'])\n",
    "market['fl_simples_irregular']=pd.to_numeric(market['fl_simples_irregular'])\n",
    "market['fl_passivel_iss']=pd.to_numeric(market['fl_passivel_iss'])"
   ]
  },
  {
   "cell_type": "markdown",
   "metadata": {},
   "source": [
    "> ordinal order are atributed to object variables (listed below) that presents ordinal \"string\" values:\n",
    "   * 'de_faixa_faturamento_estimado_grupo'\n",
    "   * 'de_faixa_faturamento_estimado'\n",
    "   * 'idade_emp_cat'\n",
    "   * 'de_saude_rescencia'\n",
    "   * 'de_nivel_atividade'\n",
    "   * 'de_indicador_telefone'"
   ]
  },
  {
   "cell_type": "code",
   "execution_count": 7,
   "metadata": {},
   "outputs": [],
   "source": [
    "market.loc[market['de_faixa_faturamento_estimado_grupo']=='ATE R$ 81.000,00',\n",
    "           'de_faixa_faturamento_estimado_grupo']=0\n",
    "market.loc[market['de_faixa_faturamento_estimado_grupo']=='DE R$ 81.000,01 A R$ 360.000,00',\n",
    "           'de_faixa_faturamento_estimado_grupo']=1\n",
    "market.loc[market['de_faixa_faturamento_estimado_grupo']=='DE R$ 360.000,01 A R$ 1.500.000,00',\n",
    "           'de_faixa_faturamento_estimado_grupo']=2\n",
    "market.loc[market['de_faixa_faturamento_estimado_grupo']=='DE R$ 1.500.000,01 A R$ 4.800.000,00',\n",
    "           'de_faixa_faturamento_estimado_grupo']=3\n",
    "market.loc[market['de_faixa_faturamento_estimado_grupo']=='DE R$ 4.800.000,01 A R$ 10.000.000,00',\n",
    "           'de_faixa_faturamento_estimado_grupo']=4\n",
    "market.loc[market['de_faixa_faturamento_estimado_grupo']=='DE R$ 10.000.000,01 A R$ 30.000.000,00',\n",
    "           'de_faixa_faturamento_estimado_grupo']=5\n",
    "market.loc[market['de_faixa_faturamento_estimado_grupo']=='DE R$ 30.000.000,01 A R$ 100.000.000,00',\n",
    "           'de_faixa_faturamento_estimado_grupo']=6\n",
    "market.loc[market['de_faixa_faturamento_estimado_grupo']=='DE R$ 100.000.000,01 A R$ 300.000.000,00',\n",
    "           'de_faixa_faturamento_estimado_grupo']=7\n",
    "market.loc[market['de_faixa_faturamento_estimado_grupo']=='DE R$ 300.000.000,01 A R$ 500.000.000,00',\n",
    "           'de_faixa_faturamento_estimado_grupo']=8\n",
    "market.loc[market['de_faixa_faturamento_estimado_grupo']=='DE R$ 500.000.000,01 A 1 BILHAO DE REAIS',\n",
    "           'de_faixa_faturamento_estimado_grupo']=9\n",
    "market.loc[market['de_faixa_faturamento_estimado_grupo']=='ACIMA DE 1 BILHAO DE REAIS',\n",
    "           'de_faixa_faturamento_estimado_grupo']=10\n",
    "\n",
    "market.loc[market['de_faixa_faturamento_estimado']=='ATE R$ 81.000,00',\n",
    "           'de_faixa_faturamento_estimado']=0\n",
    "market.loc[market['de_faixa_faturamento_estimado']=='DE R$ 81.000,01 A R$ 360.000,00',\n",
    "           'de_faixa_faturamento_estimado']=1\n",
    "market.loc[market['de_faixa_faturamento_estimado']=='DE R$ 360.000,01 A R$ 1.500.000,00',\n",
    "           'de_faixa_faturamento_estimado']=2\n",
    "market.loc[market['de_faixa_faturamento_estimado']=='DE R$ 1.500.000,01 A R$ 4.800.000,00',\n",
    "           'de_faixa_faturamento_estimado']=3\n",
    "market.loc[market['de_faixa_faturamento_estimado']=='DE R$ 4.800.000,01 A R$ 10.000.000,00',\n",
    "           'de_faixa_faturamento_estimado']=4\n",
    "market.loc[market['de_faixa_faturamento_estimado']=='DE R$ 10.000.000,01 A R$ 30.000.000,00',\n",
    "           'de_faixa_faturamento_estimado']=5\n",
    "market.loc[market['de_faixa_faturamento_estimado']=='DE R$ 30.000.000,01 A R$ 100.000.000,00',\n",
    "           'de_faixa_faturamento_estimado']=6\n",
    "market.loc[market['de_faixa_faturamento_estimado']=='DE R$ 100.000.000,01 A R$ 300.000.000,00',\n",
    "           'de_faixa_faturamento_estimado']=7\n",
    "market.loc[market['de_faixa_faturamento_estimado']=='DE R$ 300.000.000,01 A R$ 500.000.000,00',\n",
    "           'de_faixa_faturamento_estimado']=8\n",
    "market.loc[market['de_faixa_faturamento_estimado']=='DE R$ 500.000.000,01 A 1 BILHAO DE REAIS',\n",
    "           'de_faixa_faturamento_estimado']=9\n",
    "market.loc[market['de_faixa_faturamento_estimado']=='ACIMA DE 1 BILHAO DE REAIS',\n",
    "           'de_faixa_faturamento_estimado']=10\n",
    "market.loc[market['de_faixa_faturamento_estimado']=='SEM INFORMACAO',\n",
    "           'de_faixa_faturamento_estimado']=np.nan\n",
    "\n",
    "market.loc[market['idade_emp_cat']=='<= 1',\n",
    "           'idade_emp_cat']=0\n",
    "market.loc[market['idade_emp_cat']=='1 a 5',\n",
    "           'idade_emp_cat']=1\n",
    "market.loc[market['idade_emp_cat']=='5 a 10',\n",
    "           'idade_emp_cat']=2\n",
    "market.loc[market['idade_emp_cat']=='10 a 15',\n",
    "           'idade_emp_cat']=3\n",
    "market.loc[market['idade_emp_cat']=='15 a 20',\n",
    "           'idade_emp_cat']=4\n",
    "market.loc[market['idade_emp_cat']=='> 20',\n",
    "           'idade_emp_cat']=5\n",
    "\n",
    "market.loc[market['de_saude_rescencia']=='ATE 3 MESES',\n",
    "           'de_saude_rescencia']=0\n",
    "market.loc[market['de_saude_rescencia']=='ATE 6 MESES',\n",
    "           'de_saude_rescencia']=1\n",
    "market.loc[market['de_saude_rescencia']=='ATE 1 ANO',\n",
    "           'de_saude_rescencia']=2\n",
    "market.loc[market['de_saude_rescencia']=='ACIMA DE 1 ANO',\n",
    "           'de_saude_rescencia']=3\n",
    "market.loc[market['de_saude_rescencia']=='SEM INFORMACAO',\n",
    "           'de_saude_rescencia']=np.nan\n",
    "\n",
    "market.loc[market['de_nivel_atividade']=='MUITO BAIXA',\n",
    "           'de_nivel_atividade']=0\n",
    "market.loc[market['de_nivel_atividade']=='BAIXA',\n",
    "           'de_nivel_atividade']=1\n",
    "market.loc[market['de_nivel_atividade']=='MEDIA',\n",
    "           'de_nivel_atividade']=2\n",
    "market.loc[market['de_nivel_atividade']=='ALTA',\n",
    "           'de_nivel_atividade']=3\n",
    "\n",
    "market.loc[market['de_indicador_telefone']=='BOA',\n",
    "           'de_indicador_telefone']=1\n",
    "market.loc[market['de_indicador_telefone']=='INDETERMINADA',\n",
    "           'de_indicador_telefone']=np.nan\n",
    "\n",
    "market['de_faixa_faturamento_estimado_grupo']=pd.to_numeric(market['de_faixa_faturamento_estimado_grupo'])\n",
    "market['de_faixa_faturamento_estimado']=pd.to_numeric(market['de_faixa_faturamento_estimado'])\n",
    "market['de_saude_rescencia']=pd.to_numeric(market['de_saude_rescencia'])\n",
    "market['idade_emp_cat']=pd.to_numeric(market['idade_emp_cat'])\n",
    "market['de_nivel_atividade']=pd.to_numeric(market['de_nivel_atividade'])\n",
    "market['de_indicador_telefone']=pd.to_numeric(market['de_indicador_telefone'])"
   ]
  },
  {
   "cell_type": "markdown",
   "metadata": {},
   "source": [
    "> Date variable ('dt_situacao') transfomed to ordinal"
   ]
  },
  {
   "cell_type": "code",
   "execution_count": 8,
   "metadata": {},
   "outputs": [],
   "source": [
    "test=market['dt_situacao'].dropna()\n",
    "test=test.astype('datetime64[ns]')\n",
    "for i in test.index:\n",
    "    test[i]=test[i].to_pydatetime().toordinal()\n",
    "market['dt_situacao']=test\n",
    "market['dt_situacao']=pd.to_numeric(market['dt_situacao'])"
   ]
  },
  {
   "cell_type": "markdown",
   "metadata": {},
   "source": [
    "> Since there are some variables with many \"nan\", only the features with at least a given percentage of filled values are chosen.\n",
    "The following plot presents the number of features that have at least a given percentage of filled values (not nan)."
   ]
  },
  {
   "cell_type": "code",
   "execution_count": 9,
   "metadata": {},
   "outputs": [
    {
     "data": {
      "image/png": "[encoded data removed]",
      "text/plain": [
       "<Figure size 432x288 with 1 Axes>"
      ]
     },
     "metadata": {
      "needs_background": "light"
     },
     "output_type": "display_data"
    }
   ],
   "source": [
    "count_market=market.count()\n",
    "count_market_max=max(count_market)\n",
    "index = range(0,100)\n",
    "columns = ['count_features']\n",
    "n_features = pd.DataFrame(index=index, columns=columns)\n",
    "for i in range(0,100):\n",
    "    threshsold=round(i*count_market_max/100)\n",
    "    n_features.values[i]=sum(count_market>threshsold)\n",
    "fig, ax = plt.subplots()\n",
    "ax.plot(n_features)\n",
    "ax.set(xlabel='at least % filled', ylabel='number of features',\n",
    "       title='')\n",
    "ax.grid()"
   ]
  },
  {
   "cell_type": "markdown",
   "metadata": {},
   "source": [
    "> The **threshold** value provides the minimum amount (%) of data required to inclue the feature in the dataset. "
   ]
  },
  {
   "cell_type": "code",
   "execution_count": 10,
   "metadata": {},
   "outputs": [],
   "source": [
    "threshold=0.8"
   ]
  },
  {
   "cell_type": "code",
   "execution_count": 11,
   "metadata": {},
   "outputs": [
    {
     "data": {
      "text/plain": [
       "(462298, 41)"
      ]
     },
     "execution_count": 11,
     "metadata": {},
     "output_type": "execute_result"
    }
   ],
   "source": [
    "count_market=market.count()\n",
    "count_market_max=count_market['id']\n",
    "threshsold_n=round(threshold*count_market_max)\n",
    "market=market[count_market[count_market>threshsold_n].index]\n",
    "market.shape"
   ]
  },
  {
   "cell_type": "markdown",
   "metadata": {},
   "source": [
    "> Bar plot showing the features with 'nan' and respective number of 'nan's"
   ]
  },
  {
   "cell_type": "code",
   "execution_count": 12,
   "metadata": {},
   "outputs": [
    {
     "data": {
      "text/plain": [
       "<matplotlib.axes._subplots.AxesSubplot at 0x7f7d08916320>"
      ]
     },
     "execution_count": 12,
     "metadata": {},
     "output_type": "execute_result"
    },
    {
     "data": {
      "image/png": "[encoded data removed]",
      "text/plain": [
       "<Figure size 432x288 with 1 Axes>"
      ]
     },
     "metadata": {
      "needs_background": "light"
     },
     "output_type": "display_data"
    }
   ],
   "source": [
    "sum_nan=market.isnull().sum(axis = 0)\n",
    "sum_nan=sum_nan[sum_nan>0]\n",
    "sum_nan.plot.bar()"
   ]
  },
  {
   "cell_type": "markdown",
   "metadata": {},
   "source": [
    "> Fill variables above with respective modes"
   ]
  },
  {
   "cell_type": "code",
   "execution_count": 13,
   "metadata": {},
   "outputs": [],
   "source": [
    "for i in sum_nan.index:\n",
    "    market[i] = market[i].fillna(market[i].mode()[0])"
   ]
  },
  {
   "cell_type": "markdown",
   "metadata": {},
   "source": [
    " > One hot encoding for the remaining 'object' variables"
   ]
  },
  {
   "cell_type": "code",
   "execution_count": 14,
   "metadata": {},
   "outputs": [
    {
     "data": {
      "text/plain": [
       "(462298, 381)"
      ]
     },
     "execution_count": 14,
     "metadata": {},
     "output_type": "execute_result"
    }
   ],
   "source": [
    "market=pd.concat([market,pd.get_dummies(market['de_natureza_juridica'])],axis=1).drop(['de_natureza_juridica'],axis=1)\n",
    "market=pd.concat([market,pd.get_dummies(market['sg_uf'])],axis=1).drop(['sg_uf'],axis=1)\n",
    "market=pd.concat([market,pd.get_dummies(market['natureza_juridica_macro'])],axis=1).drop(['natureza_juridica_macro'],axis=1)\n",
    "market=pd.concat([market,pd.get_dummies(market['de_ramo'])],axis=1).drop(['de_ramo'],axis=1)\n",
    "market=pd.concat([market,pd.get_dummies(market['setor'])],axis=1).drop(['setor'],axis=1)\n",
    "market=pd.concat([market,pd.get_dummies(market['nm_divisao'])],axis=1).drop(['nm_divisao'],axis=1)\n",
    "market=pd.concat([market,pd.get_dummies(market['nm_segmento'])],axis=1).drop(['nm_segmento'],axis=1)\n",
    "market=pd.concat([market,pd.get_dummies(market['sg_uf_matriz'],prefix='matriz')],axis=1).drop(['sg_uf_matriz'],axis=1)\n",
    "market=pd.concat([market,pd.get_dummies(market['de_saude_tributaria'])],axis=1).drop(['de_saude_tributaria'],axis=1)\n",
    "market=pd.concat([market,pd.get_dummies(market['nm_meso_regiao'])],axis=1).drop(['nm_meso_regiao'],axis=1)\n",
    "market=pd.concat([market,pd.get_dummies(market['nm_micro_regiao'])],axis=1).drop(['nm_micro_regiao'],axis=1)\n",
    "market.shape"
   ]
  },
  {
   "cell_type": "markdown",
   "metadata": {},
   "source": [
    "___"
   ]
  },
  {
   "cell_type": "markdown",
   "metadata": {},
   "source": [
    "##  Radom forest model\n",
    "\n",
    "For a given input portfolio, first we identify indexes of the listed companies in the market database.\n",
    "A vector y is created with label 0 or 1 to each index according to its respective status: not client or client, respectively."
   ]
  },
  {
   "cell_type": "markdown",
   "metadata": {},
   "source": [
    "### Choose portfolio (input)"
   ]
  },
  {
   "cell_type": "code",
   "execution_count": 135,
   "metadata": {},
   "outputs": [],
   "source": [
    "input_portfolio=portfolio_01\n",
    "#input_portfolio=portfolio_02\n",
    "#input_portfolio=portfolio_03"
   ]
  },
  {
   "cell_type": "code",
   "execution_count": 136,
   "metadata": {},
   "outputs": [],
   "source": [
    "y=np.zeros(len(market))\n",
    "index_True=market[market['id'].isin(input_portfolio['id'].values)].index\n",
    "y[index_True]=1\n",
    "X=market.drop('id',axis=1)"
   ]
  },
  {
   "cell_type": "markdown",
   "metadata": {},
   "source": [
    "Data is divided in 3 parts:\n",
    "* train (60%)\n",
    "* validation (20%)\n",
    "* test (20%)\n",
    "\n",
    "Cross-validation was used to optimize the performance of the model, varying the following parameters:\n",
    "\n",
    "* n_estimators\n",
    "* max_depth\n",
    "\n",
    "Since we have a unbalanced dataset (many 0, few 1) instead of accuracy, the criteria for optimization was the the metric (Ftp,fp) proposed in:\n",
    "http://cyber.sci-hub.tw/MTAuMTE0NS8xODgyNDcxLjE4ODI0Nzk=/10.1145%401882471.1882479.pdf"
   ]
  },
  {
   "cell_type": "code",
   "execution_count": 137,
   "metadata": {},
   "outputs": [],
   "source": [
    "X_train_base, X_test, y_train_base, y_test = train_test_split(X, y, test_size=0.2, random_state=42)"
   ]
  },
  {
   "cell_type": "markdown",
   "metadata": {},
   "source": [
    "### Model optmization"
   ]
  },
  {
   "cell_type": "code",
   "execution_count": 138,
   "metadata": {},
   "outputs": [],
   "source": [
    "grid_n_estimators=range(50,150,50)\n",
    "grid_max_depth=range(10,30,10)"
   ]
  },
  {
   "cell_type": "code",
   "execution_count": 139,
   "metadata": {},
   "outputs": [
    {
     "data": {
      "text/plain": [
       "1103"
      ]
     },
     "execution_count": 139,
     "metadata": {},
     "output_type": "execute_result"
    }
   ],
   "source": [
    "max_k=2 # number of cross-validation\n",
    "f1=pd.DataFrame(columns=['n_estimators','max_depth','Ftp,fp'])\n",
    "count=0\n",
    "start = time.process_time()\n",
    "for est in grid_n_estimators:\n",
    "    for dep in grid_max_depth:\n",
    "        rf = RandomForestRegressor(n_estimators=est,max_depth=dep)\n",
    "        tp=0\n",
    "        fp=0\n",
    "        fn=0\n",
    "        for k in range(1,(max_k+1)):\n",
    "            X_train, X_val, y_train, y_val = train_test_split(X_train_base, y_train_base, test_size=0.2, random_state=k)  \n",
    "            rf.fit(X_train, y_train)\n",
    "            predictions = rf.predict(X_val)\n",
    "            predictions[predictions>0]=1\n",
    "            predictions[predictions<=0]=0\n",
    "            aux_matrix=confusion_matrix(y_val, predictions)\n",
    "            tp=tp+aux_matrix[1][1]\n",
    "            fp=fp+aux_matrix[0][1]\n",
    "            fn=fn+aux_matrix[1][0]\n",
    "        f1.loc[count,'n_estimators']=est\n",
    "        f1.loc[count,'max_depth']=dep\n",
    "        f1.loc[count,'Ftp,fp']=2*tp/(2*tp+fp+fn)\n",
    "        count=count+1\n",
    "run_time=round(time.process_time() - start)\n",
    "run_time"
   ]
  },
  {
   "cell_type": "markdown",
   "metadata": {},
   "source": [
    "Optimal values "
   ]
  },
  {
   "cell_type": "code",
   "execution_count": 140,
   "metadata": {},
   "outputs": [
    {
     "data": {
      "text/html": [
       "<div>\n",
       "<style scoped>\n",
       "    .dataframe tbody tr th:only-of-type {\n",
       "        vertical-align: middle;\n",
       "    }\n",
       "\n",
       "    .dataframe tbody tr th {\n",
       "        vertical-align: top;\n",
       "    }\n",
       "\n",
       "    .dataframe thead th {\n",
       "        text-align: right;\n",
       "    }\n",
       "</style>\n",
       "<table border=\"1\" class=\"dataframe\">\n",
       "  <thead>\n",
       "    <tr style=\"text-align: right;\">\n",
       "      <th></th>\n",
       "      <th>value</th>\n",
       "    </tr>\n",
       "  </thead>\n",
       "  <tbody>\n",
       "    <tr>\n",
       "      <th>n_estimators</th>\n",
       "      <td>50</td>\n",
       "    </tr>\n",
       "    <tr>\n",
       "      <th>max_depth</th>\n",
       "      <td>10</td>\n",
       "    </tr>\n",
       "  </tbody>\n",
       "</table>\n",
       "</div>"
      ],
      "text/plain": [
       "              value\n",
       "n_estimators     50\n",
       "max_depth        10"
      ]
     },
     "execution_count": 140,
     "metadata": {},
     "output_type": "execute_result"
    }
   ],
   "source": [
    "opt_df=pd.DataFrame(index=['n_estimators','max_depth'],columns=['value'])\n",
    "est_opt=int(f1.loc[f1['Ftp,fp']==f1['Ftp,fp'].max(),'n_estimators'].min())\n",
    "dep_opt=int(f1.loc[f1['Ftp,fp']==f1['Ftp,fp'].max(),'max_depth'].min())\n",
    "opt_df.loc['n_estimators','value']=est_opt\n",
    "opt_df.loc['max_depth','value']=dep_opt\n",
    "opt_df"
   ]
  },
  {
   "cell_type": "markdown",
   "metadata": {},
   "source": [
    "Run analysis for test data using optimal parameters"
   ]
  },
  {
   "cell_type": "code",
   "execution_count": 141,
   "metadata": {},
   "outputs": [
    {
     "data": {
      "text/plain": [
       "RandomForestRegressor(bootstrap=True, criterion='mse', max_depth=10,\n",
       "                      max_features='auto', max_leaf_nodes=None,\n",
       "                      min_impurity_decrease=0.0, min_impurity_split=None,\n",
       "                      min_samples_leaf=1, min_samples_split=2,\n",
       "                      min_weight_fraction_leaf=0.0, n_estimators=50,\n",
       "                      n_jobs=None, oob_score=False, random_state=None,\n",
       "                      verbose=0, warm_start=False)"
      ]
     },
     "execution_count": 141,
     "metadata": {},
     "output_type": "execute_result"
    }
   ],
   "source": [
    "rf_opt = RandomForestRegressor(n_estimators=est_opt,max_depth=dep_opt)\n",
    "rf_opt.fit(X_test, y_test)"
   ]
  },
  {
   "cell_type": "markdown",
   "metadata": {},
   "source": [
    "Confusion matrix of the model applied to the test set"
   ]
  },
  {
   "cell_type": "code",
   "execution_count": 142,
   "metadata": {},
   "outputs": [
    {
     "data": {
      "text/plain": [
       "array([[56255, 36102],\n",
       "       [    0,   103]])"
      ]
     },
     "execution_count": 142,
     "metadata": {},
     "output_type": "execute_result"
    }
   ],
   "source": [
    "predictions_test = rf_opt.predict(X_test)\n",
    "predictions_test[predictions_test>0]=1\n",
    "predictions_test[predictions_test<=0]=0\n",
    "aux_matrix_test=confusion_matrix(y_test, predictions_test)\n",
    "aux_matrix_test"
   ]
  },
  {
   "cell_type": "markdown",
   "metadata": {},
   "source": [
    "Other performance metrics"
   ]
  },
  {
   "cell_type": "code",
   "execution_count": 143,
   "metadata": {},
   "outputs": [
    {
     "data": {
      "text/html": [
       "<div>\n",
       "<style scoped>\n",
       "    .dataframe tbody tr th:only-of-type {\n",
       "        vertical-align: middle;\n",
       "    }\n",
       "\n",
       "    .dataframe tbody tr th {\n",
       "        vertical-align: top;\n",
       "    }\n",
       "\n",
       "    .dataframe thead th {\n",
       "        text-align: right;\n",
       "    }\n",
       "</style>\n",
       "<table border=\"1\" class=\"dataframe\">\n",
       "  <thead>\n",
       "    <tr style=\"text-align: right;\">\n",
       "      <th></th>\n",
       "      <th>value</th>\n",
       "    </tr>\n",
       "  </thead>\n",
       "  <tbody>\n",
       "    <tr>\n",
       "      <th>precision</th>\n",
       "      <td>0</td>\n",
       "    </tr>\n",
       "    <tr>\n",
       "      <th>recall</th>\n",
       "      <td>1</td>\n",
       "    </tr>\n",
       "    <tr>\n",
       "      <th>f1</th>\n",
       "      <td>0.01</td>\n",
       "    </tr>\n",
       "    <tr>\n",
       "      <th>accuracy</th>\n",
       "      <td>0.61</td>\n",
       "    </tr>\n",
       "    <tr>\n",
       "      <th>Ftp,fp</th>\n",
       "      <td>0.01</td>\n",
       "    </tr>\n",
       "  </tbody>\n",
       "</table>\n",
       "</div>"
      ],
      "text/plain": [
       "          value\n",
       "precision     0\n",
       "recall        1\n",
       "f1         0.01\n",
       "accuracy   0.61\n",
       "Ftp,fp     0.01"
      ]
     },
     "execution_count": 143,
     "metadata": {},
     "output_type": "execute_result"
    }
   ],
   "source": [
    "performance= pd.DataFrame(index=['precision','recall','f1','accuracy','Ftp,fp'],columns =['value']) \n",
    "tp=aux_matrix_test[1][1]\n",
    "fp=aux_matrix_test[0][1]\n",
    "tn=aux_matrix_test[0][0]\n",
    "fn=aux_matrix_test[1][0]\n",
    "performance.loc['precision','value']=round(tp/(tp+fp),2)\n",
    "performance.loc['recall','value']=round(tp/(tp+fn),2)\n",
    "performance.loc['f1','value']=round(2*((tp/(tp+fp))*(tp/(tp+fn)))/((tp/(tp+fp))+(tp/(tp+fn))),2)\n",
    "performance.loc['accuracy','value']=round((tp+tn)/(tp+tn+fp+fn),2)\n",
    "performance.loc['Ftp,fp','value']=round(2*tp/(2*tp+fp+fn),2)\n",
    "performance"
   ]
  },
  {
   "cell_type": "markdown",
   "metadata": {},
   "source": [
    "Final analysis using the obtained model to find the leads in the market data"
   ]
  },
  {
   "cell_type": "code",
   "execution_count": 144,
   "metadata": {},
   "outputs": [
    {
     "data": {
      "text/plain": [
       "RandomForestRegressor(bootstrap=True, criterion='mse', max_depth=10,\n",
       "                      max_features='auto', max_leaf_nodes=None,\n",
       "                      min_impurity_decrease=0.0, min_impurity_split=None,\n",
       "                      min_samples_leaf=1, min_samples_split=2,\n",
       "                      min_weight_fraction_leaf=0.0, n_estimators=50,\n",
       "                      n_jobs=None, oob_score=False, random_state=None,\n",
       "                      verbose=0, warm_start=False)"
      ]
     },
     "execution_count": 144,
     "metadata": {},
     "output_type": "execute_result"
    }
   ],
   "source": [
    "X=market.drop('id',axis=1)\n",
    "rf_opt.fit(X, y)"
   ]
  },
  {
   "cell_type": "code",
   "execution_count": 145,
   "metadata": {},
   "outputs": [
    {
     "data": {
      "text/plain": [
       "array([[268667, 193076],\n",
       "       [     0,    555]])"
      ]
     },
     "execution_count": 145,
     "metadata": {},
     "output_type": "execute_result"
    }
   ],
   "source": [
    "predictions_final = rf_opt.predict(X)\n",
    "predictions_final_binary = predictions_final.copy()\n",
    "predictions_final_binary[predictions_final_binary>0]=1\n",
    "predictions_final_binary[predictions_final_binary<=0]=0\n",
    "aux_matrix_test=confusion_matrix(y, predictions_final_binary)\n",
    "aux_matrix_test"
   ]
  },
  {
   "cell_type": "markdown",
   "metadata": {},
   "source": [
    "The possible leads are the companies classified as client but not part of the input portfolio.\n",
    "A final filter is applied, removing companies that does not share the following caracteristics with the input portfolio:\n",
    "* 'de_ramo'\n",
    "* 'setor'\n",
    "* 'nm_segmento'\n",
    "* 'nm_divisao'\n",
    "* 'natureza_juridica_macro'\n",
    "* 'de_natureza_juridica'\n",
    "* 'nm_meso_regiao'\n",
    "* 'nm_micro_regiao'\n",
    "\n",
    "Also, only the leads with the following characteristics are included:\n",
    "\n",
    "* 'fl_st_especial'= False\n",
    "* 'fl_simples_irregular'= False\n",
    "* 'de_saude_tributaria' = 'VERDE'\n",
    "* 'nu_meses_rescencia' <= 24\n",
    "* 'de_nivel_atividade' = 'ALTA'\n",
    "* 'de_indicador_telefone' = 'BOA'"
   ]
  },
  {
   "cell_type": "code",
   "execution_count": 146,
   "metadata": {},
   "outputs": [
    {
     "data": {
      "text/plain": [
       "(193076, 182)"
      ]
     },
     "execution_count": 146,
     "metadata": {},
     "output_type": "execute_result"
    }
   ],
   "source": [
    "input_portfolio_02=market_original[market_original['id'].isin(input_portfolio['id'])]\n",
    "leads_all=market_original[(predictions_final_binary==1) & (y==0)]\n",
    "leads_all.shape"
   ]
  },
  {
   "cell_type": "code",
   "execution_count": 118,
   "metadata": {},
   "outputs": [
    {
     "data": {
      "text/plain": [
       "(131, 182)"
      ]
     },
     "execution_count": 118,
     "metadata": {},
     "output_type": "execute_result"
    }
   ],
   "source": [
    "input_portfolio_02=market_original[market_original['id'].isin(input_portfolio['id'])]\n",
    "leads_all=market_original[(predictions_final_binary==1) & (y==0)]\n",
    "leads_all=leads_all[leads_all['de_ramo'].isin(list(input_portfolio_02['de_ramo'].unique()))]\n",
    "leads_all=leads_all[leads_all['setor'].isin(list(input_portfolio_02['setor'].unique()))]\n",
    "leads_all=leads_all[leads_all['nm_segmento'].isin(list(input_portfolio_02['nm_segmento'].unique()))]\n",
    "leads_all=leads_all[leads_all['nm_divisao'].isin(list(input_portfolio_02['nm_divisao'].unique()))]\n",
    "leads_all=leads_all[leads_all['natureza_juridica_macro'].isin(list(input_portfolio_02['natureza_juridica_macro'].unique()))]\n",
    "leads_all=leads_all[leads_all['de_natureza_juridica'].isin(list(input_portfolio_02['de_natureza_juridica'].unique()))]\n",
    "leads_all=leads_all[leads_all['nm_meso_regiao'].isin(list(input_portfolio_02['nm_meso_regiao'].unique()))]\n",
    "leads_all=leads_all[leads_all['nm_micro_regiao'].isin(list(input_portfolio_02['nm_micro_regiao'].unique()))]\n",
    "\n",
    "leads_all=leads_all[leads_all['fl_st_especial']==False]\n",
    "leads_all=leads_all[leads_all['fl_simples_irregular']==False]\n",
    "leads_all=leads_all[leads_all['de_saude_tributaria']=='VERDE']\n",
    "#leads_all=leads_all[leads_all['de_saude_tributaria']=='VERDE']\n",
    "leads_all=leads_all[leads_all['nu_meses_rescencia']<=24]\n",
    "leads_all=leads_all[leads_all['de_nivel_atividade']<='ALTA']\n",
    "leads_all=leads_all[leads_all['de_indicador_telefone']=='BOA']\n",
    "leads_all.shape"
   ]
  },
  {
   "cell_type": "markdown",
   "metadata": {},
   "source": [
    "Ranking the remaining leads according to the random forest regressor output values\n",
    "\n",
    "> Output file: 'leads.csv'"
   ]
  },
  {
   "cell_type": "code",
   "execution_count": 147,
   "metadata": {},
   "outputs": [],
   "source": [
    "prob_out=np.around(predictions_final[leads_all.index],3)\n",
    "output=pd.DataFrame(columns=['id','prob'])\n",
    "output.loc[:,'id']=market.loc[leads_all.index,'id'].values\n",
    "output.loc[:,'prob']=prob_out\n",
    "output=output.sort_values(by=['prob'],ascending=False)\n",
    "output.to_csv('leads.csv')"
   ]
  },
  {
   "cell_type": "markdown",
   "metadata": {},
   "source": [
    "---"
   ]
  }
 ],
 "metadata": {
  "kernelspec": {
   "display_name": "Python 3",
   "language": "python",
   "name": "python3"
  },
  "language_info": {
   "codemirror_mode": {
    "name": "ipython",
    "version": 3
   },
   "file_extension": ".py",
   "mimetype": "text/x-python",
   "name": "python",
   "nbconvert_exporter": "python",
   "pygments_lexer": "ipython3",
   "version": "3.7.3"
  }
 },
 "nbformat": 4,
 "nbformat_minor": 2
}

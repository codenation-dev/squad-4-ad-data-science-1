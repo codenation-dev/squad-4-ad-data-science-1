{
 "cells": [
  {
   "cell_type": "markdown",
   "metadata": {},
   "source": [
    "# Desafio final Code:Nation Data Science"
   ]
  },
  {
   "cell_type": "markdown",
   "metadata": {},
   "source": [
    "***\n",
    "## Objetivo\n",
    "\n",
    "O objetivo deste produto é fornecer um serviço automatizado que recomenda leads para um usuário dado sua atual lista de clientes (Portfólio).\n",
    " \n",
    "## Contextualização\n",
    "\n",
    "Algumas empresas gostariam de saber quem são as demais empresas em um determinado mercado (população) que tem maior probabilidade se tornarem seus próximos clientes. Ou seja, a sua solução deve encontrar no mercado quem são os leads mais aderentes dado as características dos clientes presentes no portfólio do usuário.\n",
    "\n",
    "Além disso, sua solução deve ser agnóstica ao usuário. Qualquer usuário com uma lista de clientes que queira explorar esse mercado pode extrair valor do serviço.       \n",
    "\n",
    "Para o desafio, deverão ser consideradas as seguintes bases:\n",
    "\n",
    "* Mercado: Base com informações sobre as empresas do Mercado a ser considerado. \n",
    "* Portfolio 1: Ids dos clientes da empresa 1\n",
    "* Portfolio 2: Ids dos clientes da empresa 2\n",
    "* Portfolio 3: Ids dos clientes da empresa 3 \n",
    "\n",
    "Obs: todas as empresas(ids) dos portfolios estão contidos no Mercado(base de população). \n",
    "\n",
    "Link para download das bases Mercado, Portfolio 1, Portfolio 2 e Portfolio 3 respectivamente: \n",
    "\n",
    "[https://drive.google.com/open?id=1y8-kGTMrsMi4q49x7LBYfu_iP2f0Xudi](https://drive.google.com/open?id=1y8-kGTMrsMi4q49x7LBYfu_iP2f0Xudi)\n",
    "\n",
    "[https://drive.google.com/open?id=1hgBhk-S0jKCF-GYBz8eaaktvmkH9xI0b](https://drive.google.com/open?id=1hgBhk-S0jKCF-GYBz8eaaktvmkH9xI0b)\n",
    "\n",
    "[https://drive.google.com/open?id=1bbSy_0C981TbenfQOAhaK6Q_-q-ppq1X](https://drive.google.com/open?id=1bbSy_0C981TbenfQOAhaK6Q_-q-ppq1X)\n",
    "\n",
    "[https://drive.google.com/open?id=18VH0WhmF3iRLk_pVwcTclUn_AiZFGYTX](https://drive.google.com/open?id=18VH0WhmF3iRLk_pVwcTclUn_AiZFGYTX)\n",
    "\n",
    "As bases de portfólio poderão ser utilizadas para testar a aderência da solução. Além disso, se a equipe desejar, poderá simular portfólios por meio de amostragens no mercado. \n",
    "\n",
    "## Requisitos técnicos obrigatórios\n",
    "\n",
    "-  Utilizar técnicas de data science e machine learning para desenvolver o projeto;\n",
    "-  Apresentar o desenvolvimento e outputs do modelo em um Jupyter Notebook ou outra tecnologia de apresentação de Output de modelos de Machine Learning;\n",
    "-  A análise deve considerar os seguintes pontos: análise exploratória dos dados, tratamento dos dados, avaliação de algoritmos, treinamento do modelo, avaliação de performance do modelo e visualização dos resultados; \n",
    "-  Para a apresentação do projeto, o tempo entre o treinamento do modelo e o output deve ser menor que 20 min. \n"
   ]
  },
  {
   "cell_type": "markdown",
   "metadata": {},
   "source": [
    "***\n",
    "## Sistema de recomendação:"
   ]
  },
  {
   "cell_type": "markdown",
   "metadata": {},
   "source": [
    "> ### Pacotes:"
   ]
  },
  {
   "cell_type": "code",
   "execution_count": 1,
   "metadata": {},
   "outputs": [],
   "source": [
    "import pandas as pd\n",
    "import numpy as np"
   ]
  },
  {
   "cell_type": "markdown",
   "metadata": {},
   "source": [
    "> ### Dados:"
   ]
  },
  {
   "cell_type": "code",
   "execution_count": null,
   "metadata": {},
   "outputs": [],
   "source": [
    "market = pd.read_csv(\"estaticos_market.csv\")"
   ]
  },
  {
   "cell_type": "code",
   "execution_count": null,
   "metadata": {},
   "outputs": [],
   "source": [
    "portfolio = pd.read_csv(\"estaticos_portfolio2.csv\")"
   ]
  },
  {
   "cell_type": "code",
   "execution_count": null,
   "metadata": {},
   "outputs": [],
   "source": [
    "dicionario = pd.read_csv(\"dicionario.csv\")"
   ]
  },
  {
   "cell_type": "code",
   "execution_count": null,
   "metadata": {},
   "outputs": [],
   "source": [
    "# Ajuste para visualização completa dos datasets:\n",
    "pd.set_option('display.max_colwidth', -1)\n",
    "pd.set_option('display.max_columns', len(market.columns))\n",
    "pd.set_option('display.max_rows', len(market))"
   ]
  },
  {
   "cell_type": "markdown",
   "metadata": {},
   "source": [
    "***\n",
    "## T1 - Complemento do dataset Portfólio:\n",
    "O dataset portfólio possui apenas a coluna 'id', iremos completar  com os demais dados que estão presentes no dataset market."
   ]
  },
  {
   "cell_type": "code",
   "execution_count": null,
   "metadata": {},
   "outputs": [],
   "source": [
    "# DataFrame etapa de Tratamento 1:\n",
    "market_T1= market.copy()\n",
    "\n",
    "# Criação da coluna id_num para auxiliar a manipulação:\n",
    "market_T1['id_num'] = market_T1['Unnamed: 0']\n",
    "\n",
    "# Elimina coluna Unnamed: 0':\n",
    "market_T1 = market_T1.drop(['Unnamed: 0'], axis = 1)\n",
    "\n",
    "# Geração de portfolio completo:\n",
    "portfolio_T1 = pd.DataFrame(portfolio['id'])\n",
    "portfolio_T1 = pd.merge(portfolio_T1, market, on='id', how='left')"
   ]
  },
  {
   "cell_type": "markdown",
   "metadata": {},
   "source": [
    "> ### Heads:"
   ]
  },
  {
   "cell_type": "code",
   "execution_count": null,
   "metadata": {},
   "outputs": [],
   "source": [
    "market_T1.head(3)"
   ]
  },
  {
   "cell_type": "code",
   "execution_count": null,
   "metadata": {},
   "outputs": [],
   "source": [
    "portfolio_T1.head(3)"
   ]
  },
  {
   "cell_type": "markdown",
   "metadata": {},
   "source": [
    "> ### Linhas x Colunas:"
   ]
  },
  {
   "cell_type": "code",
   "execution_count": null,
   "metadata": {},
   "outputs": [],
   "source": [
    "print('Market:', market_T1.shape)\n",
    "print('Portfolio:', portfolio_T1.shape)"
   ]
  },
  {
   "cell_type": "markdown",
   "metadata": {},
   "source": [
    "***\n",
    "## T2 - exclusão de empresas com problemas fiscais, judiciais, financeiros e operacionais:\n"
   ]
  },
  {
   "cell_type": "code",
   "execution_count": null,
   "metadata": {},
   "outputs": [],
   "source": [
    "# DataFrame etapa de Tratamento 2:\n",
    "market_T2= market_T1.copy()"
   ]
  },
  {
   "cell_type": "markdown",
   "metadata": {},
   "source": [
    ">### fl_st_especial:"
   ]
  },
  {
   "cell_type": "markdown",
   "metadata": {},
   "source": [
    "fl_st_especial == True, indica se a empresa está em situação extraordinária (falência, recuperação judicial e outros)"
   ]
  },
  {
   "cell_type": "code",
   "execution_count": null,
   "metadata": {},
   "outputs": [],
   "source": [
    "dicionario.loc[dicionario['Coluna'] == 'fl_st_especial']"
   ]
  },
  {
   "cell_type": "code",
   "execution_count": null,
   "metadata": {},
   "outputs": [],
   "source": [
    "# Contagem:\n",
    "market_T2['fl_st_especial'].value_counts()"
   ]
  },
  {
   "cell_type": "code",
   "execution_count": null,
   "metadata": {},
   "outputs": [],
   "source": [
    "# Eliminação de empresas com problemas:\n",
    "market_T2 = market_T2[market_T2['fl_st_especial'] != True]"
   ]
  },
  {
   "cell_type": "markdown",
   "metadata": {},
   "source": [
    "> ### fl_simples_irregular"
   ]
  },
  {
   "cell_type": "markdown",
   "metadata": {},
   "source": [
    "fl_simples_irregular == True, indica que a empresa está no modelo de tributação simples e em situação irregular."
   ]
  },
  {
   "cell_type": "code",
   "execution_count": null,
   "metadata": {},
   "outputs": [],
   "source": [
    "dicionario.loc[dicionario['Coluna'] == 'fl_simples_irregular']"
   ]
  },
  {
   "cell_type": "code",
   "execution_count": null,
   "metadata": {},
   "outputs": [],
   "source": [
    "# Contagem: \n",
    "market_T2['fl_simples_irregular'].value_counts()"
   ]
  },
  {
   "cell_type": "code",
   "execution_count": null,
   "metadata": {},
   "outputs": [],
   "source": [
    "# Eliminação de empresas com problemas:\n",
    "market_T2 = market_T2[market_T2['fl_simples_irregular'] != True]"
   ]
  },
  {
   "cell_type": "markdown",
   "metadata": {},
   "source": [
    "> ### de_saude_tributaria"
   ]
  },
  {
   "cell_type": "markdown",
   "metadata": {},
   "source": [
    "de_saude_tributaria: Verde indica que está ok, vermelho indica problema tributário."
   ]
  },
  {
   "cell_type": "code",
   "execution_count": null,
   "metadata": {},
   "outputs": [],
   "source": [
    "dicionario.loc[dicionario['Coluna'] == 'de_saude_tributaria']"
   ]
  },
  {
   "cell_type": "code",
   "execution_count": null,
   "metadata": {},
   "outputs": [],
   "source": [
    "# Contagem: \n",
    "market_T2['de_saude_tributaria'].value_counts()"
   ]
  },
  {
   "cell_type": "code",
   "execution_count": null,
   "metadata": {},
   "outputs": [],
   "source": [
    "# Eliminação de empresas com problemas:\n",
    "market_T2 = market_T2[market_T2['de_saude_tributaria'] != 'VERMELHO']"
   ]
  },
  {
   "cell_type": "markdown",
   "metadata": {},
   "source": [
    "> ### de_nivel_atividade"
   ]
  },
  {
   "cell_type": "markdown",
   "metadata": {},
   "source": [
    "de_nivel_atividade: Probabilidade da empresa estar em atividade."
   ]
  },
  {
   "cell_type": "code",
   "execution_count": null,
   "metadata": {},
   "outputs": [],
   "source": [
    "dicionario.loc[dicionario['Coluna'] == 'de_nivel_atividade']"
   ]
  },
  {
   "cell_type": "code",
   "execution_count": null,
   "metadata": {},
   "outputs": [],
   "source": [
    "# Contagem: \n",
    "market_T2['de_nivel_atividade'].value_counts()"
   ]
  },
  {
   "cell_type": "code",
   "execution_count": null,
   "metadata": {},
   "outputs": [],
   "source": [
    "# Eliminação de empresas com problemas:\n",
    "market_T2 = market_T2[market_T2['de_nivel_atividade'] != 'MUITO BAIXA']\n",
    "market_T2 = market_T2[market_T2['de_nivel_atividade'] != 'BAIXA']"
   ]
  },
  {
   "cell_type": "markdown",
   "metadata": {},
   "source": [
    "> ### qt_socios_st_suspensa"
   ]
  },
  {
   "cell_type": "markdown",
   "metadata": {},
   "source": [
    "qt_socios_st_suspensa: Irregularidades dos sócios junto a Receita Federal."
   ]
  },
  {
   "cell_type": "code",
   "execution_count": null,
   "metadata": {},
   "outputs": [],
   "source": [
    "dicionario.loc[dicionario['Coluna'] == 'qt_socios_st_suspensa']"
   ]
  },
  {
   "cell_type": "code",
   "execution_count": null,
   "metadata": {},
   "outputs": [],
   "source": [
    "# Contagem: \n",
    "(market_T2['qt_socios_st_suspensa'] == market_T2['qt_socios']).value_counts()"
   ]
  },
  {
   "cell_type": "code",
   "execution_count": null,
   "metadata": {},
   "outputs": [],
   "source": [
    "# Eliminação de empresas com problemas:\n",
    "market_T2 = market_T2[(market_T2['qt_socios_st_suspensa'] == market_T2['qt_socios']) != True]"
   ]
  },
  {
   "cell_type": "markdown",
   "metadata": {},
   "source": [
    "> ### Coligados com situação irregular"
   ]
  },
  {
   "cell_type": "markdown",
   "metadata": {},
   "source": [
    "Quantidade de coligados com situação irregular (Suspenso, Inapto e Baixado) igual a quantidade total."
   ]
  },
  {
   "cell_type": "code",
   "execution_count": null,
   "metadata": {},
   "outputs": [],
   "source": [
    "dicionario.loc[dicionario['Coluna'].isin(['qt_coligados', 'qt_coligados_baixada', 'qt_coligados_inapta', 'qt_coligados_suspensa'])]"
   ]
  },
  {
   "cell_type": "code",
   "execution_count": null,
   "metadata": {},
   "outputs": [],
   "source": [
    "# Contagem:\n",
    "(market_T2['qt_coligados_suspensa'] + market_T2['qt_coligados_inapta'] + market_T2['qt_coligados_baixada'] == market_T2['qt_coligados']).value_counts()"
   ]
  },
  {
   "cell_type": "code",
   "execution_count": null,
   "metadata": {},
   "outputs": [],
   "source": [
    "# Eliminação de empresas com problemas:\n",
    "market_T2 = market_T2[(market_T2['qt_coligados_suspensa'] + market_T2['qt_coligados_inapta'] + market_T2['qt_coligados_baixada'] == market_T2['qt_coligados']) != True]"
   ]
  },
  {
   "cell_type": "markdown",
   "metadata": {},
   "source": [
    "> ***"
   ]
  },
  {
   "cell_type": "markdown",
   "metadata": {},
   "source": [
    "#### Market após T2:"
   ]
  },
  {
   "cell_type": "code",
   "execution_count": null,
   "metadata": {},
   "outputs": [],
   "source": [
    "# Comparativo:\n",
    "print('Market inicial:', market_T1.shape)\n",
    "print('Market após tratamento:', market_T2.shape)\n",
    "print('Empresas inadequadas eliminadas do market:', market_T1.shape[0] - market_T2.shape[0])"
   ]
  },
  {
   "cell_type": "markdown",
   "metadata": {},
   "source": [
    "#### Portfólio após T2:"
   ]
  },
  {
   "cell_type": "code",
   "execution_count": null,
   "metadata": {},
   "outputs": [],
   "source": [
    "# portfolio apenas com empresas adequadas: \n",
    "portfolio_T2 = pd.DataFrame(portfolio['id'])\n",
    "portfolio_T2['Tr_exc'] = portfolio_T2['id'].isin(market_T2['id'])\n",
    "portfolio_T2 = portfolio_T2[portfolio_T2['Tr_exc'] == True]\n",
    "portfolio_T2 = portfolio_T2.drop(['Tr_exc'], axis = 1)\n",
    "portfolio_T2 = pd.merge(portfolio_T2, market_T2, on='id', how='left')\n",
    "\n",
    "# Comparação:\n",
    "print('Portfolio inicial:', portfolio_T1.shape)\n",
    "print('Portfolio após tratamento:', portfolio_T2.shape)\n",
    "print('Empresas inadequadas eliminadas do market:', portfolio_T1.shape[0] - portfolio_T2.shape[0])"
   ]
  },
  {
   "cell_type": "markdown",
   "metadata": {},
   "source": [
    "***\n",
    "## T3 - Tratamento de NA's"
   ]
  },
  {
   "cell_type": "markdown",
   "metadata": {},
   "source": [
    "> ### NA's por colunas:"
   ]
  },
  {
   "cell_type": "code",
   "execution_count": null,
   "metadata": {},
   "outputs": [],
   "source": [
    "# Verificação de percentual de  NA's\n",
    "qtd_na_por_col_portfolio_T2 = pd.DataFrame(portfolio_T2.isna().sum().sort_values(ascending=False).reset_index())\n",
    "qtd_na_por_col_portfolio_T2.columns = ['Coluna', 'Qtd_NA']\n",
    "qtd_na_por_col_portfolio_T2['Qtd_nao_NA'] = (len(portfolio_T2) - qtd_na_por_col_portfolio_T2['Qtd_NA'])\n",
    "qtd_na_por_col_portfolio_T2['Percentual_de_NA'] = ((qtd_na_por_col_portfolio_T2['Qtd_NA'] * 100) / len(portfolio_T2)).round(2)\n",
    "qtd_na_por_col_portfolio_T2.T"
   ]
  },
  {
   "cell_type": "code",
   "execution_count": null,
   "metadata": {},
   "outputs": [],
   "source": [
    "# DataFrame etapa de Tratamento 3:\n",
    "market_T3 = market_T2.copy()"
   ]
  },
  {
   "cell_type": "markdown",
   "metadata": {},
   "source": [
    "> ### Exclusão de colunas com alto percentual de NA:"
   ]
  },
  {
   "cell_type": "code",
   "execution_count": null,
   "metadata": {},
   "outputs": [],
   "source": [
    "percent_NA = 60"
   ]
  },
  {
   "cell_type": "code",
   "execution_count": null,
   "metadata": {},
   "outputs": [],
   "source": [
    "# Seleção de todas as colunas que tenham alta quantidade de NA's:\n",
    "colunas_NA_exclusao = qtd_na_por_col_portfolio_T2['Coluna'].loc[qtd_na_por_col_portfolio_T2['Percentual_de_NA'] >= percent_NA]\n",
    "# Exclusão das colunas:\n",
    "market_T3 = market_T3.drop(colunas_NA_exclusao, axis = 1)"
   ]
  },
  {
   "cell_type": "markdown",
   "metadata": {},
   "source": [
    "> ### Tipos de dados:"
   ]
  },
  {
   "cell_type": "code",
   "execution_count": null,
   "metadata": {},
   "outputs": [],
   "source": [
    "tipos_market_T3 = pd.DataFrame(market_T3.dtypes).reset_index()\n",
    "tipos_market_T3.columns = ['Colunas', 'Tipos']\n",
    "tipos_market_T3.T"
   ]
  },
  {
   "cell_type": "code",
   "execution_count": null,
   "metadata": {},
   "outputs": [],
   "source": [
    "# listas de tipos:\n",
    "tipo_float = list(market_T3.select_dtypes(include=['float']).columns)\n",
    "tipo_int = list(market_T3.select_dtypes(include=['int']).columns)\n",
    "tipo_bool = list(market_T3.select_dtypes(include=['bool']).columns)\n",
    "tipo_object = list(market_T3.select_dtypes(include=['object']).columns)"
   ]
  },
  {
   "cell_type": "code",
   "execution_count": null,
   "metadata": {},
   "outputs": [],
   "source": [
    "# Remoção das colunas de identificação das listas de tipos:\n",
    "tipo_object.remove('id')\n",
    "tipo_int.remove('id_num')"
   ]
  },
  {
   "cell_type": "markdown",
   "metadata": {},
   "source": [
    "> ### Preenchimento de NA'S:"
   ]
  },
  {
   "cell_type": "markdown",
   "metadata": {},
   "source": [
    " - Variavéis numéricas por 0;\n",
    " - Variavéis categóricas por moda;"
   ]
  },
  {
   "cell_type": "code",
   "execution_count": null,
   "metadata": {},
   "outputs": [],
   "source": [
    "# Preenchimento de Na's\n",
    "market_T3[tipo_int] = market_T3[tipo_int].fillna(0)\n",
    "market_T3[tipo_float] = market_T3[tipo_float].fillna(0)\n",
    "market_T3[tipo_bool] = market_T3[tipo_bool].fillna(market_T3[tipo_bool].mode(dropna=True))\n",
    "market_T3[tipo_object] = market_T3[tipo_object].fillna(market_T3[tipo_object].mode(dropna=True))\n",
    "market_T3[tipo_object] = market_T3[tipo_object].fillna('INDETERMINADA')"
   ]
  },
  {
   "cell_type": "code",
   "execution_count": null,
   "metadata": {},
   "outputs": [],
   "source": [
    "# Visualização do dataframe após o tratamento:\n",
    "market_T3.head(3)"
   ]
  },
  {
   "cell_type": "markdown",
   "metadata": {},
   "source": [
    "***\n",
    "## T4 - Redução de escopo:"
   ]
  },
  {
   "cell_type": "code",
   "execution_count": null,
   "metadata": {},
   "outputs": [],
   "source": [
    "# DataFrame etapa de Tratamento 4:\n",
    "market_T4 = market_T3.copy()\n",
    "\n",
    "# Geração de portfolio completo:\n",
    "portfolio_T4 = pd.DataFrame(portfolio['id'])\n",
    "portfolio_T4['Tr_exc'] = portfolio_T4['id'].isin(market_T3['id'])\n",
    "portfolio_T4 = portfolio_T4[portfolio_T4['Tr_exc'] == True]\n",
    "portfolio_T4 = portfolio_T4.drop(['Tr_exc'], axis = 1)\n",
    "portfolio_T4 = pd.merge(portfolio_T4, market_T3, on='id', how='left')"
   ]
  },
  {
   "cell_type": "markdown",
   "metadata": {},
   "source": [
    "#### Dimensões market:"
   ]
  },
  {
   "cell_type": "code",
   "execution_count": null,
   "metadata": {},
   "outputs": [],
   "source": [
    "market_T4.shape"
   ]
  },
  {
   "cell_type": "markdown",
   "metadata": {},
   "source": [
    "> #### Remoção de valores não semelhantes:"
   ]
  },
  {
   "cell_type": "code",
   "execution_count": null,
   "metadata": {},
   "outputs": [],
   "source": [
    "# Valores semelhantes nas colunas de tipo object:\n",
    "#market_reduzido = pd.DataFrame()\n",
    "#for col in tipo_object:\n",
    "#    market_reduzido = market_T4[market_T4[col].isin(portfolio_T4[col].unique()) == True]\n",
    "\n",
    "market_reduzido = pd.DataFrame()\n",
    "market_reduzido = market_T4[market_T4['de_natureza_juridica'].isin(portfolio_T4['de_natureza_juridica'].unique()) == True]\n",
    "market_reduzido = market_reduzido[market_reduzido['sg_uf'].isin(portfolio_T4['sg_uf'].unique()) == True]\n",
    "market_reduzido = market_reduzido[market_reduzido['natureza_juridica_macro'].isin(portfolio_T4['natureza_juridica_macro'].unique()) == True]\n",
    "market_reduzido = market_reduzido[market_reduzido['de_ramo'].isin(portfolio_T4['de_ramo'].unique()) == True]\n",
    "market_reduzido = market_reduzido[market_reduzido['setor'].isin(portfolio_T4['setor'].unique()) == True]\n",
    "market_reduzido = market_reduzido[market_reduzido['idade_emp_cat'].isin(portfolio_T4['idade_emp_cat'].unique()) == True]\n",
    "market_reduzido = market_reduzido[market_reduzido['nm_divisao'].isin(portfolio_T4['nm_divisao'].unique()) == True]\n",
    "market_reduzido = market_reduzido[market_reduzido['nm_segmento'].isin(portfolio_T4['nm_segmento'].unique()) == True]\n",
    "market_reduzido = market_reduzido[market_reduzido['nm_meso_regiao'].isin(portfolio_T4['nm_meso_regiao'].unique()) == True]\n",
    "market_reduzido = market_reduzido[market_reduzido['nm_micro_regiao'].isin(portfolio_T4['nm_micro_regiao'].unique()) == True]\n",
    "market_reduzido = market_reduzido[market_reduzido['de_faixa_faturamento_estimado'].isin(portfolio_T4['de_faixa_faturamento_estimado'].unique()) == True]\n",
    "market_reduzido = market_reduzido[market_reduzido['de_faixa_faturamento_estimado_grupo'].isin(portfolio_T4['de_faixa_faturamento_estimado_grupo'].unique()) == True]"
   ]
  },
  {
   "cell_type": "code",
   "execution_count": null,
   "metadata": {},
   "outputs": [],
   "source": [
    "market_reduzido.shape"
   ]
  },
  {
   "cell_type": "code",
   "execution_count": null,
   "metadata": {},
   "outputs": [],
   "source": [
    "# Valores semelhantes nas colunas de tipo bool:\n",
    "#for col in tipo_bool:\n",
    "#    market_reduzido = market_reduzido[market_reduzido[col].isin(portfolio_T4[col].unique()) == True]\n",
    "\n",
    "market_reduzido = market_reduzido[market_reduzido['fl_matriz'].isin(portfolio_T4['fl_matriz'].unique()) == True]\n",
    "market_reduzido = market_reduzido[market_reduzido['fl_me'].isin(portfolio_T4['fl_me'].unique()) == True]\n",
    "market_reduzido = market_reduzido[market_reduzido['fl_sa'].isin(portfolio_T4['fl_sa'].unique()) == True]\n",
    "market_reduzido = market_reduzido[market_reduzido['fl_mei'].isin(portfolio_T4['fl_mei'].unique()) == True]\n",
    "market_reduzido = market_reduzido[market_reduzido['fl_ltda'].isin(portfolio_T4['fl_ltda'].unique()) == True]\n",
    "market_reduzido = market_reduzido[market_reduzido['fl_st_especial'].isin(portfolio_T4['fl_st_especial'].unique()) == True]\n",
    "market_reduzido = market_reduzido[market_reduzido['fl_email'].isin(portfolio_T4['fl_email'].unique()) == True]\n",
    "market_reduzido = market_reduzido[market_reduzido['fl_telefone'].isin(portfolio_T4['fl_telefone'].unique()) == True]\n"
   ]
  },
  {
   "cell_type": "code",
   "execution_count": null,
   "metadata": {},
   "outputs": [],
   "source": [
    "market_reduzido.shape"
   ]
  },
  {
   "cell_type": "code",
   "execution_count": null,
   "metadata": {},
   "outputs": [],
   "source": [
    "# Valores semelhantes nas colunas de tipo int:\n",
    "#for col in tipo_int:\n",
    "#    market_reduzido = market_reduzido[market_reduzido[col].between(portfolio_T4[col].min(), portfolio_T4[col].max(), inclusive=True) == True]\n",
    "\n",
    "market_reduzido = market_reduzido[market_reduzido['qt_filiais'].between(portfolio_T4['qt_filiais'].min(), portfolio_T4['qt_filiais'].max(), inclusive=True) == True]\n"
   ]
  },
  {
   "cell_type": "code",
   "execution_count": null,
   "metadata": {},
   "outputs": [],
   "source": [
    "market_reduzido.shape"
   ]
  },
  {
   "cell_type": "code",
   "execution_count": null,
   "metadata": {},
   "outputs": [],
   "source": [
    "# Valores semelhantes nas colunas de tipo float:\n",
    "#for col in tipo_float:\n",
    "#    market_reduzido = market_reduzido[market_reduzido[col].between(portfolio_T4[col].min(), portfolio_T4[col].max(), inclusive=True) == True]\n",
    "\n",
    "market_reduzido = market_reduzido[market_reduzido['idade_empresa_anos'].between(portfolio_T4['idade_empresa_anos'].min(), portfolio_T4['idade_empresa_anos'].max(), inclusive=True) == True]\n",
    "market_reduzido = market_reduzido[market_reduzido['percent_func_genero_masc'].between(portfolio_T4['percent_func_genero_masc'].min(), portfolio_T4['percent_func_genero_masc'].max(), inclusive=True) == True]\n",
    "market_reduzido = market_reduzido[market_reduzido['percent_func_genero_fem'].between(portfolio_T4['percent_func_genero_fem'].min(), portfolio_T4['percent_func_genero_fem'].max(), inclusive=True) == True]\n",
    "market_reduzido = market_reduzido[market_reduzido['qt_ex_funcionarios'].between(portfolio_T4['qt_ex_funcionarios'].min(), portfolio_T4['qt_ex_funcionarios'].max(), inclusive=True) == True]\n",
    "market_reduzido = market_reduzido[market_reduzido['qt_funcionarios'].between(portfolio_T4['qt_funcionarios'].min(), portfolio_T4['qt_funcionarios'].max(), inclusive=True) == True]"
   ]
  },
  {
   "cell_type": "code",
   "execution_count": null,
   "metadata": {},
   "outputs": [],
   "source": [
    "market_reduzido.shape"
   ]
  },
  {
   "cell_type": "markdown",
   "metadata": {},
   "source": [
    "> ***"
   ]
  },
  {
   "cell_type": "code",
   "execution_count": null,
   "metadata": {},
   "outputs": [],
   "source": [
    "# Visualização do market após o tratamento:\n",
    "market_reduzido.head(3)"
   ]
  },
  {
   "cell_type": "markdown",
   "metadata": {},
   "source": [
    "***"
   ]
  },
  {
   "cell_type": "code",
   "execution_count": null,
   "metadata": {},
   "outputs": [],
   "source": [
    "# Geração de portfolio completo:\n",
    "portfolio_T4 = pd.DataFrame(portfolio['id'])\n",
    "portfolio_T4['Tr_exc'] = portfolio_T4['id'].isin(market_T3['id'])\n",
    "portfolio_T4 = portfolio_T4[portfolio_T4['Tr_exc'] == True]\n",
    "portfolio_T4 = portfolio_T4.drop(['Tr_exc'], axis = 1)\n",
    "portfolio_T4 = pd.merge(portfolio_T4, market_T3, on='id', how='left')"
   ]
  },
  {
   "cell_type": "code",
   "execution_count": null,
   "metadata": {},
   "outputs": [],
   "source": [
    "# market reduzido sem os atuais clientes:\n",
    "market_reduzido_sem_clientes = pd.DataFrame(market_reduzido['id'])\n",
    "market_reduzido_sem_clientes['Tr_exc'] = market_reduzido_sem_clientes['id'].isin(portfolio_T4['id'])\n",
    "market_reduzido_sem_clientes = market_reduzido_sem_clientes[market_reduzido_sem_clientes['Tr_exc'] != True]\n",
    "market_reduzido_sem_clientes = market_reduzido_sem_clientes.drop(['Tr_exc'], axis = 1)\n",
    "market_reduzido_sem_clientes = pd.merge(market_reduzido_sem_clientes, market_T4, on='id', how='left')"
   ]
  },
  {
   "cell_type": "code",
   "execution_count": null,
   "metadata": {},
   "outputs": [],
   "source": [
    "market_reduzido_sem_clientes.shape"
   ]
  },
  {
   "cell_type": "markdown",
   "metadata": {},
   "source": [
    "> ***"
   ]
  },
  {
   "cell_type": "code",
   "execution_count": null,
   "metadata": {},
   "outputs": [],
   "source": [
    "# Visualização do market após o tratamento:\n",
    "market_reduzido_sem_clientes.head(3)"
   ]
  },
  {
   "cell_type": "markdown",
   "metadata": {},
   "source": [
    "> ***\n",
    "#### Market após T4:"
   ]
  },
  {
   "cell_type": "code",
   "execution_count": null,
   "metadata": {},
   "outputs": [],
   "source": [
    "# Comparativo:\n",
    "print('Market inicial:', market_T1.shape)\n",
    "print('Market após tratamento:', market_reduzido_sem_clientes.shape)\n",
    "print('Empresas inadequadas eliminadas do market:', market_T1.shape[0] - market_reduzido_sem_clientes.shape[0])"
   ]
  },
  {
   "cell_type": "markdown",
   "metadata": {},
   "source": [
    "***\n",
    "## T5 - Codificação de variavéis:"
   ]
  },
  {
   "cell_type": "code",
   "execution_count": null,
   "metadata": {},
   "outputs": [],
   "source": [
    "# DataFrame etapa de Tratamento 5:\n",
    "market_T5_a = market_reduzido.copy()"
   ]
  },
  {
   "cell_type": "code",
   "execution_count": null,
   "metadata": {},
   "outputs": [],
   "source": [
    "# Exclusão de variavéis de identificação:\n",
    "market_T5_b = market_T5_a.drop(['id', 'id_num'], axis = 1)\n",
    "# Visualização do mercado:\n",
    "market_T5_b.head(3)"
   ]
  },
  {
   "cell_type": "code",
   "execution_count": null,
   "metadata": {},
   "outputs": [],
   "source": [
    "#Conversões\n",
    "market_T5_b[tipo_float] = market_T5_b[tipo_float].astype('int')\n",
    "market_T5_b[tipo_bool] = market_T5_b[tipo_bool].astype('category')\n",
    "market_T5_b[tipo_bool] = market_T5_b[tipo_bool].apply(lambda x: x.cat.codes)\n",
    "market_T5_b[tipo_object] = market_T5_b[tipo_object].astype('category')\n",
    "market_T5_b[tipo_object] = market_T5_b[tipo_object].apply(lambda x: x.cat.codes)"
   ]
  },
  {
   "cell_type": "markdown",
   "metadata": {},
   "source": [
    "> ***\n",
    "#### Mercado após T5:"
   ]
  },
  {
   "cell_type": "code",
   "execution_count": null,
   "metadata": {},
   "outputs": [],
   "source": [
    "market_T5 = market_T5_a[['id','id_num']]\n",
    "market_T5 = pd.concat([market_T5, market_T5_b], axis=1)\n",
    "# Visualização do mercado completo:\n",
    "market_T5.head(3)"
   ]
  },
  {
   "cell_type": "markdown",
   "metadata": {},
   "source": [
    "> ***\n",
    "#### Portfólio após T5"
   ]
  },
  {
   "cell_type": "code",
   "execution_count": null,
   "metadata": {},
   "outputs": [],
   "source": [
    "portfolio_T5 = pd.DataFrame(portfolio['id'])\n",
    "portfolio_T5['Tr_exc'] = portfolio_T5['id'].isin(market_T5['id'])\n",
    "portfolio_T5 = portfolio_T5[portfolio_T5['Tr_exc'] == True]\n",
    "portfolio_T5 = portfolio_T5.drop(['Tr_exc'], axis = 1)\n",
    "portfolio_T5 = pd.merge(portfolio_T5, market_T5, on='id', how='left')"
   ]
  },
  {
   "cell_type": "code",
   "execution_count": null,
   "metadata": {},
   "outputs": [],
   "source": [
    "# Visualização do portfólio completo:\n",
    "portfolio_T5.head(3)"
   ]
  },
  {
   "cell_type": "markdown",
   "metadata": {},
   "source": [
    "***\n",
    "## Datasets para o treinamento:"
   ]
  },
  {
   "cell_type": "markdown",
   "metadata": {},
   "source": [
    "> #### Mercado tratado:"
   ]
  },
  {
   "cell_type": "code",
   "execution_count": null,
   "metadata": {},
   "outputs": [],
   "source": [
    "# Market completo:\n",
    "mercado_completo = market_T5.copy()"
   ]
  },
  {
   "cell_type": "code",
   "execution_count": null,
   "metadata": {},
   "outputs": [],
   "source": [
    "# Market sem id:\n",
    "mercado_completo_sid = market_T5_b.copy()"
   ]
  },
  {
   "cell_type": "markdown",
   "metadata": {},
   "source": [
    "> #### Mercado tratado sem os atuais clientes:"
   ]
  },
  {
   "cell_type": "code",
   "execution_count": null,
   "metadata": {},
   "outputs": [],
   "source": [
    "# Market sem os atuais clientes: \n",
    "mercado_alvo = pd.DataFrame(mercado_completo['id'])\n",
    "mercado_alvo['Tr_exc'] = mercado_alvo['id'].isin(portfolio_T5['id'])\n",
    "mercado_alvo = mercado_alvo[mercado_alvo['Tr_exc'] != True]\n",
    "mercado_alvo = mercado_alvo.drop(['Tr_exc'], axis = 1)\n",
    "mercado_alvo = pd.merge(mercado_alvo, mercado_completo, on='id', how='left')"
   ]
  },
  {
   "cell_type": "code",
   "execution_count": null,
   "metadata": {},
   "outputs": [],
   "source": [
    "# Market sem os atuais clientes e sem id:\n",
    "mercado_alvo_sid = mercado_alvo.drop(['id', 'id_num'], axis = 1)"
   ]
  },
  {
   "cell_type": "markdown",
   "metadata": {},
   "source": [
    "> #### Portfólio tratado:"
   ]
  },
  {
   "cell_type": "code",
   "execution_count": null,
   "metadata": {},
   "outputs": [],
   "source": [
    "# portfólio completo:\n",
    "portfolio_completo = portfolio_T5.copy()"
   ]
  },
  {
   "cell_type": "code",
   "execution_count": null,
   "metadata": {},
   "outputs": [],
   "source": [
    "# portfólio sem id:\n",
    "portfolio_completo_sid = portfolio_completo.drop(['id', 'id_num'], axis = 1)"
   ]
  },
  {
   "cell_type": "markdown",
   "metadata": {},
   "source": [
    "> ***\n",
    "- market original : market\n",
    "- market original com 'id_num' : market_T1\n",
    "- portfolio original : portfolio\n",
    ">***\n",
    "- market tratado : mercado_completo\n",
    "- market tratado sem id's : mercado_sid\n",
    ">***\n",
    "- market tratado sem os atuais clientes : mercado_alvo\n",
    "- market tratado sem os atuais clientes e sem id's : mercado_alvo_sid\n",
    ">***\n",
    "- portfolio tratado : portfolio_completo\n",
    "- portfolio tratado sem id's : portfolio_completo_sid\n",
    "> ***"
   ]
  },
  {
   "cell_type": "markdown",
   "metadata": {},
   "source": [
    "***\n",
    "## Modelo de recomendação KNN:"
   ]
  },
  {
   "cell_type": "markdown",
   "metadata": {},
   "source": [
    "> ### Pacotes:"
   ]
  },
  {
   "cell_type": "code",
   "execution_count": null,
   "metadata": {},
   "outputs": [],
   "source": [
    "import sklearn\n",
    "from sklearn.neighbors import NearestNeighbors"
   ]
  },
  {
   "cell_type": "markdown",
   "metadata": {},
   "source": [
    "> ### Treino:"
   ]
  },
  {
   "cell_type": "code",
   "execution_count": null,
   "metadata": {},
   "outputs": [],
   "source": [
    "%%time\n",
    "nbrs = NearestNeighbors(n_neighbors=20).fit(mercado_alvo_sid)"
   ]
  },
  {
   "cell_type": "markdown",
   "metadata": {},
   "source": [
    "> ### Referência / Alvo:"
   ]
  },
  {
   "cell_type": "code",
   "execution_count": null,
   "metadata": {},
   "outputs": [],
   "source": [
    "# Criação de cliente alvo:\n",
    "cliente_ideal = portfolio_completo_sid.mode()\n",
    "cliente_ideal = pd.DataFrame(cliente_ideal.iloc[0]).reset_index()\n",
    "cliente_ideal.columns = ['Colunas', 'Amostra_valores']\n",
    "cliente_ideal_geral = list(cliente_ideal['Amostra_valores'])"
   ]
  },
  {
   "cell_type": "code",
   "execution_count": null,
   "metadata": {},
   "outputs": [],
   "source": [
    "# valores cliente alvo:\n",
    "print(cliente_ideal_geral)"
   ]
  },
  {
   "cell_type": "markdown",
   "metadata": {},
   "source": [
    "> ### Recomendação:"
   ]
  },
  {
   "cell_type": "code",
   "execution_count": null,
   "metadata": {},
   "outputs": [],
   "source": [
    "%%time\n",
    "# Recomendação:\n",
    "print(nbrs.kneighbors([cliente_ideal_geral]))"
   ]
  },
  {
   "cell_type": "code",
   "execution_count": null,
   "metadata": {},
   "outputs": [],
   "source": [
    "# Coleta de indices recomendados:\n",
    "distances, indices= nbrs.kneighbors([cliente_ideal_geral])\n",
    "indices = indices[0].tolist()\n",
    "print(indices) # Esses indices sao do dataset de usado no treino (mercado_alvo_sid)"
   ]
  },
  {
   "cell_type": "markdown",
   "metadata": {},
   "source": [
    "> ### Visualização da recomendação:"
   ]
  },
  {
   "cell_type": "code",
   "execution_count": null,
   "metadata": {},
   "outputs": [],
   "source": [
    "# coletando o 'id_num'\n",
    "rec = mercado_alvo.iloc[indices]\n",
    "# Dataset com recomendações: \n",
    "recomendacao = pd.DataFrame()\n",
    "recomendacao = rec['id_num']\n",
    "recomendacao = pd.merge(recomendacao, market_T1, on='id_num', how='left')\n",
    "recomendacao"
   ]
  },
  {
   "cell_type": "code",
   "execution_count": null,
   "metadata": {},
   "outputs": [],
   "source": []
  },
  {
   "cell_type": "code",
   "execution_count": null,
   "metadata": {},
   "outputs": [],
   "source": []
  },
  {
   "cell_type": "code",
   "execution_count": null,
   "metadata": {},
   "outputs": [],
   "source": []
  },
  {
   "cell_type": "code",
   "execution_count": null,
   "metadata": {},
   "outputs": [],
   "source": []
  },
  {
   "cell_type": "code",
   "execution_count": null,
   "metadata": {},
   "outputs": [],
   "source": []
  },
  {
   "cell_type": "markdown",
   "metadata": {},
   "source": [
    "***\n"
   ]
  },
  {
   "cell_type": "markdown",
   "metadata": {},
   "source": [
    "## clusters"
   ]
  },
  {
   "cell_type": "code",
   "execution_count": null,
   "metadata": {},
   "outputs": [],
   "source": []
  },
  {
   "cell_type": "code",
   "execution_count": null,
   "metadata": {},
   "outputs": [],
   "source": []
  },
  {
   "cell_type": "code",
   "execution_count": null,
   "metadata": {},
   "outputs": [],
   "source": []
  },
  {
   "cell_type": "code",
   "execution_count": null,
   "metadata": {},
   "outputs": [],
   "source": []
  },
  {
   "cell_type": "code",
   "execution_count": null,
   "metadata": {},
   "outputs": [],
   "source": []
  },
  {
   "cell_type": "code",
   "execution_count": null,
   "metadata": {},
   "outputs": [],
   "source": []
  }
 ],
 "metadata": {
  "kernelspec": {
   "display_name": "Python 3",
   "language": "python",
   "name": "python3"
  },
  "language_info": {
   "codemirror_mode": {
    "name": "ipython",
    "version": 3
   },
   "file_extension": ".py",
   "mimetype": "text/x-python",
   "name": "python",
   "nbconvert_exporter": "python",
   "pygments_lexer": "ipython3",
   "version": "3.6.8"
  }
 },
 "nbformat": 4,
 "nbformat_minor": 2
}

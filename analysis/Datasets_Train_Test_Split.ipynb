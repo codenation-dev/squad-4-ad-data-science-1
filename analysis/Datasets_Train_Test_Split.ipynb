{
 "cells": [
  {
   "cell_type": "markdown",
   "metadata": {},
   "source": [
    "# Final Challenge Code:Nation Data Science\n",
    "***"
   ]
  },
  {
   "cell_type": "markdown",
   "metadata": {},
   "source": [
    "## This notebook divide the datasets into two parts (train and test) for use in different machine learning models and make benchmarking.\n",
    "***"
   ]
  },
  {
   "cell_type": "markdown",
   "metadata": {},
   "source": [
    "## Packages:"
   ]
  },
  {
   "cell_type": "code",
   "execution_count": 1,
   "metadata": {},
   "outputs": [],
   "source": [
    "import pandas as pd"
   ]
  },
  {
   "cell_type": "code",
   "execution_count": 2,
   "metadata": {},
   "outputs": [],
   "source": [
    "from sklearn.model_selection import train_test_split"
   ]
  },
  {
   "cell_type": "markdown",
   "metadata": {},
   "source": [
    "***\n",
    "## Data:"
   ]
  },
  {
   "cell_type": "code",
   "execution_count": 3,
   "metadata": {},
   "outputs": [],
   "source": [
    "portfolio1 = pd.read_csv(\"estaticos_portfolio1.csv\")\n",
    "portfolio2 = pd.read_csv(\"estaticos_portfolio2.csv\")\n",
    "portfolio3 = pd.read_csv(\"estaticos_portfolio3.csv\")"
   ]
  },
  {
   "cell_type": "markdown",
   "metadata": {},
   "source": [
    "***\n",
    "## Train_Test_Split:"
   ]
  },
  {
   "cell_type": "markdown",
   "metadata": {},
   "source": [
    "> ### Portfolio 1:"
   ]
  },
  {
   "cell_type": "code",
   "execution_count": 4,
   "metadata": {},
   "outputs": [],
   "source": [
    "# Split\n",
    "portfolio1_train, portfolio1_test = train_test_split(portfolio1, test_size=0.33, random_state=42)\n",
    "\n",
    "# Save .csv files\n",
    "portfolio1_train.to_csv ('portfolio1_train.csv', index = False)\n",
    "portfolio1_test.to_csv ('portfolio1_test.csv', index = False)"
   ]
  },
  {
   "cell_type": "markdown",
   "metadata": {},
   "source": [
    "> ### Portfolio 2:"
   ]
  },
  {
   "cell_type": "code",
   "execution_count": 5,
   "metadata": {},
   "outputs": [],
   "source": [
    "# Split\n",
    "portfolio2_train, portfolio2_test = train_test_split(portfolio2, test_size=0.33, random_state=42)\n",
    "\n",
    "# Save .csv files\n",
    "portfolio2_train.to_csv ('portfolio2_train.csv', index = False)\n",
    "portfolio2_test.to_csv ('portfolio2_test.csv', index = False)"
   ]
  },
  {
   "cell_type": "markdown",
   "metadata": {},
   "source": [
    "> ### Portfolio 3:"
   ]
  },
  {
   "cell_type": "code",
   "execution_count": 6,
   "metadata": {},
   "outputs": [],
   "source": [
    "# Split\n",
    "portfolio3_train, portfolio3_test = train_test_split(portfolio3, test_size=0.33, random_state=43)\n",
    "\n",
    "# Save .csv files\n",
    "portfolio3_train.to_csv ('portfolio3_train.csv', index = False)\n",
    "portfolio3_test.to_csv ('portfolio3_test.csv', index = False)"
   ]
  },
  {
   "cell_type": "markdown",
   "metadata": {},
   "source": [
    "***"
   ]
  },
  {
   "cell_type": "code",
   "execution_count": null,
   "metadata": {},
   "outputs": [],
   "source": []
  }
 ],
 "metadata": {
  "kernelspec": {
   "display_name": "Python 3",
   "language": "python",
   "name": "python3"
  },
  "language_info": {
   "codemirror_mode": {
    "name": "ipython",
    "version": 3
   },
   "file_extension": ".py",
   "mimetype": "text/x-python",
   "name": "python",
   "nbconvert_exporter": "python",
   "pygments_lexer": "ipython3",
   "version": "3.6.8"
  }
 },
 "nbformat": 4,
 "nbformat_minor": 2
}

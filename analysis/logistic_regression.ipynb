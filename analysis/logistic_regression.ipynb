{
 "cells": [
  {
   "cell_type": "code",
   "execution_count": 1,
   "metadata": {},
   "outputs": [],
   "source": [
    "from sklearn.preprocessing import OneHotEncoder\n",
    "from sklearn.preprocessing import StandardScaler\n",
    "from sklearn.preprocessing import MinMaxScaler\n",
    "from sklearn.impute import SimpleImputer\n",
    "from sklearn.pipeline import Pipeline\n",
    "from sklearn.metrics import confusion_matrix\n",
    "from sklearn.feature_selection import RFE\n",
    "from sklearn.linear_model import LogisticRegression\n",
    "from sklearn.model_selection import train_test_split\n",
    "from sklearn.metrics import classification_report\n",
    "from sklearn.metrics import roc_auc_score\n",
    "from sklearn.metrics import roc_curve\n",
    "import seaborn as sn\n",
    "import pandas as pd\n",
    "import altair as alt\n",
    "import numpy as np\n",
    "import statsmodels.api as sm\n",
    "import scipy.stats as sct\n",
    "import matplotlib.pyplot as plt\n",
    "import matplotlib\n",
    "import pandas_profiling\n",
    "import scipy\n",
    "import pylab\n",
    "import io\n",
    "import math\n",
    "\n",
    "# Comment this if the data visualisations doesn't work on your side\n",
    "%matplotlib inline\n",
    "plt.style.use('bmh')"
   ]
  },
  {
   "cell_type": "code",
   "execution_count": 2,
   "metadata": {},
   "outputs": [
    {
     "name": "stdout",
     "output_type": "stream",
     "text": [
      "462298 rows\n",
      "183 cols\n",
      "Features with missing values greater than 85% of total:\n",
      "['vl_total_tancagem' 'vl_total_veiculos_antt' 'vl_total_veiculos_leves'\n",
      " 'vl_total_veiculos_pesados' 'qt_art' 'vl_total_tancagem_grupo'\n",
      " 'vl_total_veiculos_antt_grupo' 'vl_potenc_cons_oleo_gas'\n",
      " 'de_indicador_telefone' 'vl_frota' 'qt_socios_st_suspensa'\n",
      " 'qt_socios_pep' 'qt_alteracao_socio_total' 'qt_alteracao_socio_90d'\n",
      " 'qt_alteracao_socio_180d' 'qt_alteracao_socio_365d' 'qt_socios_pj_ativos'\n",
      " 'qt_socios_pj_nulos' 'qt_socios_pj_baixados' 'qt_socios_pj_suspensos'\n",
      " 'qt_socios_pj_inaptos' 'vl_idade_media_socios_pj'\n",
      " 'vl_idade_maxima_socios_pj' 'vl_idade_minima_socios_pj' 'qt_coligados'\n",
      " 'qt_socios_coligados' 'qt_coligados_matriz' 'qt_coligados_ativo'\n",
      " 'qt_coligados_baixada' 'qt_coligados_inapta' 'qt_coligados_suspensa'\n",
      " 'qt_coligados_nula' 'idade_media_coligadas' 'idade_maxima_coligadas'\n",
      " 'idade_minima_coligadas' 'coligada_mais_nova_ativa'\n",
      " 'coligada_mais_antiga_ativa' 'idade_media_coligadas_ativas'\n",
      " 'coligada_mais_nova_baixada' 'coligada_mais_antiga_baixada'\n",
      " 'idade_media_coligadas_baixadas' 'qt_coligados_sa' 'qt_coligados_me'\n",
      " 'qt_coligados_mei' 'qt_coligados_ltda' 'qt_coligados_epp'\n",
      " 'qt_coligados_norte' 'qt_coligados_sul' 'qt_coligados_nordeste'\n",
      " 'qt_coligados_centro' 'qt_coligados_sudeste' 'qt_coligados_exterior'\n",
      " 'qt_ufs_coligados' 'qt_regioes_coligados' 'qt_ramos_coligados'\n",
      " 'qt_coligados_industria' 'qt_coligados_agropecuaria'\n",
      " 'qt_coligados_comercio' 'qt_coligados_serviço' 'qt_coligados_ccivil'\n",
      " 'qt_funcionarios_coligados' 'qt_funcionarios_coligados_gp'\n",
      " 'media_funcionarios_coligados_gp' 'max_funcionarios_coligados_gp'\n",
      " 'min_funcionarios_coligados_gp' 'vl_folha_coligados'\n",
      " 'media_vl_folha_coligados' 'max_vl_folha_coligados'\n",
      " 'min_vl_folha_coligados' 'vl_folha_coligados_gp'\n",
      " 'media_vl_folha_coligados_gp' 'max_vl_folha_coligados_gp'\n",
      " 'min_vl_folha_coligados_gp' 'faturamento_est_coligados'\n",
      " 'media_faturamento_est_coligados' 'max_faturamento_est_coligados'\n",
      " 'min_faturamento_est_coligados' 'faturamento_est_coligados_gp'\n",
      " 'media_faturamento_est_coligados_gp' 'max_faturamento_est_coligados_gp'\n",
      " 'min_faturamento_est_coligados_gp' 'total_filiais_coligados'\n",
      " 'media_filiais_coligados' 'max_filiais_coligados' 'min_filiais_coligados'\n",
      " 'qt_coligados_atividade_alto' 'qt_coligados_atividade_medio'\n",
      " 'qt_coligados_atividade_baixo' 'qt_coligados_atividade_mt_baixo'\n",
      " 'qt_coligados_atividade_inativo' 'qt_coligadas'\n",
      " 'sum_faturamento_estimado_coligadas' 'idade_ate_18' 'idade_de_19_a_23'\n",
      " 'idade_de_24_a_28' 'idade_de_29_a_33' 'idade_de_34_a_38'\n",
      " 'idade_de_39_a_43' 'idade_de_44_a_48' 'idade_de_49_a_53'\n",
      " 'idade_de_54_a_58' 'idade_acima_de_58' 'grau_instrucao_macro_analfabeto'\n",
      " 'grau_instrucao_macro_escolaridade_fundamental'\n",
      " 'grau_instrucao_macro_escolaridade_media'\n",
      " 'grau_instrucao_macro_escolaridade_superior'\n",
      " 'grau_instrucao_macro_desconhecido']\n"
     ]
    },
    {
     "name": "stderr",
     "output_type": "stream",
     "text": [
      "feat_eng.ipynb:3: SettingWithCopyWarning: \n",
      "A value is trying to be set on a copy of a slice from a DataFrame.\n",
      "Try using .loc[row_indexer,col_indexer] = value instead\n",
      "\n",
      "See the caveats in the documentation: http://pandas.pydata.org/pandas-docs/stable/indexing.html#indexing-view-versus-copy\n",
      "  {\n",
      "feat_eng.ipynb:3: SettingWithCopyWarning: \n",
      "A value is trying to be set on a copy of a slice from a DataFrame.\n",
      "Try using .loc[row_indexer,col_indexer] = value instead\n",
      "\n",
      "See the caveats in the documentation: http://pandas.pydata.org/pandas-docs/stable/indexing.html#indexing-view-versus-copy\n",
      "  {\n",
      "feat_eng.ipynb:3: SettingWithCopyWarning: \n",
      "A value is trying to be set on a copy of a slice from a DataFrame.\n",
      "Try using .loc[row_indexer,col_indexer] = value instead\n",
      "\n",
      "See the caveats in the documentation: http://pandas.pydata.org/pandas-docs/stable/indexing.html#indexing-view-versus-copy\n",
      "  {\n",
      "/home/marcelo/Documents/codenation_squad4/squad-4-ad-data-science-1/venv/lib/python3.7/site-packages/pandas/core/generic.py:6130: SettingWithCopyWarning: \n",
      "A value is trying to be set on a copy of a slice from a DataFrame\n",
      "\n",
      "See the caveats in the documentation: http://pandas.pydata.org/pandas-docs/stable/indexing.html#indexing-view-versus-copy\n",
      "  self._update_inplace(new_data)\n"
     ]
    },
    {
     "name": "stdout",
     "output_type": "stream",
     "text": [
      "(461743, 41)\n",
      "(461732, 41)\n",
      "(462033, 41)\n"
     ]
    },
    {
     "name": "stderr",
     "output_type": "stream",
     "text": [
      "/home/marcelo/Documents/codenation_squad4/squad-4-ad-data-science-1/venv/lib/python3.7/site-packages/pandas/core/generic.py:6130: SettingWithCopyWarning: \n",
      "A value is trying to be set on a copy of a slice from a DataFrame\n",
      "\n",
      "See the caveats in the documentation: http://pandas.pydata.org/pandas-docs/stable/indexing.html#indexing-view-versus-copy\n",
      "  self._update_inplace(new_data)\n",
      "/home/marcelo/Documents/codenation_squad4/squad-4-ad-data-science-1/venv/lib/python3.7/site-packages/pandas/core/generic.py:6130: SettingWithCopyWarning: \n",
      "A value is trying to be set on a copy of a slice from a DataFrame\n",
      "\n",
      "See the caveats in the documentation: http://pandas.pydata.org/pandas-docs/stable/indexing.html#indexing-view-versus-copy\n",
      "  self._update_inplace(new_data)\n"
     ]
    }
   ],
   "source": [
    "%run feat_eng.ipynb"
   ]
  },
  {
   "cell_type": "code",
   "execution_count": 3,
   "metadata": {},
   "outputs": [
    {
     "name": "stdout",
     "output_type": "stream",
     "text": [
      "(461743, 98)\n",
      "(461732, 98)\n",
      "(462033, 98)\n"
     ]
    }
   ],
   "source": [
    "print(client_transformed1.shape)\n",
    "print(client_transformed2.shape)\n",
    "print(client_transformed3.shape)"
   ]
  },
  {
   "cell_type": "code",
   "execution_count": 4,
   "metadata": {},
   "outputs": [
    {
     "name": "stdout",
     "output_type": "stream",
     "text": [
      "(555, 60)\n",
      "(566, 89)\n",
      "(265, 72)\n"
     ]
    }
   ],
   "source": [
    "print(portfolio1_transformed.shape)\n",
    "print(portfolio2_transformed.shape)\n",
    "print(portfolio3_transformed.shape)\n"
   ]
  },
  {
   "cell_type": "code",
   "execution_count": 5,
   "metadata": {},
   "outputs": [],
   "source": [
    "def get_unmatched_col(df1,df2):\n",
    "    col_list = []\n",
    "    for col in df1.columns:\n",
    "        if col not in df2.columns:\n",
    "            col_list.append(col)    \n",
    "    return col_list\n",
    "\n",
    "def create_col(df,col_list):\n",
    "    for col in col_list:\n",
    "        df[col] = 0\n",
    "    return df\n",
    "\n",
    "\n",
    "market_random_sample1 = client_transformed1.sample(n=len(portfolio1_transformed))\n",
    "market_random_sample2 = client_transformed2.sample(n=len(portfolio2_transformed))\n",
    "market_random_sample3 = client_transformed3.sample(n=len(portfolio3_transformed))\n",
    "\n",
    "col_list1 = get_unmatched_col(market_random_sample1,portfolio1_transformed) \n",
    "create_col(portfolio1_transformed,col_list1)\n",
    "\n",
    "col_list2 = get_unmatched_col(market_random_sample1,portfolio2_transformed) \n",
    "create_col(portfolio2_transformed,col_list2)\n",
    "\n",
    "col_list3 = get_unmatched_col(market_random_sample1,portfolio3_transformed) \n",
    "create_col(portfolio3_transformed,col_list3)\n",
    "\n",
    "\n",
    "\n",
    "market1 = pd.concat([portfolio1_transformed[client_transformed1.columns],client_transformed1])\n",
    "market2 = pd.concat([portfolio2_transformed[client_transformed2.columns],client_transformed2])\n",
    "market3 = pd.concat([portfolio3_transformed[client_transformed3.columns],client_transformed3])\n",
    "\n",
    "\n",
    "portfolio1_data = pd.concat([portfolio1_transformed[client_transformed1.columns],market_random_sample1])\n",
    "portfolio2_data = pd.concat([portfolio2_transformed[client_transformed2.columns],market_random_sample2])\n",
    "portfolio3_data = pd.concat([portfolio3_transformed[client_transformed3.columns],market_random_sample3])"
   ]
  },
  {
   "cell_type": "code",
   "execution_count": 6,
   "metadata": {},
   "outputs": [
    {
     "name": "stdout",
     "output_type": "stream",
     "text": [
      "1    555\n",
      "0    555\n",
      "Name: portfolio, dtype: int64\n",
      "2    566\n",
      "0    566\n",
      "Name: portfolio, dtype: int64\n",
      "3    265\n",
      "0    265\n",
      "Name: portfolio, dtype: int64\n",
      "(462298, 98)\n",
      "(462298, 98)\n",
      "(462298, 98)\n"
     ]
    }
   ],
   "source": [
    "print(portfolio1_data['portfolio'].value_counts())\n",
    "print(portfolio2_data['portfolio'].value_counts())\n",
    "print(portfolio3_data['portfolio'].value_counts())\n",
    "\n",
    "print(market1.shape)\n",
    "print(market2.shape)\n",
    "print(market3.shape)"
   ]
  },
  {
   "cell_type": "code",
   "execution_count": 73,
   "metadata": {},
   "outputs": [
    {
     "data": {
      "text/plain": [
       "1    555\n",
       "0    265\n",
       "Name: portfolio, dtype: int64"
      ]
     },
     "execution_count": 73,
     "metadata": {},
     "output_type": "execute_result"
    }
   ],
   "source": [
    "# portfolio1_treino = pd.concat([portfolio1_transformed,portfolio3_transformed],sort=False)\n",
    "# portfolio1_treino['portfolio'].replace(3,0, inplace=True)\n",
    "# portfolio1_treino['portfolio'].value_counts()"
   ]
  },
  {
   "cell_type": "markdown",
   "metadata": {},
   "source": [
    "# Portfolio1- Split Train and Test"
   ]
  },
  {
   "cell_type": "code",
   "execution_count": 18,
   "metadata": {},
   "outputs": [],
   "source": [
    "x_train, x_test, y_train, y_test = train_test_split(portfolio1_data.drop('portfolio',axis=1), \n",
    "                                                    portfolio1_data['portfolio'], test_size=0.30, \n",
    "                                                    random_state=101, stratify=portfolio1_data['portfolio'])"
   ]
  },
  {
   "cell_type": "code",
   "execution_count": 19,
   "metadata": {},
   "outputs": [
    {
     "data": {
      "text/plain": [
       "0    389\n",
       "1    388\n",
       "Name: portfolio, dtype: int64"
      ]
     },
     "execution_count": 19,
     "metadata": {},
     "output_type": "execute_result"
    }
   ],
   "source": [
    "y_train.value_counts()"
   ]
  },
  {
   "cell_type": "markdown",
   "metadata": {},
   "source": [
    "# Train model and Classification Portfolio1"
   ]
  },
  {
   "cell_type": "code",
   "execution_count": 20,
   "metadata": {},
   "outputs": [
    {
     "name": "stderr",
     "output_type": "stream",
     "text": [
      "/home/marcelo/Documents/codenation_squad4/squad-4-ad-data-science-1/venv/lib/python3.7/site-packages/sklearn/linear_model/logistic.py:432: FutureWarning: Default solver will be changed to 'lbfgs' in 0.22. Specify a solver to silence this warning.\n",
      "  FutureWarning)\n"
     ]
    },
    {
     "data": {
      "text/plain": [
       "LogisticRegression(C=1.0, class_weight=None, dual=False, fit_intercept=True,\n",
       "                   intercept_scaling=1, l1_ratio=None, max_iter=100,\n",
       "                   multi_class='warn', n_jobs=None, penalty='l2',\n",
       "                   random_state=None, solver='warn', tol=0.0001, verbose=0,\n",
       "                   warm_start=False)"
      ]
     },
     "execution_count": 20,
     "metadata": {},
     "output_type": "execute_result"
    }
   ],
   "source": [
    "logmodel = LogisticRegression()\n",
    "\n",
    "logmodel.fit(x_train[['idade_empresa_anos', 'empsetorcensitariofaixarendapopulacao', 'qt_socios', 'qt_socios_pf', \n",
    "                      'idade_minima_socios', 'qt_socios_st_regular', 'percent_func_genero_masc', \n",
    "                      'meses_ultima_contratacaco', 'max_meses_servicos_all', 'media_meses_servicos', \n",
    "                      'max_meses_servicos', 'min_meses_servicos', 'qt_funcionarios_24meses', \n",
    "                      'tx_crescimento_12meses', 'tx_crescimento_24meses', 'x0_BENS DE CONSUMO', \n",
    "                      'x0_COMERCIO VAREJISTA', 'x0_OUTROS', 'x0_SERVIÇO', 'x0_OUTROS']],y_train)"
   ]
  },
  {
   "cell_type": "code",
   "execution_count": 21,
   "metadata": {},
   "outputs": [
    {
     "name": "stdout",
     "output_type": "stream",
     "text": [
      "[0 1 1 0 1 1 1 0 0 0 1 1 0 1 0 0 1 1 1 1 1 1 1 1 1 0 0 0 0 1 0 0 1 1 0 0 1\n",
      " 1 1 1 0 0 1 1 0 0 0 0 0 0 0 1 0 1 1 0 0 1 1 0 1 0 1 1 0 0 0 0 0 0 0 1 1 0\n",
      " 1 1 0 0 0 1 0 0 1 1 0 1 0 1 0 0 1 1 1 0 0 1 1 0 0 1 1 1 0 0 1 1 0 1 1 1 1\n",
      " 0 1 1 0 1 1 1 1 1 1 1 1 1 1 1 1 1 0 0 1 0 0 0 0 0 0 0 1 0 1 0 0 1 0 0 1 1\n",
      " 1 1 0 1 1 1 0 1 0 0 1 0 0 1 0 1 0 1 1 0 0 0 1 0 0 1 0 1 1 0 0 1 0 1 1 0 1\n",
      " 1 1 0 0 1 1 0 1 0 1 1 1 1 0 0 0 0 1 0 1 0 0 0 1 1 0 1 0 1 1 1 1 1 0 1 0 1\n",
      " 1 0 1 1 0 1 1 0 0 1 0 0 0 0 1 1 0 1 0 1 0 0 0 1 0 1 1 1 1 1 1 1 0 0 0 0 0\n",
      " 0 1 1 0 0 1 0 1 1 0 1 1 0 1 0 0 0 0 0 0 0 0 1 0 1 1 0 0 1 0 1 1 0 0 0 0 1\n",
      " 0 1 0 0 0 0 1 0 0 0 0 1 1 0 0 0 1 1 1 1 0 1 0 1 0 0 0 1 1 1 0 0 1 1 0 0 0]\n"
     ]
    }
   ],
   "source": [
    "predictions = logmodel.predict(x_test[['idade_empresa_anos', 'empsetorcensitariofaixarendapopulacao', 'qt_socios', 'qt_socios_pf', \n",
    "                      'idade_minima_socios', 'qt_socios_st_regular', 'percent_func_genero_masc', \n",
    "                      'meses_ultima_contratacaco', 'max_meses_servicos_all', 'media_meses_servicos', \n",
    "                      'max_meses_servicos', 'min_meses_servicos', 'qt_funcionarios_24meses', \n",
    "                      'tx_crescimento_12meses', 'tx_crescimento_24meses', 'x0_BENS DE CONSUMO', \n",
    "                      'x0_COMERCIO VAREJISTA', 'x0_OUTROS', 'x0_SERVIÇO', 'x0_OUTROS']])\n",
    "print(predictions)"
   ]
  },
  {
   "cell_type": "code",
   "execution_count": 22,
   "metadata": {},
   "outputs": [
    {
     "name": "stdout",
     "output_type": "stream",
     "text": [
      "[0 1]\n"
     ]
    }
   ],
   "source": [
    "predictions_prob = logmodel.predict_proba(x_test[['idade_empresa_anos', 'empsetorcensitariofaixarendapopulacao', 'qt_socios', 'qt_socios_pf', \n",
    "                      'idade_minima_socios', 'qt_socios_st_regular', 'percent_func_genero_masc', \n",
    "                      'meses_ultima_contratacaco', 'max_meses_servicos_all', 'media_meses_servicos', \n",
    "                      'max_meses_servicos', 'min_meses_servicos', 'qt_funcionarios_24meses', \n",
    "                      'tx_crescimento_12meses', 'tx_crescimento_24meses', 'x0_BENS DE CONSUMO', \n",
    "                      'x0_COMERCIO VAREJISTA', 'x0_OUTROS', 'x0_SERVIÇO', 'x0_OUTROS']])\n",
    "print(logmodel.classes_)\n",
    "#print(predictions_prob)"
   ]
  },
  {
   "cell_type": "markdown",
   "metadata": {},
   "source": [
    "# Portfolio1 - Evaluation"
   ]
  },
  {
   "cell_type": "code",
   "execution_count": 23,
   "metadata": {},
   "outputs": [
    {
     "name": "stdout",
     "output_type": "stream",
     "text": [
      "1    167\n",
      "0    166\n",
      "Name: portfolio, dtype: int64\n",
      "0    167\n",
      "1    166\n",
      "Name: predictions, dtype: int64\n"
     ]
    },
    {
     "data": {
      "text/plain": [
       "1    166\n",
       "0      1\n",
       "Name: predictions, dtype: int64"
      ]
     },
     "execution_count": 23,
     "metadata": {},
     "output_type": "execute_result"
    }
   ],
   "source": [
    "x_test['predictions'] = predictions\n",
    "y_test.value_counts()\n",
    "\n",
    "print(y_test.value_counts())\n",
    "print(x_test['predictions'].value_counts())\n",
    "x_test['portfolio']= y_test\n",
    "\n",
    "x_test[x_test['portfolio'] == 1]['predictions'].value_counts()\n"
   ]
  },
  {
   "cell_type": "code",
   "execution_count": 24,
   "metadata": {},
   "outputs": [
    {
     "name": "stdout",
     "output_type": "stream",
     "text": [
      "1    166\n",
      "0      1\n",
      "Name: Predictions, dtype: int64\n"
     ]
    },
    {
     "data": {
      "text/html": [
       "<div>\n",
       "<style scoped>\n",
       "    .dataframe tbody tr th:only-of-type {\n",
       "        vertical-align: middle;\n",
       "    }\n",
       "\n",
       "    .dataframe tbody tr th {\n",
       "        vertical-align: top;\n",
       "    }\n",
       "\n",
       "    .dataframe thead th {\n",
       "        text-align: right;\n",
       "    }\n",
       "</style>\n",
       "<table border=\"1\" class=\"dataframe\">\n",
       "  <thead>\n",
       "    <tr style=\"text-align: right;\">\n",
       "      <th></th>\n",
       "      <th>Portfolio</th>\n",
       "      <th>Predictions</th>\n",
       "      <th>0</th>\n",
       "      <th>1</th>\n",
       "      <th>id</th>\n",
       "    </tr>\n",
       "  </thead>\n",
       "  <tbody>\n",
       "    <tr>\n",
       "      <th>0</th>\n",
       "      <td>0</td>\n",
       "      <td>0</td>\n",
       "      <td>0.991264</td>\n",
       "      <td>0.008736</td>\n",
       "      <td>5ed0f843ff258240352f39fb0d0d873ad54cf63f788b2a...</td>\n",
       "    </tr>\n",
       "    <tr>\n",
       "      <th>1</th>\n",
       "      <td>1</td>\n",
       "      <td>1</td>\n",
       "      <td>0.000798</td>\n",
       "      <td>0.999202</td>\n",
       "      <td>68d59e0d490f829027feca49524633f4a7a9c7fea8c551...</td>\n",
       "    </tr>\n",
       "    <tr>\n",
       "      <th>2</th>\n",
       "      <td>1</td>\n",
       "      <td>1</td>\n",
       "      <td>0.059656</td>\n",
       "      <td>0.940344</td>\n",
       "      <td>d08b4ade6550d1dc95c09ff3fe9bf632f5eda50e0c4765...</td>\n",
       "    </tr>\n",
       "    <tr>\n",
       "      <th>3</th>\n",
       "      <td>0</td>\n",
       "      <td>0</td>\n",
       "      <td>0.982029</td>\n",
       "      <td>0.017971</td>\n",
       "      <td>9068a898a5615d4872b69e1c2e10e04848928a3ba6d324...</td>\n",
       "    </tr>\n",
       "    <tr>\n",
       "      <th>4</th>\n",
       "      <td>1</td>\n",
       "      <td>1</td>\n",
       "      <td>0.009945</td>\n",
       "      <td>0.990055</td>\n",
       "      <td>2c3e96befe8e1f251d7514c16460db6622e21ff5686f42...</td>\n",
       "    </tr>\n",
       "  </tbody>\n",
       "</table>\n",
       "</div>"
      ],
      "text/plain": [
       "   Portfolio  Predictions         0         1  \\\n",
       "0          0            0  0.991264  0.008736   \n",
       "1          1            1  0.000798  0.999202   \n",
       "2          1            1  0.059656  0.940344   \n",
       "3          0            0  0.982029  0.017971   \n",
       "4          1            1  0.009945  0.990055   \n",
       "\n",
       "                                                  id  \n",
       "0  5ed0f843ff258240352f39fb0d0d873ad54cf63f788b2a...  \n",
       "1  68d59e0d490f829027feca49524633f4a7a9c7fea8c551...  \n",
       "2  d08b4ade6550d1dc95c09ff3fe9bf632f5eda50e0c4765...  \n",
       "3  9068a898a5615d4872b69e1c2e10e04848928a3ba6d324...  \n",
       "4  2c3e96befe8e1f251d7514c16460db6622e21ff5686f42...  "
      ]
     },
     "execution_count": 24,
     "metadata": {},
     "output_type": "execute_result"
    }
   ],
   "source": [
    "result1 = pd.DataFrame(y_test.values,columns= ['Portfolio'])\n",
    "\n",
    "result1['Predictions'] = predictions\n",
    "result1[str(logmodel.classes_[0])] = predictions_prob[0:,0]\n",
    "result1[str(logmodel.classes_[1])] = predictions_prob[0:,1]\n",
    "\n",
    "result1['id'] = x_test['id'].tolist()\n",
    "\n",
    "#result1 = pd.concat( [result1,pd.DataFrame(predictions_prob,columns = ['prob0','prob1'])])\n",
    "print(result1[result1['Portfolio']==1]['Predictions'].value_counts())\n",
    "result1.head()"
   ]
  },
  {
   "cell_type": "code",
   "execution_count": 25,
   "metadata": {},
   "outputs": [
    {
     "name": "stdout",
     "output_type": "stream",
     "text": [
      "              precision    recall  f1-score   support\n",
      "\n",
      "           0       0.99      1.00      1.00       166\n",
      "           1       1.00      0.99      1.00       167\n",
      "\n",
      "    accuracy                           1.00       333\n",
      "   macro avg       1.00      1.00      1.00       333\n",
      "weighted avg       1.00      1.00      1.00       333\n",
      "\n"
     ]
    }
   ],
   "source": [
    "print(classification_report(y_test,predictions))"
   ]
  },
  {
   "cell_type": "code",
   "execution_count": 26,
   "metadata": {},
   "outputs": [
    {
     "name": "stdout",
     "output_type": "stream",
     "text": [
      "[[166   0]\n",
      " [  1 166]]\n"
     ]
    }
   ],
   "source": [
    "print(confusion_matrix(y_test, predictions))"
   ]
  },
  {
   "cell_type": "code",
   "execution_count": 27,
   "metadata": {},
   "outputs": [
    {
     "data": {
      "image/png": "[encoded data removed]",
      "text/plain": [
       "<Figure size 432x288 with 1 Axes>"
      ]
     },
     "metadata": {
      "needs_background": "light"
     },
     "output_type": "display_data"
    }
   ],
   "source": [
    "logit_roc_auc = roc_auc_score(y_test, logmodel.predict(x_test[['idade_empresa_anos', 'empsetorcensitariofaixarendapopulacao', 'qt_socios', 'qt_socios_pf', \n",
    "                      'idade_minima_socios', 'qt_socios_st_regular', 'percent_func_genero_masc', \n",
    "                      'meses_ultima_contratacaco', 'max_meses_servicos_all', 'media_meses_servicos', \n",
    "                      'max_meses_servicos', 'min_meses_servicos', 'qt_funcionarios_24meses', \n",
    "                      'tx_crescimento_12meses', 'tx_crescimento_24meses', 'x0_BENS DE CONSUMO', \n",
    "                      'x0_COMERCIO VAREJISTA', 'x0_OUTROS', 'x0_SERVIÇO', 'x0_OUTROS']]))\n",
    "fpr, tpr, thresholds = roc_curve(y_test, logmodel.predict_proba(x_test[['idade_empresa_anos', 'empsetorcensitariofaixarendapopulacao', 'qt_socios', 'qt_socios_pf', \n",
    "                      'idade_minima_socios', 'qt_socios_st_regular', 'percent_func_genero_masc', \n",
    "                      'meses_ultima_contratacaco', 'max_meses_servicos_all', 'media_meses_servicos', \n",
    "                      'max_meses_servicos', 'min_meses_servicos', 'qt_funcionarios_24meses', \n",
    "                      'tx_crescimento_12meses', 'tx_crescimento_24meses', 'x0_BENS DE CONSUMO', \n",
    "                      'x0_COMERCIO VAREJISTA', 'x0_OUTROS', 'x0_SERVIÇO', 'x0_OUTROS']])[:,1])\n",
    "plt.figure()\n",
    "plt.plot(fpr, tpr, label='Logistic Regression (area = %0.2f)' % logit_roc_auc)\n",
    "plt.plot([0, 1], [0, 1],'r--')\n",
    "plt.xlim([0.0, 1.0])\n",
    "plt.ylim([0.0, 1.05])\n",
    "plt.xlabel('False Positive Rate')\n",
    "plt.ylabel('True Positive Rate')\n",
    "plt.title('Receiver operating characteristic')\n",
    "plt.legend(loc=\"lower right\")\n",
    "plt.savefig('Log_ROC')\n",
    "plt.show()"
   ]
  },
  {
   "cell_type": "markdown",
   "metadata": {},
   "source": [
    "## Portfolio1  - Market Predictions"
   ]
  },
  {
   "cell_type": "code",
   "execution_count": 28,
   "metadata": {},
   "outputs": [
    {
     "name": "stdout",
     "output_type": "stream",
     "text": [
      "[1 1 1 ... 0 0 0]\n"
     ]
    }
   ],
   "source": [
    "market_predictions1 = logmodel.predict(market1[['idade_empresa_anos', 'empsetorcensitariofaixarendapopulacao', 'qt_socios', 'qt_socios_pf', \n",
    "                      'idade_minima_socios', 'qt_socios_st_regular', 'percent_func_genero_masc', \n",
    "                      'meses_ultima_contratacaco', 'max_meses_servicos_all', 'media_meses_servicos', \n",
    "                      'max_meses_servicos', 'min_meses_servicos', 'qt_funcionarios_24meses', \n",
    "                      'tx_crescimento_12meses', 'tx_crescimento_24meses', 'x0_BENS DE CONSUMO', \n",
    "                      'x0_COMERCIO VAREJISTA', 'x0_OUTROS', 'x0_SERVIÇO', 'x0_OUTROS']])\n",
    "print(market_predictions1)"
   ]
  },
  {
   "cell_type": "code",
   "execution_count": 29,
   "metadata": {},
   "outputs": [
    {
     "name": "stdout",
     "output_type": "stream",
     "text": [
      "[0 1]\n"
     ]
    }
   ],
   "source": [
    "predictions_prob1 = logmodel.predict_proba(market1[['idade_empresa_anos', 'empsetorcensitariofaixarendapopulacao', 'qt_socios', 'qt_socios_pf', \n",
    "                      'idade_minima_socios', 'qt_socios_st_regular', 'percent_func_genero_masc', \n",
    "                      'meses_ultima_contratacaco', 'max_meses_servicos_all', 'media_meses_servicos', \n",
    "                      'max_meses_servicos', 'min_meses_servicos', 'qt_funcionarios_24meses', \n",
    "                      'tx_crescimento_12meses', 'tx_crescimento_24meses', 'x0_BENS DE CONSUMO', \n",
    "                      'x0_COMERCIO VAREJISTA', 'x0_OUTROS', 'x0_SERVIÇO', 'x0_OUTROS']])\n",
    "print(logmodel.classes_)"
   ]
  },
  {
   "cell_type": "code",
   "execution_count": 279,
   "metadata": {},
   "outputs": [],
   "source": [
    "#logmodel.coef_.shape\n",
    "#print((len(logmodel.coef_[0])))\n",
    "#print((logmodel.intercept_))"
   ]
  },
  {
   "cell_type": "markdown",
   "metadata": {},
   "source": [
    "# Portfolio2- Split Train and Test"
   ]
  },
  {
   "cell_type": "code",
   "execution_count": 30,
   "metadata": {},
   "outputs": [],
   "source": [
    "x_train, x_test, y_train, y_test = train_test_split(portfolio2_data.drop('portfolio',axis=1), \n",
    "                                                    portfolio2_data['portfolio'], test_size=0.30, \n",
    "                                                    random_state=101, stratify=portfolio2_data['portfolio'])"
   ]
  },
  {
   "cell_type": "code",
   "execution_count": 31,
   "metadata": {},
   "outputs": [
    {
     "data": {
      "text/plain": [
       "2    396\n",
       "0    396\n",
       "Name: portfolio, dtype: int64"
      ]
     },
     "execution_count": 31,
     "metadata": {},
     "output_type": "execute_result"
    }
   ],
   "source": [
    "y_train.value_counts()"
   ]
  },
  {
   "cell_type": "markdown",
   "metadata": {},
   "source": [
    "# Portfolio2- Train model and Classification "
   ]
  },
  {
   "cell_type": "code",
   "execution_count": 32,
   "metadata": {},
   "outputs": [
    {
     "name": "stderr",
     "output_type": "stream",
     "text": [
      "/home/marcelo/Documents/codenation_squad4/squad-4-ad-data-science-1/venv/lib/python3.7/site-packages/sklearn/linear_model/logistic.py:432: FutureWarning: Default solver will be changed to 'lbfgs' in 0.22. Specify a solver to silence this warning.\n",
      "  FutureWarning)\n"
     ]
    },
    {
     "data": {
      "text/plain": [
       "LogisticRegression(C=1.0, class_weight=None, dual=False, fit_intercept=True,\n",
       "                   intercept_scaling=1, l1_ratio=None, max_iter=100,\n",
       "                   multi_class='warn', n_jobs=None, penalty='l2',\n",
       "                   random_state=None, solver='warn', tol=0.0001, verbose=0,\n",
       "                   warm_start=False)"
      ]
     },
     "execution_count": 32,
     "metadata": {},
     "output_type": "execute_result"
    }
   ],
   "source": [
    "logmodel = LogisticRegression()\n",
    "logmodel.fit(x_train[['idade_empresa_anos', 'nu_meses_rescencia', 'empsetorcensitariofaixarendapopulacao', \n",
    "                                       'idade_maxima_socios', 'idade_minima_socios', 'qt_ex_funcionarios', 'qt_desligados', \n",
    "                                       'max_meses_servicos_all', 'media_meses_servicos', 'tx_crescimento_12meses', \n",
    "                                       'tx_rotatividade', 'x0_ADMINISTRACAO PUBLICA, DEFESA E SEGURIDADE SOCIAL', \n",
    "                                       'x0_COMERCIO VAREJISTA', 'x0_OUTROS', 'x0_SERVICOS DE ALOJAMENTO/ALIMENTACAO', \n",
    "                                       'x0_ADMINISTRACAO PUBLICA', 'x0_ENTIDADES EMPRESARIAIS', 'x0_OUTROS', 'x0_ALTA',\n",
    "                                       'de_faixa_faturamento_estimado_encode']],y_train)"
   ]
  },
  {
   "cell_type": "code",
   "execution_count": 33,
   "metadata": {},
   "outputs": [
    {
     "name": "stdout",
     "output_type": "stream",
     "text": [
      "[2 0 2 0 2 2 0 0 0 0 0 0 2 2 2 0 2 0 0 2 2 0 0 2 0 2 0 0 2 0 2 0 0 2 0 0 0\n",
      " 0 2 0 0 0 0 2 0 0 2 0 0 2 2 2 2 0 0 2 2 0 0 0 2 0 0 2 0 2 2 2 2 2 0 2 2 2\n",
      " 2 0 0 2 2 2 2 0 0 0 2 2 0 0 0 2 2 0 2 2 2 2 2 2 0 0 2 2 2 2 2 0 0 0 0 0 2\n",
      " 2 0 2 0 0 2 0 0 2 0 2 0 0 2 0 2 0 2 2 2 0 2 2 2 0 0 2 0 2 2 2 2 2 2 2 0 2\n",
      " 2 0 0 0 2 0 2 2 2 2 2 2 2 0 0 0 0 0 2 0 2 0 2 2 0 0 2 2 0 2 0 2 0 0 2 2 2\n",
      " 0 0 2 0 2 0 2 0 0 0 0 2 2 0 0 2 2 0 0 2 0 0 2 0 2 0 2 0 2 0 0 2 0 2 0 2 0\n",
      " 0 2 0 2 2 2 0 0 2 2 0 2 2 2 0 0 2 0 0 0 2 0 2 2 0 0 0 2 2 2 2 2 2 0 2 0 2\n",
      " 2 0 2 0 2 0 2 2 2 0 0 2 0 2 2 0 2 2 2 2 2 0 2 2 0 2 0 0 0 0 0 0 2 2 0 2 0\n",
      " 2 0 2 2 0 2 2 2 2 0 2 0 0 0 2 0 0 0 0 0 2 0 2 2 0 0 2 0 2 0 0 2 0 2 0 2 0\n",
      " 2 0 0 0 0 2 0]\n"
     ]
    }
   ],
   "source": [
    "predictions = logmodel.predict(x_test[['idade_empresa_anos', 'nu_meses_rescencia', 'empsetorcensitariofaixarendapopulacao', \n",
    "                                       'idade_maxima_socios', 'idade_minima_socios', 'qt_ex_funcionarios', 'qt_desligados', \n",
    "                                       'max_meses_servicos_all', 'media_meses_servicos', 'tx_crescimento_12meses', \n",
    "                                       'tx_rotatividade', 'x0_ADMINISTRACAO PUBLICA, DEFESA E SEGURIDADE SOCIAL', \n",
    "                                       'x0_COMERCIO VAREJISTA', 'x0_OUTROS', 'x0_SERVICOS DE ALOJAMENTO/ALIMENTACAO', \n",
    "                                       'x0_ADMINISTRACAO PUBLICA', 'x0_ENTIDADES EMPRESARIAIS', 'x0_OUTROS', 'x0_ALTA',\n",
    "                                       'de_faixa_faturamento_estimado_encode']])\n",
    "print(predictions)"
   ]
  },
  {
   "cell_type": "code",
   "execution_count": 34,
   "metadata": {},
   "outputs": [
    {
     "name": "stdout",
     "output_type": "stream",
     "text": [
      "[0 2]\n"
     ]
    }
   ],
   "source": [
    "predictions_prob = logmodel.predict_proba(x_test[['idade_empresa_anos', 'nu_meses_rescencia', 'empsetorcensitariofaixarendapopulacao', \n",
    "                                       'idade_maxima_socios', 'idade_minima_socios', 'qt_ex_funcionarios', 'qt_desligados', \n",
    "                                       'max_meses_servicos_all', 'media_meses_servicos', 'tx_crescimento_12meses', \n",
    "                                       'tx_rotatividade', 'x0_ADMINISTRACAO PUBLICA, DEFESA E SEGURIDADE SOCIAL', \n",
    "                                       'x0_COMERCIO VAREJISTA', 'x0_OUTROS', 'x0_SERVICOS DE ALOJAMENTO/ALIMENTACAO', \n",
    "                                       'x0_ADMINISTRACAO PUBLICA', 'x0_ENTIDADES EMPRESARIAIS', 'x0_OUTROS', 'x0_ALTA',\n",
    "                                       'de_faixa_faturamento_estimado_encode']])\n",
    "print(logmodel.classes_)\n",
    "#print(predictions_prob)"
   ]
  },
  {
   "cell_type": "markdown",
   "metadata": {},
   "source": [
    "# Portfolio2- Evaluation"
   ]
  },
  {
   "cell_type": "code",
   "execution_count": 35,
   "metadata": {},
   "outputs": [
    {
     "name": "stdout",
     "output_type": "stream",
     "text": [
      "2    170\n",
      "0    170\n",
      "Name: portfolio, dtype: int64\n",
      "2    170\n",
      "0    170\n",
      "Name: portfolio, dtype: int64\n",
      "2    172\n",
      "0    168\n",
      "Name: predictions, dtype: int64\n"
     ]
    },
    {
     "data": {
      "text/plain": [
       "2    170\n",
       "Name: predictions, dtype: int64"
      ]
     },
     "execution_count": 35,
     "metadata": {},
     "output_type": "execute_result"
    }
   ],
   "source": [
    "x_test['predictions'] = predictions\n",
    "print(y_test.value_counts())\n",
    "\n",
    "print(y_test.value_counts())\n",
    "print(x_test['predictions'].value_counts())\n",
    "x_test['portfolio']= y_test\n",
    "\n",
    "x_test[x_test['portfolio'] == 2]['predictions'].value_counts()\n",
    "\n"
   ]
  },
  {
   "cell_type": "code",
   "execution_count": 36,
   "metadata": {},
   "outputs": [
    {
     "name": "stdout",
     "output_type": "stream",
     "text": [
      "2    170\n",
      "Name: Predictions, dtype: int64\n"
     ]
    },
    {
     "data": {
      "text/html": [
       "<div>\n",
       "<style scoped>\n",
       "    .dataframe tbody tr th:only-of-type {\n",
       "        vertical-align: middle;\n",
       "    }\n",
       "\n",
       "    .dataframe tbody tr th {\n",
       "        vertical-align: top;\n",
       "    }\n",
       "\n",
       "    .dataframe thead th {\n",
       "        text-align: right;\n",
       "    }\n",
       "</style>\n",
       "<table border=\"1\" class=\"dataframe\">\n",
       "  <thead>\n",
       "    <tr style=\"text-align: right;\">\n",
       "      <th></th>\n",
       "      <th>Portfolio</th>\n",
       "      <th>Predictions</th>\n",
       "      <th>0</th>\n",
       "      <th>2</th>\n",
       "      <th>id</th>\n",
       "    </tr>\n",
       "  </thead>\n",
       "  <tbody>\n",
       "    <tr>\n",
       "      <th>0</th>\n",
       "      <td>2</td>\n",
       "      <td>2</td>\n",
       "      <td>0.323872</td>\n",
       "      <td>0.676128</td>\n",
       "      <td>e08596116385048de7cb359a2a1c062adaf0a4ef53e880...</td>\n",
       "    </tr>\n",
       "    <tr>\n",
       "      <th>1</th>\n",
       "      <td>0</td>\n",
       "      <td>0</td>\n",
       "      <td>0.979963</td>\n",
       "      <td>0.020037</td>\n",
       "      <td>6128df044aad7fddac81255541c3034554ca56adf6c3e9...</td>\n",
       "    </tr>\n",
       "    <tr>\n",
       "      <th>2</th>\n",
       "      <td>2</td>\n",
       "      <td>2</td>\n",
       "      <td>0.047326</td>\n",
       "      <td>0.952674</td>\n",
       "      <td>e5ec6426b505390657311f5d3042e9e62ea43ebf6df38c...</td>\n",
       "    </tr>\n",
       "    <tr>\n",
       "      <th>3</th>\n",
       "      <td>0</td>\n",
       "      <td>0</td>\n",
       "      <td>0.998207</td>\n",
       "      <td>0.001793</td>\n",
       "      <td>c58f2e5087653c9ca4b4b206051b8d9b93b3bb43645b05...</td>\n",
       "    </tr>\n",
       "    <tr>\n",
       "      <th>4</th>\n",
       "      <td>2</td>\n",
       "      <td>2</td>\n",
       "      <td>0.002164</td>\n",
       "      <td>0.997836</td>\n",
       "      <td>d992145b4bec3f1f48d8878324e7ff803bc9b15241456f...</td>\n",
       "    </tr>\n",
       "  </tbody>\n",
       "</table>\n",
       "</div>"
      ],
      "text/plain": [
       "   Portfolio  Predictions         0         2  \\\n",
       "0          2            2  0.323872  0.676128   \n",
       "1          0            0  0.979963  0.020037   \n",
       "2          2            2  0.047326  0.952674   \n",
       "3          0            0  0.998207  0.001793   \n",
       "4          2            2  0.002164  0.997836   \n",
       "\n",
       "                                                  id  \n",
       "0  e08596116385048de7cb359a2a1c062adaf0a4ef53e880...  \n",
       "1  6128df044aad7fddac81255541c3034554ca56adf6c3e9...  \n",
       "2  e5ec6426b505390657311f5d3042e9e62ea43ebf6df38c...  \n",
       "3  c58f2e5087653c9ca4b4b206051b8d9b93b3bb43645b05...  \n",
       "4  d992145b4bec3f1f48d8878324e7ff803bc9b15241456f...  "
      ]
     },
     "execution_count": 36,
     "metadata": {},
     "output_type": "execute_result"
    }
   ],
   "source": [
    "result2 = pd.DataFrame(y_test.values,columns= ['Portfolio'])\n",
    "\n",
    "result2['Predictions'] = predictions\n",
    "result2[str(logmodel.classes_[0])] = predictions_prob[0:,0]\n",
    "result2[str(logmodel.classes_[1])] = predictions_prob[0:,1]\n",
    "\n",
    "\n",
    "result2['id'] = x_test['id'].tolist()\n",
    "\n",
    "#result1 = pd.concat( [result1,pd.DataFrame(predictions_prob,columns = ['prob0','prob1'])])\n",
    "print(result2[result2['Portfolio']==2]['Predictions'].value_counts())\n",
    "result2.head()"
   ]
  },
  {
   "cell_type": "code",
   "execution_count": 37,
   "metadata": {},
   "outputs": [
    {
     "name": "stdout",
     "output_type": "stream",
     "text": [
      "              precision    recall  f1-score   support\n",
      "\n",
      "           0       1.00      0.99      0.99       170\n",
      "           2       0.99      1.00      0.99       170\n",
      "\n",
      "    accuracy                           0.99       340\n",
      "   macro avg       0.99      0.99      0.99       340\n",
      "weighted avg       0.99      0.99      0.99       340\n",
      "\n"
     ]
    }
   ],
   "source": [
    "print(classification_report(y_test,predictions))"
   ]
  },
  {
   "cell_type": "code",
   "execution_count": 38,
   "metadata": {},
   "outputs": [
    {
     "name": "stdout",
     "output_type": "stream",
     "text": [
      "[[168   2]\n",
      " [  0 170]]\n"
     ]
    }
   ],
   "source": [
    "print(confusion_matrix(y_test, predictions))"
   ]
  },
  {
   "cell_type": "markdown",
   "metadata": {},
   "source": [
    "## Portfolio2  - Market Predictions"
   ]
  },
  {
   "cell_type": "code",
   "execution_count": 39,
   "metadata": {},
   "outputs": [
    {
     "name": "stdout",
     "output_type": "stream",
     "text": [
      "[0 0 2 ... 0 0 0]\n"
     ]
    }
   ],
   "source": [
    "market_predictions2 = logmodel.predict(market1[['idade_empresa_anos', 'nu_meses_rescencia', 'empsetorcensitariofaixarendapopulacao', \n",
    "                                       'idade_maxima_socios', 'idade_minima_socios', 'qt_ex_funcionarios', 'qt_desligados', \n",
    "                                       'max_meses_servicos_all', 'media_meses_servicos', 'tx_crescimento_12meses', \n",
    "                                       'tx_rotatividade', 'x0_ADMINISTRACAO PUBLICA, DEFESA E SEGURIDADE SOCIAL', \n",
    "                                       'x0_COMERCIO VAREJISTA', 'x0_OUTROS', 'x0_SERVICOS DE ALOJAMENTO/ALIMENTACAO', \n",
    "                                       'x0_ADMINISTRACAO PUBLICA', 'x0_ENTIDADES EMPRESARIAIS', 'x0_OUTROS', 'x0_ALTA',\n",
    "                                       'de_faixa_faturamento_estimado_encode']])\n",
    "print(market_predictions2)"
   ]
  },
  {
   "cell_type": "code",
   "execution_count": 40,
   "metadata": {},
   "outputs": [
    {
     "name": "stdout",
     "output_type": "stream",
     "text": [
      "[0 2]\n"
     ]
    }
   ],
   "source": [
    "predictions_prob2 = logmodel.predict_proba(market1[['idade_empresa_anos', 'nu_meses_rescencia', 'empsetorcensitariofaixarendapopulacao', \n",
    "                                       'idade_maxima_socios', 'idade_minima_socios', 'qt_ex_funcionarios', 'qt_desligados', \n",
    "                                       'max_meses_servicos_all', 'media_meses_servicos', 'tx_crescimento_12meses', \n",
    "                                       'tx_rotatividade', 'x0_ADMINISTRACAO PUBLICA, DEFESA E SEGURIDADE SOCIAL', \n",
    "                                       'x0_COMERCIO VAREJISTA', 'x0_OUTROS', 'x0_SERVICOS DE ALOJAMENTO/ALIMENTACAO', \n",
    "                                       'x0_ADMINISTRACAO PUBLICA', 'x0_ENTIDADES EMPRESARIAIS', 'x0_OUTROS', 'x0_ALTA',\n",
    "                                       'de_faixa_faturamento_estimado_encode']])\n",
    "print(logmodel.classes_)"
   ]
  },
  {
   "cell_type": "code",
   "execution_count": 186,
   "metadata": {
    "scrolled": true
   },
   "outputs": [],
   "source": [
    "#logmodel.coef_.shape\n",
    "#print((len(logmodel.coef_[0])))\n",
    "#print((logmodel.intercept_))"
   ]
  },
  {
   "cell_type": "markdown",
   "metadata": {},
   "source": [
    "# Portfolio3 - Split Train and Test "
   ]
  },
  {
   "cell_type": "code",
   "execution_count": 50,
   "metadata": {},
   "outputs": [],
   "source": [
    "x_train, x_test, y_train, y_test = train_test_split(portfolio3_data.drop('portfolio',axis=1), \n",
    "                                                    portfolio3_data['portfolio'], test_size=0.30, \n",
    "                                                    random_state=101, stratify=portfolio3_data['portfolio'])"
   ]
  },
  {
   "cell_type": "code",
   "execution_count": 51,
   "metadata": {},
   "outputs": [
    {
     "data": {
      "text/plain": [
       "0    186\n",
       "3    185\n",
       "Name: portfolio, dtype: int64"
      ]
     },
     "execution_count": 51,
     "metadata": {},
     "output_type": "execute_result"
    }
   ],
   "source": [
    "y_train.value_counts()"
   ]
  },
  {
   "cell_type": "markdown",
   "metadata": {},
   "source": [
    "# Portfolio3- Train model and Classification "
   ]
  },
  {
   "cell_type": "code",
   "execution_count": 52,
   "metadata": {},
   "outputs": [
    {
     "name": "stderr",
     "output_type": "stream",
     "text": [
      "/home/marcelo/Documents/codenation_squad4/squad-4-ad-data-science-1/venv/lib/python3.7/site-packages/sklearn/linear_model/logistic.py:432: FutureWarning: Default solver will be changed to 'lbfgs' in 0.22. Specify a solver to silence this warning.\n",
      "  FutureWarning)\n"
     ]
    },
    {
     "data": {
      "text/plain": [
       "LogisticRegression(C=1.0, class_weight=None, dual=False, fit_intercept=True,\n",
       "                   intercept_scaling=1, l1_ratio=None, max_iter=100,\n",
       "                   multi_class='warn', n_jobs=None, penalty='l2',\n",
       "                   random_state=None, solver='warn', tol=0.0001, verbose=0,\n",
       "                   warm_start=False)"
      ]
     },
     "execution_count": 52,
     "metadata": {},
     "output_type": "execute_result"
    }
   ],
   "source": [
    "logmodel = LogisticRegression()\n",
    "logmodel.fit(x_train[['idade_empresa_anos', 'vl_total_veiculos_pesados_grupo', 'empsetorcensitariofaixarendapopulacao', \n",
    "                      'idade_media_socios', 'idade_maxima_socios', 'idade_minima_socios', 'qt_ex_funcionarios', \n",
    "                      'qt_funcionarios_grupo', 'percent_func_genero_masc', 'total', 'meses_ultima_contratacaco',\n",
    "                      'qt_admitidos_12meses', 'qt_desligados_12meses', 'qt_desligados', 'qt_admitidos', \n",
    "                      'media_meses_servicos_all', 'max_meses_servicos_all', 'min_meses_servicos_all', \n",
    "                      'media_meses_servicos', 'min_meses_servicos', 'qt_funcionarios', 'qt_funcionarios_12meses', \n",
    "                      'qt_funcionarios_24meses', 'tx_rotatividade', 'x0_ADMINISTRACAO PUBLICA, DEFESA E SEGURIDADE SOCIAL',\n",
    "                      'x0_BENS DE CONSUMO', 'x0_COMERCIO VAREJISTA', 'x0_CULTURA, ESPORTE E RECREACAO', 'x0_INDUSTRIA DIGITAL', \n",
    "                      'x0_OUTROS', 'x0_SERVICOS ADMINISTRATIVOS', 'x0_SERVICOS DE EDUCACAO', 'x0_SERVICOS DIVERSOS', 'x0_COMERCIO',\n",
    "                      'x0_INDUSTRIA', 'x0_SERVIÇO', 'x0_ENTIDADES EMPRESARIAIS', 'x0_OUTROS', 'x0_ALTA', 'x0_MEDIA', 'x0_AZUL', \n",
    "                      'de_faixa_faturamento_estimado_encode']],y_train)"
   ]
  },
  {
   "cell_type": "code",
   "execution_count": 53,
   "metadata": {},
   "outputs": [
    {
     "name": "stdout",
     "output_type": "stream",
     "text": [
      "[0 0 0 3 0 0 3 3 3 3 0 3 0 3 0 3 3 3 3 0 3 3 0 0 0 0 0 3 0 0 3 3 0 3 0 3 3\n",
      " 0 3 3 0 0 3 0 3 0 3 3 3 0 0 3 0 3 0 0 0 0 0 3 0 3 0 0 0 0 3 3 3 0 3 3 3 3\n",
      " 0 3 3 0 0 0 0 3 0 3 3 3 0 0 0 0 3 3 0 0 0 0 3 3 3 3 3 0 3 0 0 0 0 0 3 3 3\n",
      " 3 3 0 0 3 0 0 3 0 3 0 3 0 0 3 3 0 3 3 3 3 0 3 0 3 0 3 3 0 0 0 0 3 3 0 0 3\n",
      " 3 0 0 3 3 3 3 0 3 3 3]\n"
     ]
    }
   ],
   "source": [
    "predictions = logmodel.predict(x_test[['idade_empresa_anos', 'vl_total_veiculos_pesados_grupo', 'empsetorcensitariofaixarendapopulacao', \n",
    "                      'idade_media_socios', 'idade_maxima_socios', 'idade_minima_socios', 'qt_ex_funcionarios', \n",
    "                      'qt_funcionarios_grupo', 'percent_func_genero_masc', 'total', 'meses_ultima_contratacaco',\n",
    "                      'qt_admitidos_12meses', 'qt_desligados_12meses', 'qt_desligados', 'qt_admitidos', \n",
    "                      'media_meses_servicos_all', 'max_meses_servicos_all', 'min_meses_servicos_all', \n",
    "                      'media_meses_servicos', 'min_meses_servicos', 'qt_funcionarios', 'qt_funcionarios_12meses', \n",
    "                      'qt_funcionarios_24meses', 'tx_rotatividade', 'x0_ADMINISTRACAO PUBLICA, DEFESA E SEGURIDADE SOCIAL',\n",
    "                      'x0_BENS DE CONSUMO', 'x0_COMERCIO VAREJISTA', 'x0_CULTURA, ESPORTE E RECREACAO', 'x0_INDUSTRIA DIGITAL', \n",
    "                      'x0_OUTROS', 'x0_SERVICOS ADMINISTRATIVOS', 'x0_SERVICOS DE EDUCACAO', 'x0_SERVICOS DIVERSOS', 'x0_COMERCIO',\n",
    "                      'x0_INDUSTRIA', 'x0_SERVIÇO', 'x0_ENTIDADES EMPRESARIAIS', 'x0_OUTROS', 'x0_ALTA', 'x0_MEDIA', 'x0_AZUL', \n",
    "                      'de_faixa_faturamento_estimado_encode']])\n",
    "print(predictions)"
   ]
  },
  {
   "cell_type": "code",
   "execution_count": 54,
   "metadata": {},
   "outputs": [
    {
     "name": "stdout",
     "output_type": "stream",
     "text": [
      "[0 3]\n"
     ]
    }
   ],
   "source": [
    "predictions_prob = logmodel.predict_proba(x_test[['idade_empresa_anos', 'vl_total_veiculos_pesados_grupo', 'empsetorcensitariofaixarendapopulacao', \n",
    "                      'idade_media_socios', 'idade_maxima_socios', 'idade_minima_socios', 'qt_ex_funcionarios', \n",
    "                      'qt_funcionarios_grupo', 'percent_func_genero_masc', 'total', 'meses_ultima_contratacaco',\n",
    "                      'qt_admitidos_12meses', 'qt_desligados_12meses', 'qt_desligados', 'qt_admitidos', \n",
    "                      'media_meses_servicos_all', 'max_meses_servicos_all', 'min_meses_servicos_all', \n",
    "                      'media_meses_servicos', 'min_meses_servicos', 'qt_funcionarios', 'qt_funcionarios_12meses', \n",
    "                      'qt_funcionarios_24meses', 'tx_rotatividade', 'x0_ADMINISTRACAO PUBLICA, DEFESA E SEGURIDADE SOCIAL',\n",
    "                      'x0_BENS DE CONSUMO', 'x0_COMERCIO VAREJISTA', 'x0_CULTURA, ESPORTE E RECREACAO', 'x0_INDUSTRIA DIGITAL', \n",
    "                      'x0_OUTROS', 'x0_SERVICOS ADMINISTRATIVOS', 'x0_SERVICOS DE EDUCACAO', 'x0_SERVICOS DIVERSOS', 'x0_COMERCIO',\n",
    "                      'x0_INDUSTRIA', 'x0_SERVIÇO', 'x0_ENTIDADES EMPRESARIAIS', 'x0_OUTROS', 'x0_ALTA', 'x0_MEDIA', 'x0_AZUL', \n",
    "                      'de_faixa_faturamento_estimado_encode']])\n",
    "print(logmodel.classes_)\n",
    "#print(predictions_prob)"
   ]
  },
  {
   "cell_type": "markdown",
   "metadata": {},
   "source": [
    "# Portfolio3 - Evaluation"
   ]
  },
  {
   "cell_type": "code",
   "execution_count": 55,
   "metadata": {},
   "outputs": [
    {
     "name": "stdout",
     "output_type": "stream",
     "text": [
      "3    80\n",
      "0    79\n",
      "Name: portfolio, dtype: int64\n",
      "3    81\n",
      "0    78\n",
      "Name: predictions, dtype: int64\n"
     ]
    }
   ],
   "source": [
    "x_test['predictions'] = predictions\n",
    "y_test.value_counts()\n",
    "print(y_test.value_counts())\n",
    "print(x_test['predictions'].value_counts())\n",
    "#portfolio2_teste[portfolio2_teste['portfolio'] == 2]['predictions'].value_counts()\n"
   ]
  },
  {
   "cell_type": "code",
   "execution_count": 56,
   "metadata": {},
   "outputs": [
    {
     "name": "stdout",
     "output_type": "stream",
     "text": [
      "3    80\n",
      "Name: Predictions, dtype: int64\n"
     ]
    },
    {
     "data": {
      "text/html": [
       "<div>\n",
       "<style scoped>\n",
       "    .dataframe tbody tr th:only-of-type {\n",
       "        vertical-align: middle;\n",
       "    }\n",
       "\n",
       "    .dataframe tbody tr th {\n",
       "        vertical-align: top;\n",
       "    }\n",
       "\n",
       "    .dataframe thead th {\n",
       "        text-align: right;\n",
       "    }\n",
       "</style>\n",
       "<table border=\"1\" class=\"dataframe\">\n",
       "  <thead>\n",
       "    <tr style=\"text-align: right;\">\n",
       "      <th></th>\n",
       "      <th>Portfolio</th>\n",
       "      <th>Predictions</th>\n",
       "      <th>0</th>\n",
       "      <th>3</th>\n",
       "      <th>id</th>\n",
       "    </tr>\n",
       "  </thead>\n",
       "  <tbody>\n",
       "    <tr>\n",
       "      <th>0</th>\n",
       "      <td>0</td>\n",
       "      <td>0</td>\n",
       "      <td>0.998995</td>\n",
       "      <td>0.001005</td>\n",
       "      <td>1c304c5ed9c9753dd9769fa5d5a51e8353b363dd9664f6...</td>\n",
       "    </tr>\n",
       "    <tr>\n",
       "      <th>1</th>\n",
       "      <td>0</td>\n",
       "      <td>0</td>\n",
       "      <td>0.999604</td>\n",
       "      <td>0.000396</td>\n",
       "      <td>3e2c60653497cd65eec98f4c6e836ddc13130ea4eace77...</td>\n",
       "    </tr>\n",
       "    <tr>\n",
       "      <th>2</th>\n",
       "      <td>0</td>\n",
       "      <td>0</td>\n",
       "      <td>0.722039</td>\n",
       "      <td>0.277961</td>\n",
       "      <td>5d20016e54198c5ad40ee0fe2b982be4fcceb726e55c7c...</td>\n",
       "    </tr>\n",
       "    <tr>\n",
       "      <th>3</th>\n",
       "      <td>3</td>\n",
       "      <td>3</td>\n",
       "      <td>0.029028</td>\n",
       "      <td>0.970972</td>\n",
       "      <td>001f6dfaefdbbe31deedb00996c8a87dd90342690611d6...</td>\n",
       "    </tr>\n",
       "    <tr>\n",
       "      <th>4</th>\n",
       "      <td>0</td>\n",
       "      <td>0</td>\n",
       "      <td>0.998699</td>\n",
       "      <td>0.001301</td>\n",
       "      <td>401bf3f6175b8160584332108d4e6a415f323b1d5dd5fd...</td>\n",
       "    </tr>\n",
       "  </tbody>\n",
       "</table>\n",
       "</div>"
      ],
      "text/plain": [
       "   Portfolio  Predictions         0         3  \\\n",
       "0          0            0  0.998995  0.001005   \n",
       "1          0            0  0.999604  0.000396   \n",
       "2          0            0  0.722039  0.277961   \n",
       "3          3            3  0.029028  0.970972   \n",
       "4          0            0  0.998699  0.001301   \n",
       "\n",
       "                                                  id  \n",
       "0  1c304c5ed9c9753dd9769fa5d5a51e8353b363dd9664f6...  \n",
       "1  3e2c60653497cd65eec98f4c6e836ddc13130ea4eace77...  \n",
       "2  5d20016e54198c5ad40ee0fe2b982be4fcceb726e55c7c...  \n",
       "3  001f6dfaefdbbe31deedb00996c8a87dd90342690611d6...  \n",
       "4  401bf3f6175b8160584332108d4e6a415f323b1d5dd5fd...  "
      ]
     },
     "execution_count": 56,
     "metadata": {},
     "output_type": "execute_result"
    }
   ],
   "source": [
    "result3 = pd.DataFrame(y_test.values,columns= ['Portfolio'])\n",
    "result3['Predictions'] = predictions\n",
    "result3[str(logmodel.classes_[0])] = predictions_prob[0:,0]\n",
    "result3[str(logmodel.classes_[1])] = predictions_prob[0:,1]\n",
    "\n",
    "result3['id'] = x_test['id'].tolist()\n",
    "\n",
    "\n",
    "#result1 = pd.concat( [result1,pd.DataFrame(predictions_prob,columns = ['prob0','prob1'])])\n",
    "print(result3[result3['Portfolio']==3]['Predictions'].value_counts())\n",
    "result3.head()"
   ]
  },
  {
   "cell_type": "code",
   "execution_count": 57,
   "metadata": {},
   "outputs": [
    {
     "name": "stdout",
     "output_type": "stream",
     "text": [
      "              precision    recall  f1-score   support\n",
      "\n",
      "           0       1.00      0.99      0.99        79\n",
      "           3       0.99      1.00      0.99        80\n",
      "\n",
      "    accuracy                           0.99       159\n",
      "   macro avg       0.99      0.99      0.99       159\n",
      "weighted avg       0.99      0.99      0.99       159\n",
      "\n"
     ]
    }
   ],
   "source": [
    "print(classification_report(y_test,predictions))"
   ]
  },
  {
   "cell_type": "code",
   "execution_count": 58,
   "metadata": {},
   "outputs": [
    {
     "name": "stdout",
     "output_type": "stream",
     "text": [
      "[[78  1]\n",
      " [ 0 80]]\n"
     ]
    }
   ],
   "source": [
    "print(confusion_matrix(y_test, predictions))"
   ]
  },
  {
   "cell_type": "markdown",
   "metadata": {},
   "source": [
    "## Portfolio3  - Market Predictions"
   ]
  },
  {
   "cell_type": "code",
   "execution_count": 59,
   "metadata": {},
   "outputs": [
    {
     "name": "stdout",
     "output_type": "stream",
     "text": [
      "[0 0 0 ... 0 0 0]\n"
     ]
    }
   ],
   "source": [
    "market_predictions3 = logmodel.predict(market1[['idade_empresa_anos', 'vl_total_veiculos_pesados_grupo', 'empsetorcensitariofaixarendapopulacao', \n",
    "                      'idade_media_socios', 'idade_maxima_socios', 'idade_minima_socios', 'qt_ex_funcionarios', \n",
    "                      'qt_funcionarios_grupo', 'percent_func_genero_masc', 'total', 'meses_ultima_contratacaco',\n",
    "                      'qt_admitidos_12meses', 'qt_desligados_12meses', 'qt_desligados', 'qt_admitidos', \n",
    "                      'media_meses_servicos_all', 'max_meses_servicos_all', 'min_meses_servicos_all', \n",
    "                      'media_meses_servicos', 'min_meses_servicos', 'qt_funcionarios', 'qt_funcionarios_12meses', \n",
    "                      'qt_funcionarios_24meses', 'tx_rotatividade', 'x0_ADMINISTRACAO PUBLICA, DEFESA E SEGURIDADE SOCIAL',\n",
    "                      'x0_BENS DE CONSUMO', 'x0_COMERCIO VAREJISTA', 'x0_CULTURA, ESPORTE E RECREACAO', 'x0_INDUSTRIA DIGITAL', \n",
    "                      'x0_OUTROS', 'x0_SERVICOS ADMINISTRATIVOS', 'x0_SERVICOS DE EDUCACAO', 'x0_SERVICOS DIVERSOS', 'x0_COMERCIO',\n",
    "                      'x0_INDUSTRIA', 'x0_SERVIÇO', 'x0_ENTIDADES EMPRESARIAIS', 'x0_OUTROS', 'x0_ALTA', 'x0_MEDIA', 'x0_AZUL', \n",
    "                      'de_faixa_faturamento_estimado_encode']])\n",
    "print(market_predictions3)"
   ]
  },
  {
   "cell_type": "code",
   "execution_count": 60,
   "metadata": {},
   "outputs": [
    {
     "name": "stdout",
     "output_type": "stream",
     "text": [
      "[0 3]\n"
     ]
    }
   ],
   "source": [
    "predictions_prob3 = logmodel.predict_proba(market1[['idade_empresa_anos', 'vl_total_veiculos_pesados_grupo', 'empsetorcensitariofaixarendapopulacao', \n",
    "                      'idade_media_socios', 'idade_maxima_socios', 'idade_minima_socios', 'qt_ex_funcionarios', \n",
    "                      'qt_funcionarios_grupo', 'percent_func_genero_masc', 'total', 'meses_ultima_contratacaco',\n",
    "                      'qt_admitidos_12meses', 'qt_desligados_12meses', 'qt_desligados', 'qt_admitidos', \n",
    "                      'media_meses_servicos_all', 'max_meses_servicos_all', 'min_meses_servicos_all', \n",
    "                      'media_meses_servicos', 'min_meses_servicos', 'qt_funcionarios', 'qt_funcionarios_12meses', \n",
    "                      'qt_funcionarios_24meses', 'tx_rotatividade', 'x0_ADMINISTRACAO PUBLICA, DEFESA E SEGURIDADE SOCIAL',\n",
    "                      'x0_BENS DE CONSUMO', 'x0_COMERCIO VAREJISTA', 'x0_CULTURA, ESPORTE E RECREACAO', 'x0_INDUSTRIA DIGITAL', \n",
    "                      'x0_OUTROS', 'x0_SERVICOS ADMINISTRATIVOS', 'x0_SERVICOS DE EDUCACAO', 'x0_SERVICOS DIVERSOS', 'x0_COMERCIO',\n",
    "                      'x0_INDUSTRIA', 'x0_SERVIÇO', 'x0_ENTIDADES EMPRESARIAIS', 'x0_OUTROS', 'x0_ALTA', 'x0_MEDIA', 'x0_AZUL', \n",
    "                      'de_faixa_faturamento_estimado_encode']])\n",
    "print(logmodel.classes_)"
   ]
  },
  {
   "cell_type": "code",
   "execution_count": 347,
   "metadata": {},
   "outputs": [],
   "source": [
    "#logmodel.coef_.shape\n",
    "#print((len(logmodel.coef_[0])))\n",
    "#print((logmodel.intercept_))"
   ]
  },
  {
   "cell_type": "markdown",
   "metadata": {},
   "source": [
    "# ANALYSIS\n",
    "\n",
    "* Portfolio1 - 1987 clients\n",
    "* Portfolio2 - 10071 clients\n",
    "* Portfolio3 - 5388 clients\n"
   ]
  },
  {
   "cell_type": "code",
   "execution_count": 61,
   "metadata": {},
   "outputs": [],
   "source": [
    "final_result = pd.DataFrame(market1['id'].tolist(),columns= ['id'])\n",
    "final_result['Prediction_Portf1'] = market_predictions1\n",
    "final_result['Prediction_Portf2'] = market_predictions2\n",
    "final_result['Prediction_Portf3'] = market_predictions3\n",
    "\n",
    "final_result['Prob_not_Portf1'] = predictions_prob1[0:,0]\n",
    "final_result['Prob_Portf1'] = predictions_prob1[0:,1]\n",
    "\n",
    "final_result['Prob_not_Portf2'] = predictions_prob2[0:,0]\n",
    "final_result['Prob_Portf2'] = predictions_prob2[0:,1]\n",
    "\n",
    "final_result['Prob_not_Portf3'] = predictions_prob3[0:,0]\n",
    "final_result['Prob_Portf3']= predictions_prob3[0:,1]\n"
   ]
  },
  {
   "cell_type": "code",
   "execution_count": 70,
   "metadata": {},
   "outputs": [],
   "source": [
    "final_result.sort_values(['Prob_Portf1'], ascending=[False]).to_csv(\"rank1\")\n",
    "final_result.sort_values(['Prob_Portf2'], ascending=[False]).to_csv(\"rank2\")\n",
    "final_result.sort_values(['Prob_Portf3'], ascending=[False]).to_csv(\"rank3\")"
   ]
  },
  {
   "cell_type": "code",
   "execution_count": null,
   "metadata": {},
   "outputs": [],
   "source": []
  }
 ],
 "metadata": {
  "kernelspec": {
   "display_name": "Python 3",
   "language": "python",
   "name": "python3"
  },
  "language_info": {
   "codemirror_mode": {
    "name": "ipython",
    "version": 3
   },
   "file_extension": ".py",
   "mimetype": "text/x-python",
   "name": "python",
   "nbconvert_exporter": "python",
   "pygments_lexer": "ipython3",
   "version": "3.7.3"
  }
 },
 "nbformat": 4,
 "nbformat_minor": 2
}

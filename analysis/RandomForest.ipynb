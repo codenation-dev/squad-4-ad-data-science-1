{
 "cells": [
  {
   "cell_type": "code",
   "execution_count": 1,
   "metadata": {},
   "outputs": [],
   "source": [
    "import numpy as np\n",
    "import matplotlib\n",
    "import pandas as pd\n",
    "import matplotlib.pyplot as plt\n",
    "import seaborn as sns\n",
    "from string import ascii_letters\n",
    "import time\n",
    "from sklearn.ensemble import RandomForestRegressor"
   ]
  },
  {
   "cell_type": "code",
   "execution_count": 2,
   "metadata": {},
   "outputs": [],
   "source": [
    "market=pd.read_csv(\"estaticos_market.csv\")\n",
    "portfolio_01=pd.read_csv('estaticos_portfolio1.csv')\n",
    "portfolio_02=pd.read_csv('estaticos_portfolio2.csv')\n",
    "portfolio_03=pd.read_csv('estaticos_portfolio3.csv')"
   ]
  },
  {
   "cell_type": "code",
   "execution_count": 159,
   "metadata": {},
   "outputs": [
    {
     "data": {
      "text/plain": [
       "(462298, 169)"
      ]
     },
     "execution_count": 159,
     "metadata": {},
     "output_type": "execute_result"
    }
   ],
   "source": [
    "market=market.drop(['Unnamed: 0'],axis=1)\n",
    "market_fill=market.count()\n",
    "market=market[market_fill[market_fill>0].index]\n",
    "market_unique=market.T.apply(lambda x: x.nunique(), axis=1)\n",
    "list_one=market_unique.index[market_unique.values==1]\n",
    "market=market[market_unique[market_unique>1].index]\n",
    "market.shape"
   ]
  },
  {
   "cell_type": "code",
   "execution_count": 160,
   "metadata": {},
   "outputs": [],
   "source": [
    "bool_var=market.dtypes[market.dtypes=='bool'].index\n",
    "for i in bool_var: \n",
    "    market.loc[market[i]==True,i] = 1\n",
    "    market.loc[market[i]==False,i] = 0"
   ]
  },
  {
   "cell_type": "code",
   "execution_count": 161,
   "metadata": {},
   "outputs": [],
   "source": [
    "list_new_bool=('fl_spa',\n",
    "                   'fl_antt',\n",
    "                   'fl_veiculo',\n",
    "                   'fl_optante_simples',\n",
    "                   'fl_optante_simei',\n",
    "                   'fl_simples_irregular',\n",
    "                   'fl_passivel_iss')\n",
    "for i in list_new_bool: \n",
    "    market.loc[market[i]==True,i] = 1\n",
    "    market.loc[market[i]==False,i] = 0"
   ]
  },
  {
   "cell_type": "code",
   "execution_count": 162,
   "metadata": {},
   "outputs": [],
   "source": [
    "market.loc[market['fl_rm']=='SIM','fl_rm']=1\n",
    "market.loc[market['fl_rm']=='NAO','fl_rm']=0"
   ]
  },
  {
   "cell_type": "code",
   "execution_count": 163,
   "metadata": {},
   "outputs": [],
   "source": [
    "market.loc[market['de_faixa_faturamento_estimado_grupo']=='ATE R$ 81.000,00',\n",
    "           'de_faixa_faturamento_estimado_grupo']=0\n",
    "market.loc[market['de_faixa_faturamento_estimado_grupo']=='DE R$ 81.000,01 A R$ 360.000,00',\n",
    "           'de_faixa_faturamento_estimado_grupo']=1\n",
    "market.loc[market['de_faixa_faturamento_estimado_grupo']=='DE R$ 360.000,01 A R$ 1.500.000,00',\n",
    "           'de_faixa_faturamento_estimado_grupo']=2\n",
    "market.loc[market['de_faixa_faturamento_estimado_grupo']=='DE R$ 1.500.000,01 A R$ 4.800.000,00',\n",
    "           'de_faixa_faturamento_estimado_grupo']=3\n",
    "\n",
    "market.loc[market['de_faixa_faturamento_estimado_grupo']=='DE R$ 4.800.000,01 A R$ 10.000.000,00',\n",
    "           'de_faixa_faturamento_estimado_grupo']=4\n",
    "\n",
    "market.loc[market['de_faixa_faturamento_estimado_grupo']=='DE R$ 10.000.000,01 A R$ 30.000.000,00',\n",
    "           'de_faixa_faturamento_estimado_grupo']=5\n",
    "\n",
    "market.loc[market['de_faixa_faturamento_estimado_grupo']=='DE R$ 30.000.000,01 A R$ 100.000.000,00',\n",
    "           'de_faixa_faturamento_estimado_grupo']=6\n",
    "\n",
    "market.loc[market['de_faixa_faturamento_estimado_grupo']=='DE R$ 100.000.000,01 A R$ 300.000.000,00',\n",
    "           'de_faixa_faturamento_estimado_grupo']=7\n",
    "\n",
    "market.loc[market['de_faixa_faturamento_estimado_grupo']=='DE R$ 300.000.000,01 A R$ 500.000.000,00',\n",
    "           'de_faixa_faturamento_estimado_grupo']=8\n",
    "\n",
    "market.loc[market['de_faixa_faturamento_estimado_grupo']=='DE R$ 500.000.000,01 A 1 BILHAO DE REAIS',\n",
    "           'de_faixa_faturamento_estimado_grupo']=9\n",
    "\n",
    "market.loc[market['de_faixa_faturamento_estimado_grupo']=='ACIMA DE 1 BILHAO DE REAIS',\n",
    "           'de_faixa_faturamento_estimado_grupo']=10"
   ]
  },
  {
   "cell_type": "code",
   "execution_count": 164,
   "metadata": {},
   "outputs": [],
   "source": [
    "market.loc[market['de_faixa_faturamento_estimado']=='ATE R$ 81.000,00',\n",
    "           'de_faixa_faturamento_estimado']=0\n",
    "market.loc[market['de_faixa_faturamento_estimado']=='DE R$ 81.000,01 A R$ 360.000,00',\n",
    "           'de_faixa_faturamento_estimado']=1\n",
    "market.loc[market['de_faixa_faturamento_estimado']=='DE R$ 360.000,01 A R$ 1.500.000,00',\n",
    "           'de_faixa_faturamento_estimado']=2\n",
    "market.loc[market['de_faixa_faturamento_estimado']=='DE R$ 1.500.000,01 A R$ 4.800.000,00',\n",
    "           'de_faixa_faturamento_estimado']=3\n",
    "\n",
    "market.loc[market['de_faixa_faturamento_estimado']=='DE R$ 4.800.000,01 A R$ 10.000.000,00',\n",
    "           'de_faixa_faturamento_estimado']=4\n",
    "\n",
    "market.loc[market['de_faixa_faturamento_estimado']=='DE R$ 10.000.000,01 A R$ 30.000.000,00',\n",
    "           'de_faixa_faturamento_estimado']=5\n",
    "\n",
    "market.loc[market['de_faixa_faturamento_estimado']=='DE R$ 30.000.000,01 A R$ 100.000.000,00',\n",
    "           'de_faixa_faturamento_estimado']=6\n",
    "\n",
    "market.loc[market['de_faixa_faturamento_estimado']=='DE R$ 100.000.000,01 A R$ 300.000.000,00',\n",
    "           'de_faixa_faturamento_estimado']=7\n",
    "\n",
    "market.loc[market['de_faixa_faturamento_estimado']=='DE R$ 300.000.000,01 A R$ 500.000.000,00',\n",
    "           'de_faixa_faturamento_estimado']=8\n",
    "\n",
    "market.loc[market['de_faixa_faturamento_estimado']=='DE R$ 500.000.000,01 A 1 BILHAO DE REAIS',\n",
    "           'de_faixa_faturamento_estimado']=9\n",
    "\n",
    "market.loc[market['de_faixa_faturamento_estimado']=='ACIMA DE 1 BILHAO DE REAIS',\n",
    "           'de_faixa_faturamento_estimado']=10\n",
    "\n",
    "market.loc[market['de_faixa_faturamento_estimado']=='SEM INFORMACAO',\n",
    "           'de_faixa_faturamento_estimado']=np.nan"
   ]
  },
  {
   "cell_type": "code",
   "execution_count": 165,
   "metadata": {},
   "outputs": [],
   "source": [
    "market.loc[market['idade_emp_cat']=='<= 1',\n",
    "           'idade_emp_cat']=0\n",
    "market.loc[market['idade_emp_cat']=='1 a 5',\n",
    "           'idade_emp_cat']=1\n",
    "market.loc[market['idade_emp_cat']=='5 a 10',\n",
    "           'idade_emp_cat']=2\n",
    "market.loc[market['idade_emp_cat']=='10 a 15',\n",
    "           'idade_emp_cat']=3\n",
    "market.loc[market['idade_emp_cat']=='15 a 20',\n",
    "           'idade_emp_cat']=4\n",
    "market.loc[market['idade_emp_cat']=='> 20',\n",
    "           'idade_emp_cat']=5"
   ]
  },
  {
   "cell_type": "code",
   "execution_count": 166,
   "metadata": {},
   "outputs": [],
   "source": [
    "market.loc[market['de_saude_rescencia']=='ATE 3 MESES',\n",
    "           'de_saude_rescencia']=0\n",
    "market.loc[market['de_saude_rescencia']=='ATE 6 MESES',\n",
    "           'de_saude_rescencia']=1\n",
    "market.loc[market['de_saude_rescencia']=='ATE 1 ANO',\n",
    "           'de_saude_rescencia']=2\n",
    "market.loc[market['de_saude_rescencia']=='ACIMA DE 1 ANO',\n",
    "           'de_saude_rescencia']=3\n",
    "market.loc[market['de_saude_rescencia']=='SEM INFORMACAO',\n",
    "           'de_saude_rescencia']=np.nan"
   ]
  },
  {
   "cell_type": "code",
   "execution_count": 167,
   "metadata": {},
   "outputs": [],
   "source": [
    "market.loc[market['de_nivel_atividade']=='MUITO BAIXA',\n",
    "           'de_nivel_atividade']=0\n",
    "market.loc[market['de_nivel_atividade']=='BAIXA',\n",
    "           'de_nivel_atividade']=1\n",
    "market.loc[market['de_nivel_atividade']=='MEDIA',\n",
    "           'de_nivel_atividade']=2\n",
    "market.loc[market['de_nivel_atividade']=='ALTA',\n",
    "           'de_nivel_atividade']=3"
   ]
  },
  {
   "cell_type": "code",
   "execution_count": 168,
   "metadata": {},
   "outputs": [],
   "source": [
    "market.loc[market['de_indicador_telefone']=='BOA',\n",
    "           'de_indicador_telefone']=1\n",
    "market.loc[market['de_indicador_telefone']=='INDETERMINADA',\n",
    "           'de_indicador_telefone']=np.nan"
   ]
  },
  {
   "cell_type": "code",
   "execution_count": 169,
   "metadata": {},
   "outputs": [],
   "source": [
    "test=market['dt_situacao'].dropna()"
   ]
  },
  {
   "cell_type": "code",
   "execution_count": 170,
   "metadata": {},
   "outputs": [],
   "source": [
    "test=test.astype('datetime64[ns]')"
   ]
  },
  {
   "cell_type": "code",
   "execution_count": 171,
   "metadata": {},
   "outputs": [],
   "source": [
    "for i in test.index:\n",
    "    test[i]=test[i].to_pydatetime().toordinal()\n",
    "market['dt_situacao']=test"
   ]
  },
  {
   "cell_type": "code",
   "execution_count": 172,
   "metadata": {},
   "outputs": [],
   "source": [
    "market['de_faixa_faturamento_estimado_grupo']=pd.to_numeric(market['de_faixa_faturamento_estimado_grupo'])\n",
    "market['de_faixa_faturamento_estimado']=pd.to_numeric(market['de_faixa_faturamento_estimado'])\n",
    "market['fl_passivel_iss']=pd.to_numeric(market['fl_passivel_iss'])\n",
    "market['fl_simples_irregular']=pd.to_numeric(market['fl_simples_irregular'])\n",
    "market['de_indicador_telefone']=pd.to_numeric(market['de_indicador_telefone'])\n",
    "market['de_nivel_atividade']=pd.to_numeric(market['de_nivel_atividade'])\n",
    "market['de_saude_rescencia']=pd.to_numeric(market['de_saude_rescencia'])\n",
    "market['fl_optante_simei']=pd.to_numeric(market['fl_optante_simei'])\n",
    "market['fl_optante_simples']=pd.to_numeric(market['fl_optante_simples'])\n",
    "market['fl_veiculo']=pd.to_numeric(market['fl_veiculo'])\n",
    "market['fl_antt']=pd.to_numeric(market['fl_antt'])\n",
    "market['fl_spa']=pd.to_numeric(market['fl_spa'])\n",
    "market['dt_situacao']=pd.to_numeric(market['dt_situacao'])"
   ]
  },
  {
   "cell_type": "markdown",
   "metadata": {},
   "source": [
    "___"
   ]
  },
  {
   "cell_type": "markdown",
   "metadata": {},
   "source": [
    "### > choose portfolio"
   ]
  },
  {
   "cell_type": "code",
   "execution_count": 209,
   "metadata": {},
   "outputs": [],
   "source": [
    "#input_portfolio=portfolio_01\n",
    "#input_portfolio=portfolio_02\n",
    "input_portfolio=portfolio_03"
   ]
  },
  {
   "cell_type": "markdown",
   "metadata": {},
   "source": [
    "### > choose threshold for 'nan' filter"
   ]
  },
  {
   "cell_type": "code",
   "execution_count": 174,
   "metadata": {},
   "outputs": [],
   "source": [
    "threshold=0.8"
   ]
  },
  {
   "cell_type": "code",
   "execution_count": 175,
   "metadata": {},
   "outputs": [
    {
     "data": {
      "text/plain": [
       "(462298, 41)"
      ]
     },
     "execution_count": 175,
     "metadata": {},
     "output_type": "execute_result"
    }
   ],
   "source": [
    "count_market=market.count()\n",
    "count_market_max=count_market['id']\n",
    "threshsold_n=round(threshold*count_market_max)\n",
    "market=market[count_market[count_market>threshsold_n].index]\n",
    "market.shape"
   ]
  },
  {
   "cell_type": "markdown",
   "metadata": {},
   "source": [
    " One hot encoding for the remaining 'object' varaibles"
   ]
  },
  {
   "cell_type": "code",
   "execution_count": 176,
   "metadata": {},
   "outputs": [
    {
     "data": {
      "text/plain": [
       "(462298, 381)"
      ]
     },
     "execution_count": 176,
     "metadata": {},
     "output_type": "execute_result"
    }
   ],
   "source": [
    "market=pd.concat([market,pd.get_dummies(market['de_natureza_juridica'])],axis=1).drop(['de_natureza_juridica'],axis=1)\n",
    "market=pd.concat([market,pd.get_dummies(market['sg_uf'])],axis=1).drop(['sg_uf'],axis=1)\n",
    "market=pd.concat([market,pd.get_dummies(market['natureza_juridica_macro'])],axis=1).drop(['natureza_juridica_macro'],axis=1)\n",
    "market=pd.concat([market,pd.get_dummies(market['de_ramo'])],axis=1).drop(['de_ramo'],axis=1)\n",
    "market=pd.concat([market,pd.get_dummies(market['setor'])],axis=1).drop(['setor'],axis=1)\n",
    "market=pd.concat([market,pd.get_dummies(market['nm_divisao'])],axis=1).drop(['nm_divisao'],axis=1)\n",
    "market=pd.concat([market,pd.get_dummies(market['nm_segmento'])],axis=1).drop(['nm_segmento'],axis=1)\n",
    "market=pd.concat([market,pd.get_dummies(market['sg_uf_matriz'],prefix='matriz')],axis=1).drop(['sg_uf_matriz'],axis=1)\n",
    "market=pd.concat([market,pd.get_dummies(market['de_saude_tributaria'])],axis=1).drop(['de_saude_tributaria'],axis=1)\n",
    "market=pd.concat([market,pd.get_dummies(market['nm_meso_regiao'])],axis=1).drop(['nm_meso_regiao'],axis=1)\n",
    "market=pd.concat([market,pd.get_dummies(market['nm_micro_regiao'])],axis=1).drop(['nm_micro_regiao'],axis=1)\n",
    "market.shape"
   ]
  },
  {
   "cell_type": "markdown",
   "metadata": {},
   "source": [
    " include target column"
   ]
  },
  {
   "cell_type": "code",
   "execution_count": 210,
   "metadata": {},
   "outputs": [],
   "source": [
    "index_True=market[market['id'].isin(input_portfolio['id'].values)].index"
   ]
  },
  {
   "cell_type": "code",
   "execution_count": 211,
   "metadata": {},
   "outputs": [],
   "source": [
    "market.loc[:,'target']=0\n",
    "market.loc[index_True,'target']=1"
   ]
  },
  {
   "cell_type": "code",
   "execution_count": 203,
   "metadata": {},
   "outputs": [
    {
     "ename": "TypeError",
     "evalue": "Empty 'DataFrame': no numeric data to plot",
     "output_type": "error",
     "traceback": [
      "\u001b[0;31m---------------------------------------------------------------------------\u001b[0m",
      "\u001b[0;31mTypeError\u001b[0m                                 Traceback (most recent call last)",
      "\u001b[0;32m<ipython-input-203-e7af245eb21c>\u001b[0m in \u001b[0;36m<module>\u001b[0;34m\u001b[0m\n\u001b[1;32m      1\u001b[0m \u001b[0msum_nan\u001b[0m\u001b[0;34m=\u001b[0m\u001b[0mmarket\u001b[0m\u001b[0;34m.\u001b[0m\u001b[0misnull\u001b[0m\u001b[0;34m(\u001b[0m\u001b[0;34m)\u001b[0m\u001b[0;34m.\u001b[0m\u001b[0msum\u001b[0m\u001b[0;34m(\u001b[0m\u001b[0maxis\u001b[0m \u001b[0;34m=\u001b[0m \u001b[0;36m0\u001b[0m\u001b[0;34m)\u001b[0m\u001b[0;34m\u001b[0m\u001b[0;34m\u001b[0m\u001b[0m\n\u001b[1;32m      2\u001b[0m \u001b[0msum_nan\u001b[0m\u001b[0;34m=\u001b[0m\u001b[0msum_nan\u001b[0m\u001b[0;34m[\u001b[0m\u001b[0msum_nan\u001b[0m\u001b[0;34m>\u001b[0m\u001b[0;36m0\u001b[0m\u001b[0;34m]\u001b[0m\u001b[0;34m\u001b[0m\u001b[0;34m\u001b[0m\u001b[0m\n\u001b[0;32m----> 3\u001b[0;31m \u001b[0msum_nan\u001b[0m\u001b[0;34m.\u001b[0m\u001b[0mplot\u001b[0m\u001b[0;34m.\u001b[0m\u001b[0mbar\u001b[0m\u001b[0;34m(\u001b[0m\u001b[0;34m)\u001b[0m\u001b[0;34m\u001b[0m\u001b[0;34m\u001b[0m\u001b[0m\n\u001b[0m",
      "\u001b[0;32m~/codenation/final_project/venv/lib/python3.7/site-packages/pandas/plotting/_core.py\u001b[0m in \u001b[0;36mbar\u001b[0;34m(self, **kwds)\u001b[0m\n\u001b[1;32m   2782\u001b[0m         \u001b[0maxes\u001b[0m \u001b[0;34m:\u001b[0m \u001b[0;34m:\u001b[0m\u001b[0;32mclass\u001b[0m\u001b[0;34m:\u001b[0m\u001b[0;31m`\u001b[0m\u001b[0mmatplotlib\u001b[0m\u001b[0;34m.\u001b[0m\u001b[0maxes\u001b[0m\u001b[0;34m.\u001b[0m\u001b[0mAxes\u001b[0m\u001b[0;31m`\u001b[0m \u001b[0;32mor\u001b[0m \u001b[0mnumpy\u001b[0m\u001b[0;34m.\u001b[0m\u001b[0mndarray\u001b[0m \u001b[0mof\u001b[0m \u001b[0mthem\u001b[0m\u001b[0;34m\u001b[0m\u001b[0;34m\u001b[0m\u001b[0m\n\u001b[1;32m   2783\u001b[0m         \"\"\"\n\u001b[0;32m-> 2784\u001b[0;31m         \u001b[0;32mreturn\u001b[0m \u001b[0mself\u001b[0m\u001b[0;34m(\u001b[0m\u001b[0mkind\u001b[0m\u001b[0;34m=\u001b[0m\u001b[0;34m'bar'\u001b[0m\u001b[0;34m,\u001b[0m \u001b[0;34m**\u001b[0m\u001b[0mkwds\u001b[0m\u001b[0;34m)\u001b[0m\u001b[0;34m\u001b[0m\u001b[0;34m\u001b[0m\u001b[0m\n\u001b[0m\u001b[1;32m   2785\u001b[0m \u001b[0;34m\u001b[0m\u001b[0m\n\u001b[1;32m   2786\u001b[0m     \u001b[0;32mdef\u001b[0m \u001b[0mbarh\u001b[0m\u001b[0;34m(\u001b[0m\u001b[0mself\u001b[0m\u001b[0;34m,\u001b[0m \u001b[0;34m**\u001b[0m\u001b[0mkwds\u001b[0m\u001b[0;34m)\u001b[0m\u001b[0;34m:\u001b[0m\u001b[0;34m\u001b[0m\u001b[0;34m\u001b[0m\u001b[0m\n",
      "\u001b[0;32m~/codenation/final_project/venv/lib/python3.7/site-packages/pandas/plotting/_core.py\u001b[0m in \u001b[0;36m__call__\u001b[0;34m(self, kind, ax, figsize, use_index, title, grid, legend, style, logx, logy, loglog, xticks, yticks, xlim, ylim, rot, fontsize, colormap, table, yerr, xerr, label, secondary_y, **kwds)\u001b[0m\n\u001b[1;32m   2740\u001b[0m                            \u001b[0mcolormap\u001b[0m\u001b[0;34m=\u001b[0m\u001b[0mcolormap\u001b[0m\u001b[0;34m,\u001b[0m \u001b[0mtable\u001b[0m\u001b[0;34m=\u001b[0m\u001b[0mtable\u001b[0m\u001b[0;34m,\u001b[0m \u001b[0myerr\u001b[0m\u001b[0;34m=\u001b[0m\u001b[0myerr\u001b[0m\u001b[0;34m,\u001b[0m\u001b[0;34m\u001b[0m\u001b[0;34m\u001b[0m\u001b[0m\n\u001b[1;32m   2741\u001b[0m                            \u001b[0mxerr\u001b[0m\u001b[0;34m=\u001b[0m\u001b[0mxerr\u001b[0m\u001b[0;34m,\u001b[0m \u001b[0mlabel\u001b[0m\u001b[0;34m=\u001b[0m\u001b[0mlabel\u001b[0m\u001b[0;34m,\u001b[0m \u001b[0msecondary_y\u001b[0m\u001b[0;34m=\u001b[0m\u001b[0msecondary_y\u001b[0m\u001b[0;34m,\u001b[0m\u001b[0;34m\u001b[0m\u001b[0;34m\u001b[0m\u001b[0m\n\u001b[0;32m-> 2742\u001b[0;31m                            **kwds)\n\u001b[0m\u001b[1;32m   2743\u001b[0m     \u001b[0m__call__\u001b[0m\u001b[0;34m.\u001b[0m\u001b[0m__doc__\u001b[0m \u001b[0;34m=\u001b[0m \u001b[0mplot_series\u001b[0m\u001b[0;34m.\u001b[0m\u001b[0m__doc__\u001b[0m\u001b[0;34m\u001b[0m\u001b[0;34m\u001b[0m\u001b[0m\n\u001b[1;32m   2744\u001b[0m \u001b[0;34m\u001b[0m\u001b[0m\n",
      "\u001b[0;32m~/codenation/final_project/venv/lib/python3.7/site-packages/pandas/plotting/_core.py\u001b[0m in \u001b[0;36mplot_series\u001b[0;34m(data, kind, ax, figsize, use_index, title, grid, legend, style, logx, logy, loglog, xticks, yticks, xlim, ylim, rot, fontsize, colormap, table, yerr, xerr, label, secondary_y, **kwds)\u001b[0m\n\u001b[1;32m   1996\u001b[0m                  \u001b[0myerr\u001b[0m\u001b[0;34m=\u001b[0m\u001b[0myerr\u001b[0m\u001b[0;34m,\u001b[0m \u001b[0mxerr\u001b[0m\u001b[0;34m=\u001b[0m\u001b[0mxerr\u001b[0m\u001b[0;34m,\u001b[0m\u001b[0;34m\u001b[0m\u001b[0;34m\u001b[0m\u001b[0m\n\u001b[1;32m   1997\u001b[0m                  \u001b[0mlabel\u001b[0m\u001b[0;34m=\u001b[0m\u001b[0mlabel\u001b[0m\u001b[0;34m,\u001b[0m \u001b[0msecondary_y\u001b[0m\u001b[0;34m=\u001b[0m\u001b[0msecondary_y\u001b[0m\u001b[0;34m,\u001b[0m\u001b[0;34m\u001b[0m\u001b[0;34m\u001b[0m\u001b[0m\n\u001b[0;32m-> 1998\u001b[0;31m                  **kwds)\n\u001b[0m\u001b[1;32m   1999\u001b[0m \u001b[0;34m\u001b[0m\u001b[0m\n\u001b[1;32m   2000\u001b[0m \u001b[0;34m\u001b[0m\u001b[0m\n",
      "\u001b[0;32m~/codenation/final_project/venv/lib/python3.7/site-packages/pandas/plotting/_core.py\u001b[0m in \u001b[0;36m_plot\u001b[0;34m(data, x, y, subplots, ax, kind, **kwds)\u001b[0m\n\u001b[1;32m   1799\u001b[0m         \u001b[0mplot_obj\u001b[0m \u001b[0;34m=\u001b[0m \u001b[0mklass\u001b[0m\u001b[0;34m(\u001b[0m\u001b[0mdata\u001b[0m\u001b[0;34m,\u001b[0m \u001b[0msubplots\u001b[0m\u001b[0;34m=\u001b[0m\u001b[0msubplots\u001b[0m\u001b[0;34m,\u001b[0m \u001b[0max\u001b[0m\u001b[0;34m=\u001b[0m\u001b[0max\u001b[0m\u001b[0;34m,\u001b[0m \u001b[0mkind\u001b[0m\u001b[0;34m=\u001b[0m\u001b[0mkind\u001b[0m\u001b[0;34m,\u001b[0m \u001b[0;34m**\u001b[0m\u001b[0mkwds\u001b[0m\u001b[0;34m)\u001b[0m\u001b[0;34m\u001b[0m\u001b[0;34m\u001b[0m\u001b[0m\n\u001b[1;32m   1800\u001b[0m \u001b[0;34m\u001b[0m\u001b[0m\n\u001b[0;32m-> 1801\u001b[0;31m     \u001b[0mplot_obj\u001b[0m\u001b[0;34m.\u001b[0m\u001b[0mgenerate\u001b[0m\u001b[0;34m(\u001b[0m\u001b[0;34m)\u001b[0m\u001b[0;34m\u001b[0m\u001b[0;34m\u001b[0m\u001b[0m\n\u001b[0m\u001b[1;32m   1802\u001b[0m     \u001b[0mplot_obj\u001b[0m\u001b[0;34m.\u001b[0m\u001b[0mdraw\u001b[0m\u001b[0;34m(\u001b[0m\u001b[0;34m)\u001b[0m\u001b[0;34m\u001b[0m\u001b[0;34m\u001b[0m\u001b[0m\n\u001b[1;32m   1803\u001b[0m     \u001b[0;32mreturn\u001b[0m \u001b[0mplot_obj\u001b[0m\u001b[0;34m.\u001b[0m\u001b[0mresult\u001b[0m\u001b[0;34m\u001b[0m\u001b[0;34m\u001b[0m\u001b[0m\n",
      "\u001b[0;32m~/codenation/final_project/venv/lib/python3.7/site-packages/pandas/plotting/_core.py\u001b[0m in \u001b[0;36mgenerate\u001b[0;34m(self)\u001b[0m\n\u001b[1;32m    247\u001b[0m     \u001b[0;32mdef\u001b[0m \u001b[0mgenerate\u001b[0m\u001b[0;34m(\u001b[0m\u001b[0mself\u001b[0m\u001b[0;34m)\u001b[0m\u001b[0;34m:\u001b[0m\u001b[0;34m\u001b[0m\u001b[0;34m\u001b[0m\u001b[0m\n\u001b[1;32m    248\u001b[0m         \u001b[0mself\u001b[0m\u001b[0;34m.\u001b[0m\u001b[0m_args_adjust\u001b[0m\u001b[0;34m(\u001b[0m\u001b[0;34m)\u001b[0m\u001b[0;34m\u001b[0m\u001b[0;34m\u001b[0m\u001b[0m\n\u001b[0;32m--> 249\u001b[0;31m         \u001b[0mself\u001b[0m\u001b[0;34m.\u001b[0m\u001b[0m_compute_plot_data\u001b[0m\u001b[0;34m(\u001b[0m\u001b[0;34m)\u001b[0m\u001b[0;34m\u001b[0m\u001b[0;34m\u001b[0m\u001b[0m\n\u001b[0m\u001b[1;32m    250\u001b[0m         \u001b[0mself\u001b[0m\u001b[0;34m.\u001b[0m\u001b[0m_setup_subplots\u001b[0m\u001b[0;34m(\u001b[0m\u001b[0;34m)\u001b[0m\u001b[0;34m\u001b[0m\u001b[0;34m\u001b[0m\u001b[0m\n\u001b[1;32m    251\u001b[0m         \u001b[0mself\u001b[0m\u001b[0;34m.\u001b[0m\u001b[0m_make_plot\u001b[0m\u001b[0;34m(\u001b[0m\u001b[0;34m)\u001b[0m\u001b[0;34m\u001b[0m\u001b[0;34m\u001b[0m\u001b[0m\n",
      "\u001b[0;32m~/codenation/final_project/venv/lib/python3.7/site-packages/pandas/plotting/_core.py\u001b[0m in \u001b[0;36m_compute_plot_data\u001b[0;34m(self)\u001b[0m\n\u001b[1;32m    365\u001b[0m         \u001b[0;32mif\u001b[0m \u001b[0mis_empty\u001b[0m\u001b[0;34m:\u001b[0m\u001b[0;34m\u001b[0m\u001b[0;34m\u001b[0m\u001b[0m\n\u001b[1;32m    366\u001b[0m             raise TypeError('Empty {0!r}: no numeric data to '\n\u001b[0;32m--> 367\u001b[0;31m                             'plot'.format(numeric_data.__class__.__name__))\n\u001b[0m\u001b[1;32m    368\u001b[0m \u001b[0;34m\u001b[0m\u001b[0m\n\u001b[1;32m    369\u001b[0m         \u001b[0mself\u001b[0m\u001b[0;34m.\u001b[0m\u001b[0mdata\u001b[0m \u001b[0;34m=\u001b[0m \u001b[0mnumeric_data\u001b[0m\u001b[0;34m\u001b[0m\u001b[0;34m\u001b[0m\u001b[0m\n",
      "\u001b[0;31mTypeError\u001b[0m: Empty 'DataFrame': no numeric data to plot"
     ]
    }
   ],
   "source": [
    "sum_nan=market.isnull().sum(axis = 0)\n",
    "sum_nan=sum_nan[sum_nan>0]\n",
    "sum_nan.plot.bar()"
   ]
  },
  {
   "cell_type": "code",
   "execution_count": 180,
   "metadata": {},
   "outputs": [],
   "source": [
    "for i in sum_nan.index:\n",
    "    market[i] = market[i].fillna(market[i].mode()[0])"
   ]
  },
  {
   "cell_type": "code",
   "execution_count": 183,
   "metadata": {},
   "outputs": [],
   "source": [
    "rf = RandomForestRegressor(n_estimators = 100, random_state = 42)"
   ]
  },
  {
   "cell_type": "code",
   "execution_count": 212,
   "metadata": {},
   "outputs": [],
   "source": [
    "features=market.drop(['target','id'],axis=1)\n",
    "label=market['target']"
   ]
  },
  {
   "cell_type": "code",
   "execution_count": 213,
   "metadata": {},
   "outputs": [
    {
     "data": {
      "text/plain": [
       "127"
      ]
     },
     "execution_count": 213,
     "metadata": {},
     "output_type": "execute_result"
    }
   ],
   "source": [
    "start = time.process_time()\n",
    "rf.fit(features, label)\n",
    "run_time=round(time.process_time() - start)\n",
    "run_time"
   ]
  },
  {
   "cell_type": "code",
   "execution_count": 214,
   "metadata": {},
   "outputs": [],
   "source": [
    "predictions = rf.predict(features)"
   ]
  },
  {
   "cell_type": "code",
   "execution_count": 215,
   "metadata": {},
   "outputs": [],
   "source": [
    "output_01=market.loc[predictions>0.1,'id'].index"
   ]
  },
  {
   "cell_type": "code",
   "execution_count": 216,
   "metadata": {},
   "outputs": [
    {
     "data": {
      "text/html": [
       "<div>\n",
       "<style scoped>\n",
       "    .dataframe tbody tr th:only-of-type {\n",
       "        vertical-align: middle;\n",
       "    }\n",
       "\n",
       "    .dataframe tbody tr th {\n",
       "        vertical-align: top;\n",
       "    }\n",
       "\n",
       "    .dataframe thead th {\n",
       "        text-align: right;\n",
       "    }\n",
       "</style>\n",
       "<table border=\"1\" class=\"dataframe\">\n",
       "  <thead>\n",
       "    <tr style=\"text-align: right;\">\n",
       "      <th></th>\n",
       "      <th>total identified</th>\n",
       "      <th>n from portfolio</th>\n",
       "      <th>n portfolio</th>\n",
       "      <th>run time [min]</th>\n",
       "    </tr>\n",
       "  </thead>\n",
       "  <tbody>\n",
       "    <tr>\n",
       "      <th>portfolio3</th>\n",
       "      <td>547</td>\n",
       "      <td>265</td>\n",
       "      <td>265</td>\n",
       "      <td>2.12</td>\n",
       "    </tr>\n",
       "  </tbody>\n",
       "</table>\n",
       "</div>"
      ],
      "text/plain": [
       "            total identified  n from portfolio  n portfolio  run time [min]\n",
       "portfolio3               547               265          265            2.12"
      ]
     },
     "execution_count": 216,
     "metadata": {},
     "output_type": "execute_result"
    }
   ],
   "source": [
    "d = {\n",
    "    'total identified':[len(output_01)],\n",
    "     'n from portfolio':[len(output_01[output_01.isin(index_True)])], \n",
    "     'n portfolio':[len(index_True)],\n",
    "                    'run time [min]':[round(run_time/60,2)]\n",
    "    }\n",
    "df = pd.DataFrame(data=d)\n",
    "df.rename(index = {0: \"portfolio3\"}, \n",
    "                                 inplace = True) \n",
    "\n",
    "df.to_csv(r'results_portfolio3.csv')\n",
    "df"
   ]
  }
 ],
 "metadata": {
  "kernelspec": {
   "display_name": "Python 3",
   "language": "python",
   "name": "python3"
  },
  "language_info": {
   "codemirror_mode": {
    "name": "ipython",
    "version": 3
   },
   "file_extension": ".py",
   "mimetype": "text/x-python",
   "name": "python",
   "nbconvert_exporter": "python",
   "pygments_lexer": "ipython3",
   "version": "3.7.3"
  }
 },
 "nbformat": 4,
 "nbformat_minor": 2
}

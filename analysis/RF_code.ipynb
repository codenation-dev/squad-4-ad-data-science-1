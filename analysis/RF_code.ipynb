{
 "cells": [
  {
   "cell_type": "markdown",
   "metadata": {},
   "source": [
    "# Codenation  - Data Science\n",
    "\n",
    "## Squad-4\n",
    " * [Brenno Cabella]\n",
    " * [Diego Abreu]\n",
    " * [Marcelo Amorim]\n",
    " * [Nicolas Ribeiro]\n",
    "\n",
    "### Meta-ranking method\n",
    "\n",
    "This code provides suggestions for market leads based on an company portfolio (input).\n",
    "The leads are extracted from a larger data base (market.csv) and a probability is atributed to the most adherent companies from the input portfolio.\n",
    "\n",
    "The methods used were:\n",
    "\n",
    "1) Logistic Regression\n",
    "\n",
    "2) Random Forest\n",
    "\n",
    "3) One selection from (best accuracy): K-Nearest Neighbor, Support Vector Machines or Decision Tree\n",
    "\n",
    "\n",
    "The **Random Forest approach** is described below.\n",
    "\n",
    "\n",
    "The approach used in this study is a random forest classifier with a surrogate null-hypothesis and is implemented by the following steps:\n",
    "\n",
    "Finding leads using random forest\n",
    "\n",
    "\n",
    "### Analysis steps:\n",
    "\n",
    "1) Data treatment (Will be further improved by __data_prep__)\n",
    "\n",
    "* removes non-informative variables\n",
    "* transforms boolean and object variables to numeric\n",
    "* string variables that presents ordinal order are transormed into ordinal numeric\n",
    "* date variable ('dt_situacao') transfomed into ordinal\n",
    "* removal of variables that presents at least a given % of nan's\n",
    "* fill remaining nan's with mode and median for string and numeric variables respectively\n",
    "* one hot encoding for string variables\n",
    "\n",
    "2) Model implementation (Radom forest)\n",
    "\n",
    "* choose input portfolio (file_name_portfolio)\n",
    "\n",
    "* make_surrogate data\n",
    "\n",
    "> A little comment on the surrogate approach:\n",
    "\n",
    "We cannot say for sure that companies listed in market, that does not belong to a given portfolio, are **true not-clients**. They are all, in theory, potential clients and therefore, we cannot attribute label 0 (not-client) to those companies.\n",
    "To overcome this issue, we proposed to generate surrogate companies that present similar characteristics to those in market but with shuffled values for their variables.\n",
    "The function **make_surrogate** creates synthetic companies and the label 0 (not-client) is attributed to them. Those surrogate companies are assumed to be **true not-clients** in our model traning.\n",
    "\n",
    "* Data is divided in 3 parts: train (60%), validation (20%) and test (20%)\n",
    "\n",
    "* Cross-validation is used to optimize the performance of the model, varying the following parameters: **n_estimators** and **max_depth**.\n",
    "\n",
    "* Optmized model is used to estimate the performance for the test set\n",
    "\n",
    "* A model is created using all the data \n",
    "\n",
    "* The model is applied to the market file and probabilities of being a client are obtained for each entry"
   ]
  },
  {
   "cell_type": "markdown",
   "metadata": {},
   "source": [
    "---"
   ]
  },
  {
   "cell_type": "markdown",
   "metadata": {},
   "source": [
    "> packages"
   ]
  },
  {
   "cell_type": "code",
   "execution_count": 123,
   "metadata": {},
   "outputs": [],
   "source": [
    "import numpy as np\n",
    "import pandas as pd\n",
    "import time\n",
    "from sklearn.model_selection import train_test_split\n",
    "from sklearn.ensemble import RandomForestClassifier\n",
    "from sklearn.metrics import confusion_matrix\n",
    "import random\n",
    "from sklearn.metrics import accuracy_score"
   ]
  },
  {
   "cell_type": "markdown",
   "metadata": {},
   "source": [
    "> read files"
   ]
  },
  {
   "cell_type": "code",
   "execution_count": 52,
   "metadata": {},
   "outputs": [],
   "source": [
    "market=pd.read_csv(\"estaticos_market.csv\")\n",
    "market_original=market.copy()\n",
    "#portfolio_01=pd.read_csv('estaticos_portfolio1.csv')\n",
    "#portfolio_02=pd.read_csv('estaticos_portfolio2.csv')\n",
    "#portfolio_03=pd.read_csv('estaticos_portfolio3.csv')"
   ]
  },
  {
   "cell_type": "markdown",
   "metadata": {},
   "source": [
    "## Data treatment"
   ]
  },
  {
   "cell_type": "markdown",
   "metadata": {},
   "source": [
    "> Remove variables:\n",
    "   * non-informative variables (contains just one unique value )\n",
    "   * 'Unnamed: 0' "
   ]
  },
  {
   "cell_type": "code",
   "execution_count": 53,
   "metadata": {},
   "outputs": [
    {
     "data": {
      "text/plain": [
       "(462298, 169)"
      ]
     },
     "execution_count": 53,
     "metadata": {},
     "output_type": "execute_result"
    }
   ],
   "source": [
    "market=market.drop(['Unnamed: 0'],axis=1)\n",
    "market_fill=market.count()\n",
    "market=market[market_fill[market_fill>0].index]\n",
    "market_unique=market.T.apply(lambda x: x.nunique(), axis=1)\n",
    "list_one=market_unique.index[market_unique.values==1]\n",
    "market=market[market_unique[market_unique>1].index]\n",
    "market.shape"
   ]
  },
  {
   "cell_type": "markdown",
   "metadata": {},
   "source": [
    "> Below, the list of non-informative variables removed"
   ]
  },
  {
   "cell_type": "code",
   "execution_count": 54,
   "metadata": {},
   "outputs": [
    {
     "data": {
      "text/plain": [
       "['fl_epp',\n",
       " 'qt_coligados_nula',\n",
       " 'qt_coligados_atividade_alto',\n",
       " 'qt_coligados_atividade_medio',\n",
       " 'qt_coligados_atividade_baixo',\n",
       " 'qt_coligados_atividade_mt_baixo',\n",
       " 'qt_coligados_atividade_inativo']"
      ]
     },
     "execution_count": 54,
     "metadata": {},
     "output_type": "execute_result"
    }
   ],
   "source": [
    "list(list_one)"
   ]
  },
  {
   "cell_type": "markdown",
   "metadata": {},
   "source": [
    "> change variables values from boolean (True/False) or (SIM/NAO) to numeric (1/0)"
   ]
  },
  {
   "cell_type": "code",
   "execution_count": 55,
   "metadata": {},
   "outputs": [],
   "source": [
    "bool_var=market.dtypes[market.dtypes=='bool'].index\n",
    "for i in bool_var: \n",
    "    market.loc[market[i]==True,i] = 1\n",
    "    market.loc[market[i]==False,i] = 0\n",
    "list_new_bool=('fl_spa',\n",
    "               'fl_antt',\n",
    "               'fl_veiculo',\n",
    "               'fl_optante_simples',\n",
    "               'fl_optante_simei',\n",
    "               'fl_simples_irregular',\n",
    "               'fl_passivel_iss')\n",
    "for i in list_new_bool: \n",
    "    market.loc[market[i]==True,i] = 1\n",
    "    market.loc[market[i]==False,i] = 0\n",
    "market.loc[market['fl_rm']=='SIM','fl_rm']=1\n",
    "market.loc[market['fl_rm']=='NAO','fl_rm']=0\n",
    "\n",
    "market['fl_spa']=pd.to_numeric(market['fl_spa'])\n",
    "market['fl_antt']=pd.to_numeric(market['fl_antt'])\n",
    "market['fl_veiculo']=pd.to_numeric(market['fl_veiculo'])\n",
    "market['fl_optante_simples']=pd.to_numeric(market['fl_optante_simples'])\n",
    "market['fl_optante_simei']=pd.to_numeric(market['fl_optante_simei'])\n",
    "market['fl_simples_irregular']=pd.to_numeric(market['fl_simples_irregular'])\n",
    "market['fl_passivel_iss']=pd.to_numeric(market['fl_passivel_iss'])"
   ]
  },
  {
   "cell_type": "markdown",
   "metadata": {},
   "source": [
    "> ordinal order are atributed to object variables (listed below) that presents ordinal \"string\" values:\n",
    "   * 'de_faixa_faturamento_estimado_grupo'\n",
    "   * 'de_faixa_faturamento_estimado'\n",
    "   * 'idade_emp_cat'\n",
    "   * 'de_saude_rescencia'\n",
    "   * 'de_nivel_atividade'\n",
    "   * 'de_indicador_telefone'"
   ]
  },
  {
   "cell_type": "code",
   "execution_count": 56,
   "metadata": {},
   "outputs": [],
   "source": [
    "market.loc[market['de_faixa_faturamento_estimado_grupo']=='ATE R$ 81.000,00',\n",
    "           'de_faixa_faturamento_estimado_grupo']=0\n",
    "market.loc[market['de_faixa_faturamento_estimado_grupo']=='DE R$ 81.000,01 A R$ 360.000,00',\n",
    "           'de_faixa_faturamento_estimado_grupo']=1\n",
    "market.loc[market['de_faixa_faturamento_estimado_grupo']=='DE R$ 360.000,01 A R$ 1.500.000,00',\n",
    "           'de_faixa_faturamento_estimado_grupo']=2\n",
    "market.loc[market['de_faixa_faturamento_estimado_grupo']=='DE R$ 1.500.000,01 A R$ 4.800.000,00',\n",
    "           'de_faixa_faturamento_estimado_grupo']=3\n",
    "market.loc[market['de_faixa_faturamento_estimado_grupo']=='DE R$ 4.800.000,01 A R$ 10.000.000,00',\n",
    "           'de_faixa_faturamento_estimado_grupo']=4\n",
    "market.loc[market['de_faixa_faturamento_estimado_grupo']=='DE R$ 10.000.000,01 A R$ 30.000.000,00',\n",
    "           'de_faixa_faturamento_estimado_grupo']=5\n",
    "market.loc[market['de_faixa_faturamento_estimado_grupo']=='DE R$ 30.000.000,01 A R$ 100.000.000,00',\n",
    "           'de_faixa_faturamento_estimado_grupo']=6\n",
    "market.loc[market['de_faixa_faturamento_estimado_grupo']=='DE R$ 100.000.000,01 A R$ 300.000.000,00',\n",
    "           'de_faixa_faturamento_estimado_grupo']=7\n",
    "market.loc[market['de_faixa_faturamento_estimado_grupo']=='DE R$ 300.000.000,01 A R$ 500.000.000,00',\n",
    "           'de_faixa_faturamento_estimado_grupo']=8\n",
    "market.loc[market['de_faixa_faturamento_estimado_grupo']=='DE R$ 500.000.000,01 A 1 BILHAO DE REAIS',\n",
    "           'de_faixa_faturamento_estimado_grupo']=9\n",
    "market.loc[market['de_faixa_faturamento_estimado_grupo']=='ACIMA DE 1 BILHAO DE REAIS',\n",
    "           'de_faixa_faturamento_estimado_grupo']=10\n",
    "\n",
    "market.loc[market['de_faixa_faturamento_estimado']=='ATE R$ 81.000,00',\n",
    "           'de_faixa_faturamento_estimado']=0\n",
    "market.loc[market['de_faixa_faturamento_estimado']=='DE R$ 81.000,01 A R$ 360.000,00',\n",
    "           'de_faixa_faturamento_estimado']=1\n",
    "market.loc[market['de_faixa_faturamento_estimado']=='DE R$ 360.000,01 A R$ 1.500.000,00',\n",
    "           'de_faixa_faturamento_estimado']=2\n",
    "market.loc[market['de_faixa_faturamento_estimado']=='DE R$ 1.500.000,01 A R$ 4.800.000,00',\n",
    "           'de_faixa_faturamento_estimado']=3\n",
    "market.loc[market['de_faixa_faturamento_estimado']=='DE R$ 4.800.000,01 A R$ 10.000.000,00',\n",
    "           'de_faixa_faturamento_estimado']=4\n",
    "market.loc[market['de_faixa_faturamento_estimado']=='DE R$ 10.000.000,01 A R$ 30.000.000,00',\n",
    "           'de_faixa_faturamento_estimado']=5\n",
    "market.loc[market['de_faixa_faturamento_estimado']=='DE R$ 30.000.000,01 A R$ 100.000.000,00',\n",
    "           'de_faixa_faturamento_estimado']=6\n",
    "market.loc[market['de_faixa_faturamento_estimado']=='DE R$ 100.000.000,01 A R$ 300.000.000,00',\n",
    "           'de_faixa_faturamento_estimado']=7\n",
    "market.loc[market['de_faixa_faturamento_estimado']=='DE R$ 300.000.000,01 A R$ 500.000.000,00',\n",
    "           'de_faixa_faturamento_estimado']=8\n",
    "market.loc[market['de_faixa_faturamento_estimado']=='DE R$ 500.000.000,01 A 1 BILHAO DE REAIS',\n",
    "           'de_faixa_faturamento_estimado']=9\n",
    "market.loc[market['de_faixa_faturamento_estimado']=='ACIMA DE 1 BILHAO DE REAIS',\n",
    "           'de_faixa_faturamento_estimado']=10\n",
    "market.loc[market['de_faixa_faturamento_estimado']=='SEM INFORMACAO',\n",
    "           'de_faixa_faturamento_estimado']=np.nan\n",
    "\n",
    "market.loc[market['idade_emp_cat']=='<= 1',\n",
    "           'idade_emp_cat']=0\n",
    "market.loc[market['idade_emp_cat']=='1 a 5',\n",
    "           'idade_emp_cat']=1\n",
    "market.loc[market['idade_emp_cat']=='5 a 10',\n",
    "           'idade_emp_cat']=2\n",
    "market.loc[market['idade_emp_cat']=='10 a 15',\n",
    "           'idade_emp_cat']=3\n",
    "market.loc[market['idade_emp_cat']=='15 a 20',\n",
    "           'idade_emp_cat']=4\n",
    "market.loc[market['idade_emp_cat']=='> 20',\n",
    "           'idade_emp_cat']=5\n",
    "\n",
    "market.loc[market['de_saude_rescencia']=='ATE 3 MESES',\n",
    "           'de_saude_rescencia']=0\n",
    "market.loc[market['de_saude_rescencia']=='ATE 6 MESES',\n",
    "           'de_saude_rescencia']=1\n",
    "market.loc[market['de_saude_rescencia']=='ATE 1 ANO',\n",
    "           'de_saude_rescencia']=2\n",
    "market.loc[market['de_saude_rescencia']=='ACIMA DE 1 ANO',\n",
    "           'de_saude_rescencia']=3\n",
    "market.loc[market['de_saude_rescencia']=='SEM INFORMACAO',\n",
    "           'de_saude_rescencia']=np.nan\n",
    "\n",
    "market.loc[market['de_nivel_atividade']=='MUITO BAIXA',\n",
    "           'de_nivel_atividade']=0\n",
    "market.loc[market['de_nivel_atividade']=='BAIXA',\n",
    "           'de_nivel_atividade']=1\n",
    "market.loc[market['de_nivel_atividade']=='MEDIA',\n",
    "           'de_nivel_atividade']=2\n",
    "market.loc[market['de_nivel_atividade']=='ALTA',\n",
    "           'de_nivel_atividade']=3\n",
    "\n",
    "market.loc[market['de_indicador_telefone']=='BOA',\n",
    "           'de_indicador_telefone']=1\n",
    "market.loc[market['de_indicador_telefone']=='INDETERMINADA',\n",
    "           'de_indicador_telefone']=np.nan\n",
    "\n",
    "market['de_faixa_faturamento_estimado_grupo']=pd.to_numeric(market['de_faixa_faturamento_estimado_grupo'])\n",
    "market['de_faixa_faturamento_estimado']=pd.to_numeric(market['de_faixa_faturamento_estimado'])\n",
    "market['de_saude_rescencia']=pd.to_numeric(market['de_saude_rescencia'])\n",
    "market['idade_emp_cat']=pd.to_numeric(market['idade_emp_cat'])\n",
    "market['de_nivel_atividade']=pd.to_numeric(market['de_nivel_atividade'])\n",
    "market['de_indicador_telefone']=pd.to_numeric(market['de_indicador_telefone'])"
   ]
  },
  {
   "cell_type": "code",
   "execution_count": 57,
   "metadata": {},
   "outputs": [
    {
     "data": {
      "text/plain": [
       "(462298, 169)"
      ]
     },
     "execution_count": 57,
     "metadata": {},
     "output_type": "execute_result"
    }
   ],
   "source": [
    "market.shape"
   ]
  },
  {
   "cell_type": "markdown",
   "metadata": {},
   "source": [
    "> Date variable ('dt_situacao') transfomed to ordinal"
   ]
  },
  {
   "cell_type": "code",
   "execution_count": 58,
   "metadata": {},
   "outputs": [],
   "source": [
    "test=market['dt_situacao'].dropna()\n",
    "test=test.astype('datetime64[ns]')\n",
    "for i in test.index:\n",
    "    test[i]=test[i].to_pydatetime().toordinal()\n",
    "market['dt_situacao']=test\n",
    "market['dt_situacao']=pd.to_numeric(market['dt_situacao'])"
   ]
  },
  {
   "cell_type": "markdown",
   "metadata": {},
   "source": [
    "> Since there are some variables with many \"nan\", only the features with at least a given percentage of filled values are chosen.\n",
    "The following plot presents the number of features that have at least a given percentage of filled values (not nan)."
   ]
  },
  {
   "cell_type": "code",
   "execution_count": 59,
   "metadata": {},
   "outputs": [
    {
     "data": {
      "image/png": "[encoded data removed]",
      "text/plain": [
       "<Figure size 432x288 with 1 Axes>"
      ]
     },
     "metadata": {
      "needs_background": "light"
     },
     "output_type": "display_data"
    }
   ],
   "source": [
    "count_market=market.count()\n",
    "count_market_max=max(count_market)\n",
    "index = range(0,100)\n",
    "columns = ['count_features']\n",
    "n_features = pd.DataFrame(index=index, columns=columns)\n",
    "for i in range(0,100):\n",
    "    threshsold=round(i*count_market_max/100)\n",
    "    n_features.values[i]=sum(count_market>threshsold)\n",
    "fig, ax = plt.subplots()\n",
    "ax.plot(n_features)\n",
    "ax.set(xlabel='at least % filled', ylabel='number of features',\n",
    "       title='')\n",
    "ax.grid()"
   ]
  },
  {
   "cell_type": "markdown",
   "metadata": {},
   "source": [
    "> The **threshold** value provides the minimum amount (%) of data required to inclue the feature in the dataset. "
   ]
  },
  {
   "cell_type": "code",
   "execution_count": 60,
   "metadata": {},
   "outputs": [],
   "source": [
    "threshold=0.7"
   ]
  },
  {
   "cell_type": "code",
   "execution_count": 61,
   "metadata": {},
   "outputs": [
    {
     "data": {
      "text/plain": [
       "(462298, 44)"
      ]
     },
     "execution_count": 61,
     "metadata": {},
     "output_type": "execute_result"
    }
   ],
   "source": [
    "count_market=market.count()\n",
    "count_market_max=count_market['id']\n",
    "threshsold_n=round(threshold*count_market_max)\n",
    "market=market[count_market[count_market>threshsold_n].index]\n",
    "market.shape"
   ]
  },
  {
   "cell_type": "markdown",
   "metadata": {},
   "source": [
    "> Bar plot showing the features with 'nan' and respective number of 'nan's"
   ]
  },
  {
   "cell_type": "code",
   "execution_count": 62,
   "metadata": {},
   "outputs": [
    {
     "data": {
      "text/plain": [
       "<matplotlib.axes._subplots.AxesSubplot at 0x7f8fdcda0550>"
      ]
     },
     "execution_count": 62,
     "metadata": {},
     "output_type": "execute_result"
    },
    {
     "data": {
      "image/png": "[encoded data removed]",
      "text/plain": [
       "<Figure size 432x288 with 1 Axes>"
      ]
     },
     "metadata": {
      "needs_background": "light"
     },
     "output_type": "display_data"
    }
   ],
   "source": [
    "sum_nan=market.isnull().sum(axis = 0)\n",
    "sum_nan=sum_nan[sum_nan>0]\n",
    "sum_nan.plot.bar()"
   ]
  },
  {
   "cell_type": "markdown",
   "metadata": {},
   "source": [
    "> Fill variables above with respective modes"
   ]
  },
  {
   "cell_type": "code",
   "execution_count": 63,
   "metadata": {},
   "outputs": [],
   "source": [
    "fill_object=sum_nan.index[market.loc[:,sum_nan.index].dtypes=='object']\n",
    "fill_float64=sum_nan.index[market.loc[:,sum_nan.index].dtypes=='float64']"
   ]
  },
  {
   "cell_type": "code",
   "execution_count": 64,
   "metadata": {},
   "outputs": [],
   "source": [
    "for i in fill_object:\n",
    "    market[i] = market[i].fillna(market[i].mode()[0])\n",
    "for i in fill_float64:\n",
    "    market[i] = market[i].fillna(market[i].median())"
   ]
  },
  {
   "cell_type": "markdown",
   "metadata": {},
   "source": [
    " > One hot encoding for the remaining 'object' variables"
   ]
  },
  {
   "cell_type": "code",
   "execution_count": 65,
   "metadata": {},
   "outputs": [
    {
     "data": {
      "text/plain": [
       "(462298, 384)"
      ]
     },
     "execution_count": 65,
     "metadata": {},
     "output_type": "execute_result"
    }
   ],
   "source": [
    "market=pd.concat([market,pd.get_dummies(market['de_natureza_juridica'])],axis=1).drop(['de_natureza_juridica'],axis=1)\n",
    "market=pd.concat([market,pd.get_dummies(market['sg_uf'])],axis=1).drop(['sg_uf'],axis=1)\n",
    "market=pd.concat([market,pd.get_dummies(market['natureza_juridica_macro'])],axis=1).drop(['natureza_juridica_macro'],axis=1)\n",
    "market=pd.concat([market,pd.get_dummies(market['de_ramo'])],axis=1).drop(['de_ramo'],axis=1)\n",
    "market=pd.concat([market,pd.get_dummies(market['setor'])],axis=1).drop(['setor'],axis=1)\n",
    "market=pd.concat([market,pd.get_dummies(market['nm_divisao'])],axis=1).drop(['nm_divisao'],axis=1)\n",
    "market=pd.concat([market,pd.get_dummies(market['nm_segmento'])],axis=1).drop(['nm_segmento'],axis=1)\n",
    "market=pd.concat([market,pd.get_dummies(market['sg_uf_matriz'],prefix='matriz')],axis=1).drop(['sg_uf_matriz'],axis=1)\n",
    "market=pd.concat([market,pd.get_dummies(market['de_saude_tributaria'])],axis=1).drop(['de_saude_tributaria'],axis=1)\n",
    "market=pd.concat([market,pd.get_dummies(market['nm_meso_regiao'])],axis=1).drop(['nm_meso_regiao'],axis=1)\n",
    "market=pd.concat([market,pd.get_dummies(market['nm_micro_regiao'])],axis=1).drop(['nm_micro_regiao'],axis=1)\n",
    "market.shape"
   ]
  },
  {
   "cell_type": "markdown",
   "metadata": {},
   "source": [
    "##  Radom forest model\n",
    "\n",
    "For a given input portfolio, first we identify indexes of the listed companies in the market database.\n",
    "A vector y is created with label 0 or 1 to each index according to its respective status: not client or client, respectively."
   ]
  },
  {
   "cell_type": "markdown",
   "metadata": {},
   "source": [
    "### Choose portfolio (input)"
   ]
  },
  {
   "cell_type": "code",
   "execution_count": 250,
   "metadata": {},
   "outputs": [],
   "source": [
    "file_name_portfolio=\"estaticos_portfolio1.csv\""
   ]
  },
  {
   "cell_type": "code",
   "execution_count": 251,
   "metadata": {},
   "outputs": [
    {
     "data": {
      "text/html": [
       "<div>\n",
       "<style scoped>\n",
       "    .dataframe tbody tr th:only-of-type {\n",
       "        vertical-align: middle;\n",
       "    }\n",
       "\n",
       "    .dataframe tbody tr th {\n",
       "        vertical-align: top;\n",
       "    }\n",
       "\n",
       "    .dataframe thead th {\n",
       "        text-align: right;\n",
       "    }\n",
       "</style>\n",
       "<table border=\"1\" class=\"dataframe\">\n",
       "  <thead>\n",
       "    <tr style=\"text-align: right;\">\n",
       "      <th></th>\n",
       "      <th>id</th>\n",
       "      <th>fl_matriz</th>\n",
       "      <th>idade_empresa_anos</th>\n",
       "      <th>idade_emp_cat</th>\n",
       "      <th>fl_me</th>\n",
       "      <th>fl_sa</th>\n",
       "      <th>fl_mei</th>\n",
       "      <th>fl_ltda</th>\n",
       "      <th>dt_situacao</th>\n",
       "      <th>fl_st_especial</th>\n",
       "      <th>...</th>\n",
       "      <th>SERIDO OCIDENTAL</th>\n",
       "      <th>SERIDO ORIENTAL</th>\n",
       "      <th>SERRA DE SANTANA</th>\n",
       "      <th>SERRA DE SAO MIGUEL</th>\n",
       "      <th>TARAUACA</th>\n",
       "      <th>TEFE</th>\n",
       "      <th>TERESINA</th>\n",
       "      <th>UMARIZAL</th>\n",
       "      <th>VALE DO ACU</th>\n",
       "      <th>VALENCA DO PIAUI</th>\n",
       "    </tr>\n",
       "  </thead>\n",
       "  <tbody>\n",
       "    <tr>\n",
       "      <th>369</th>\n",
       "      <td>dabe79bec87c88ae04e869bf6bd321ee5e1893cecf6625...</td>\n",
       "      <td>1</td>\n",
       "      <td>0.646575</td>\n",
       "      <td>0</td>\n",
       "      <td>0</td>\n",
       "      <td>0</td>\n",
       "      <td>1</td>\n",
       "      <td>0</td>\n",
       "      <td>736759.0</td>\n",
       "      <td>0</td>\n",
       "      <td>...</td>\n",
       "      <td>0</td>\n",
       "      <td>0</td>\n",
       "      <td>0</td>\n",
       "      <td>0</td>\n",
       "      <td>0</td>\n",
       "      <td>0</td>\n",
       "      <td>0</td>\n",
       "      <td>0</td>\n",
       "      <td>0</td>\n",
       "      <td>0</td>\n",
       "    </tr>\n",
       "    <tr>\n",
       "      <th>604</th>\n",
       "      <td>32e5f4e10932153a7ba869cb0386e7e02d49d2461046b8...</td>\n",
       "      <td>0</td>\n",
       "      <td>6.586301</td>\n",
       "      <td>2</td>\n",
       "      <td>0</td>\n",
       "      <td>0</td>\n",
       "      <td>0</td>\n",
       "      <td>0</td>\n",
       "      <td>734591.0</td>\n",
       "      <td>0</td>\n",
       "      <td>...</td>\n",
       "      <td>0</td>\n",
       "      <td>0</td>\n",
       "      <td>0</td>\n",
       "      <td>0</td>\n",
       "      <td>0</td>\n",
       "      <td>0</td>\n",
       "      <td>0</td>\n",
       "      <td>0</td>\n",
       "      <td>0</td>\n",
       "      <td>0</td>\n",
       "    </tr>\n",
       "    <tr>\n",
       "      <th>1703</th>\n",
       "      <td>a95d6f30bba445bd3d6b0c5b36f865b38ec01d17336090...</td>\n",
       "      <td>1</td>\n",
       "      <td>8.010959</td>\n",
       "      <td>2</td>\n",
       "      <td>0</td>\n",
       "      <td>0</td>\n",
       "      <td>1</td>\n",
       "      <td>0</td>\n",
       "      <td>734071.0</td>\n",
       "      <td>0</td>\n",
       "      <td>...</td>\n",
       "      <td>0</td>\n",
       "      <td>0</td>\n",
       "      <td>0</td>\n",
       "      <td>0</td>\n",
       "      <td>0</td>\n",
       "      <td>0</td>\n",
       "      <td>0</td>\n",
       "      <td>0</td>\n",
       "      <td>0</td>\n",
       "      <td>0</td>\n",
       "    </tr>\n",
       "    <tr>\n",
       "      <th>2521</th>\n",
       "      <td>6cb309685cea0b6d2988818792ec2e6fcb2bd02e0afa9e...</td>\n",
       "      <td>1</td>\n",
       "      <td>20.863014</td>\n",
       "      <td>5</td>\n",
       "      <td>0</td>\n",
       "      <td>0</td>\n",
       "      <td>0</td>\n",
       "      <td>0</td>\n",
       "      <td>732253.0</td>\n",
       "      <td>0</td>\n",
       "      <td>...</td>\n",
       "      <td>0</td>\n",
       "      <td>0</td>\n",
       "      <td>0</td>\n",
       "      <td>0</td>\n",
       "      <td>0</td>\n",
       "      <td>0</td>\n",
       "      <td>0</td>\n",
       "      <td>1</td>\n",
       "      <td>0</td>\n",
       "      <td>0</td>\n",
       "    </tr>\n",
       "    <tr>\n",
       "      <th>5788</th>\n",
       "      <td>f72aa7fa6787b0a5a1c88885b6120850df8ee0f71adc25...</td>\n",
       "      <td>1</td>\n",
       "      <td>18.726027</td>\n",
       "      <td>4</td>\n",
       "      <td>0</td>\n",
       "      <td>0</td>\n",
       "      <td>0</td>\n",
       "      <td>0</td>\n",
       "      <td>732253.0</td>\n",
       "      <td>0</td>\n",
       "      <td>...</td>\n",
       "      <td>0</td>\n",
       "      <td>0</td>\n",
       "      <td>0</td>\n",
       "      <td>0</td>\n",
       "      <td>0</td>\n",
       "      <td>0</td>\n",
       "      <td>0</td>\n",
       "      <td>0</td>\n",
       "      <td>0</td>\n",
       "      <td>0</td>\n",
       "    </tr>\n",
       "  </tbody>\n",
       "</table>\n",
       "<p>5 rows × 384 columns</p>\n",
       "</div>"
      ],
      "text/plain": [
       "                                                     id  fl_matriz  \\\n",
       "369   dabe79bec87c88ae04e869bf6bd321ee5e1893cecf6625...          1   \n",
       "604   32e5f4e10932153a7ba869cb0386e7e02d49d2461046b8...          0   \n",
       "1703  a95d6f30bba445bd3d6b0c5b36f865b38ec01d17336090...          1   \n",
       "2521  6cb309685cea0b6d2988818792ec2e6fcb2bd02e0afa9e...          1   \n",
       "5788  f72aa7fa6787b0a5a1c88885b6120850df8ee0f71adc25...          1   \n",
       "\n",
       "      idade_empresa_anos  idade_emp_cat  fl_me  fl_sa  fl_mei  fl_ltda  \\\n",
       "369             0.646575              0      0      0       1        0   \n",
       "604             6.586301              2      0      0       0        0   \n",
       "1703            8.010959              2      0      0       1        0   \n",
       "2521           20.863014              5      0      0       0        0   \n",
       "5788           18.726027              4      0      0       0        0   \n",
       "\n",
       "      dt_situacao  fl_st_especial  ...  SERIDO OCIDENTAL  SERIDO ORIENTAL  \\\n",
       "369      736759.0               0  ...                 0                0   \n",
       "604      734591.0               0  ...                 0                0   \n",
       "1703     734071.0               0  ...                 0                0   \n",
       "2521     732253.0               0  ...                 0                0   \n",
       "5788     732253.0               0  ...                 0                0   \n",
       "\n",
       "      SERRA DE SANTANA  SERRA DE SAO MIGUEL  TARAUACA  TEFE  TERESINA  \\\n",
       "369                  0                    0         0     0         0   \n",
       "604                  0                    0         0     0         0   \n",
       "1703                 0                    0         0     0         0   \n",
       "2521                 0                    0         0     0         0   \n",
       "5788                 0                    0         0     0         0   \n",
       "\n",
       "      UMARIZAL  VALE DO ACU  VALENCA DO PIAUI  \n",
       "369          0            0                 0  \n",
       "604          0            0                 0  \n",
       "1703         0            0                 0  \n",
       "2521         1            0                 0  \n",
       "5788         0            0                 0  \n",
       "\n",
       "[5 rows x 384 columns]"
      ]
     },
     "execution_count": 251,
     "metadata": {},
     "output_type": "execute_result"
    }
   ],
   "source": [
    "input_file=pd.read_csv(file_name_portfolio)\n",
    "input_id=input_file['id']\n",
    "index_True=market[market['id'].isin(input_id.values)].index\n",
    "input_portfolio=market.loc[index_True]\n",
    "input_portfolio.head()"
   ]
  },
  {
   "cell_type": "markdown",
   "metadata": {},
   "source": [
    "Generate surrogates"
   ]
  },
  {
   "cell_type": "code",
   "execution_count": 252,
   "metadata": {},
   "outputs": [],
   "source": [
    "def make_surrogate(df,samples):\n",
    "    mod_df=pd.DataFrame(columns=df.columns)\n",
    "    random.seed(1)\n",
    "    seed=np.random.randint(1,10000,size=len(df.columns))\n",
    "    count_seed=0\n",
    "    for i in df.columns:\n",
    "        mod_df[i]=np.array(df[i].sample(n=samples, random_state=seed[count_seed],replace=True))\n",
    "        count_seed += 1 \n",
    "    return mod_df"
   ]
  },
  {
   "cell_type": "code",
   "execution_count": 253,
   "metadata": {},
   "outputs": [],
   "source": [
    "surr_market=make_surrogate(market.drop('id',axis=1),len(input_portfolio))"
   ]
  },
  {
   "cell_type": "code",
   "execution_count": 254,
   "metadata": {},
   "outputs": [
    {
     "data": {
      "text/plain": [
       "(1110, 383)"
      ]
     },
     "execution_count": 254,
     "metadata": {},
     "output_type": "execute_result"
    }
   ],
   "source": [
    "index_True=market[market['id'].isin(input_portfolio['id'].values)].index\n",
    "input_portfolio=market.loc[index_True]\n",
    "X=pd.concat([surr_market,input_portfolio.drop('id',axis=1)])\n",
    "X.shape"
   ]
  },
  {
   "cell_type": "code",
   "execution_count": 255,
   "metadata": {},
   "outputs": [],
   "source": [
    "y=pd.DataFrame(np.zeros(len(X)),index=X.index)\n",
    "y.loc[index_True]=1"
   ]
  },
  {
   "cell_type": "markdown",
   "metadata": {},
   "source": [
    "Data is divided in 3 parts:\n",
    "* train (60%)\n",
    "* validation (20%)\n",
    "* test (20%)\n",
    "\n",
    "Cross-validation was used to optimize the performance of the model, varying the following parameters:\n",
    "\n",
    "* n_estimators\n",
    "* max_depth"
   ]
  },
  {
   "cell_type": "code",
   "execution_count": 256,
   "metadata": {},
   "outputs": [],
   "source": [
    "X_train_base, X_test, y_train_base, y_test = train_test_split(X, y, test_size=0.2, random_state=42)"
   ]
  },
  {
   "cell_type": "markdown",
   "metadata": {},
   "source": [
    "### Model optmization"
   ]
  },
  {
   "cell_type": "code",
   "execution_count": 257,
   "metadata": {},
   "outputs": [],
   "source": [
    "grid_n_estimators=range(110,135,5)\n",
    "grid_max_depth=range(95,115,5)"
   ]
  },
  {
   "cell_type": "code",
   "execution_count": 258,
   "metadata": {},
   "outputs": [
    {
     "data": {
      "text/plain": [
       "24"
      ]
     },
     "execution_count": 258,
     "metadata": {},
     "output_type": "execute_result"
    }
   ],
   "source": [
    "max_k=10 # number of cross-validation\n",
    "f1=pd.DataFrame(columns=['n_estimators','max_depth','tp','fp','tn','fn','acc'])\n",
    "count=0\n",
    "start = time.process_time()\n",
    "for est in grid_n_estimators:\n",
    "    for dep in grid_max_depth:\n",
    "        rf = RandomForestClassifier(n_estimators=est,max_depth=dep)\n",
    "        tp=0\n",
    "        fp=0\n",
    "        fn=0\n",
    "        tn=0\n",
    "        for k in range(1,(max_k+1)):\n",
    "            X_train, X_val, y_train, y_val = train_test_split(X_train_base, y_train_base, \n",
    "                                                              test_size=0.2, random_state=k)  \n",
    "            rf.fit(X_train, y_train.values.ravel())\n",
    "            predictions = rf.predict(X_val)\n",
    "            aux_matrix=confusion_matrix(y_val, predictions)\n",
    "            tn=tn+aux_matrix[0][0]\n",
    "            fp=fp+aux_matrix[0][1]\n",
    "            fn=fn+aux_matrix[1][0]\n",
    "            tp=tp+aux_matrix[1][1]\n",
    "        f1.loc[count,'n_estimators']=est\n",
    "        f1.loc[count,'max_depth']=dep\n",
    "        f1.loc[count,'tn']=tn\n",
    "        f1.loc[count,'fp']=fp\n",
    "        f1.loc[count,'fn']=fn\n",
    "        f1.loc[count,'tp']=tp\n",
    "        f1.loc[count,'acc']=(tp+tn)/(tp+tn+fp+fn)\n",
    "        count+=1\n",
    "run_time=round(time.process_time() - start)\n",
    "run_time"
   ]
  },
  {
   "cell_type": "markdown",
   "metadata": {},
   "source": [
    "Optimal values "
   ]
  },
  {
   "cell_type": "code",
   "execution_count": 259,
   "metadata": {},
   "outputs": [
    {
     "name": "stdout",
     "output_type": "stream",
     "text": [
      "n_estimators= 110\n",
      "max_depth= 105\n"
     ]
    }
   ],
   "source": [
    "opt_test=f1[f1['acc']==f1['acc'].min()]\n",
    "opt_est=opt_test['n_estimators'].min()\n",
    "opt_dep=opt_test['max_depth'].min()\n",
    "print('n_estimators=', opt_est)\n",
    "print('max_depth=', opt_dep)"
   ]
  },
  {
   "cell_type": "markdown",
   "metadata": {},
   "source": [
    "Run analysis for test data using optimal parameters"
   ]
  },
  {
   "cell_type": "code",
   "execution_count": 260,
   "metadata": {},
   "outputs": [
    {
     "data": {
      "text/plain": [
       "RandomForestClassifier(bootstrap=True, class_weight=None, criterion='gini',\n",
       "                       max_depth=105, max_features='auto', max_leaf_nodes=None,\n",
       "                       min_impurity_decrease=0.0, min_impurity_split=None,\n",
       "                       min_samples_leaf=1, min_samples_split=2,\n",
       "                       min_weight_fraction_leaf=0.0, n_estimators=110,\n",
       "                       n_jobs=None, oob_score=False, random_state=None,\n",
       "                       verbose=0, warm_start=False)"
      ]
     },
     "execution_count": 260,
     "metadata": {},
     "output_type": "execute_result"
    }
   ],
   "source": [
    "rf_opt = RandomForestClassifier(n_estimators=opt_est,max_depth=opt_dep)\n",
    "rf_opt.fit(X_train_base, y_train_base.values.ravel())\n",
    "#rf_opt.fit(X_test, y_test.values.ravel())"
   ]
  },
  {
   "cell_type": "markdown",
   "metadata": {},
   "source": [
    "Confusion matrix of the model applied to the test set"
   ]
  },
  {
   "cell_type": "code",
   "execution_count": 261,
   "metadata": {},
   "outputs": [
    {
     "name": "stdout",
     "output_type": "stream",
     "text": [
      "confusion matrix for test set\n",
      "[[122   0]\n",
      " [  1  99]]\n",
      "\n",
      "acc= 0.995\n"
     ]
    }
   ],
   "source": [
    "predictions_test = rf.predict(X_test)\n",
    "print('confusion matrix for test set')\n",
    "print(confusion_matrix(y_test, predictions_test))\n",
    "print('')\n",
    "print('acc=', round(accuracy_score(y_test, predictions_test),3))"
   ]
  },
  {
   "cell_type": "code",
   "execution_count": 262,
   "metadata": {},
   "outputs": [],
   "source": [
    "out_first=rf_opt.predict_proba(market.drop('id',axis=1))\n",
    "out_bin=rf_opt.predict(market.drop('id',axis=1))"
   ]
  },
  {
   "cell_type": "code",
   "execution_count": 263,
   "metadata": {},
   "outputs": [],
   "source": [
    "RF_rank=pd.DataFrame(columns=['prob'], index=market['id'])\n",
    "RF_rank['prob']=out_first[:,1]\n",
    "RF_rank=RF_rank.sort_values(by='prob',ascending=False)\n",
    "RF_rank_portfolio=RF_rank.loc[input_id.values,:]\n",
    "RF_rank=RF_rank.drop(input_id.values,axis=0)"
   ]
  },
  {
   "cell_type": "markdown",
   "metadata": {},
   "source": [
    "Distribution of probabilities for the market file wtihout portfolio"
   ]
  },
  {
   "cell_type": "code",
   "execution_count": 264,
   "metadata": {},
   "outputs": [
    {
     "data": {
      "text/plain": [
       "array([[<matplotlib.axes._subplots.AxesSubplot object at 0x7f8ff4191a20>]],\n",
       "      dtype=object)"
      ]
     },
     "execution_count": 264,
     "metadata": {},
     "output_type": "execute_result"
    },
    {
     "data": {
      "image/png": "[encoded data removed]",
      "text/plain": [
       "<Figure size 432x288 with 1 Axes>"
      ]
     },
     "metadata": {
      "needs_background": "light"
     },
     "output_type": "display_data"
    }
   ],
   "source": [
    "RF_rank.hist(bins=20)"
   ]
  },
  {
   "cell_type": "markdown",
   "metadata": {},
   "source": [
    "Distribution of probabilities for the portfolio"
   ]
  },
  {
   "cell_type": "code",
   "execution_count": 265,
   "metadata": {},
   "outputs": [
    {
     "data": {
      "text/plain": [
       "array([[<matplotlib.axes._subplots.AxesSubplot object at 0x7f8fddc8f5c0>]],\n",
       "      dtype=object)"
      ]
     },
     "execution_count": 265,
     "metadata": {},
     "output_type": "execute_result"
    },
    {
     "data": {
      "image/png": "[encoded data removed]",
      "text/plain": [
       "<Figure size 432x288 with 1 Axes>"
      ]
     },
     "metadata": {
      "needs_background": "light"
     },
     "output_type": "display_data"
    }
   ],
   "source": [
    "RF_rank_portfolio.hist()"
   ]
  },
  {
   "cell_type": "markdown",
   "metadata": {},
   "source": [
    "Consider only classified as client (prob>0.5)"
   ]
  },
  {
   "cell_type": "code",
   "execution_count": 266,
   "metadata": {},
   "outputs": [],
   "source": [
    "prob_cut=0.8"
   ]
  },
  {
   "cell_type": "code",
   "execution_count": 267,
   "metadata": {},
   "outputs": [
    {
     "data": {
      "text/plain": [
       "(184261, 1)"
      ]
     },
     "execution_count": 267,
     "metadata": {},
     "output_type": "execute_result"
    }
   ],
   "source": [
    "RF_rank=RF_rank[RF_rank['prob']>=prob_cut]\n",
    "RF_rank.shape"
   ]
  },
  {
   "cell_type": "markdown",
   "metadata": {},
   "source": [
    "Save list of ids with respective probabilities"
   ]
  },
  {
   "cell_type": "code",
   "execution_count": 268,
   "metadata": {},
   "outputs": [],
   "source": [
    "out_name='RF_'+ file_name_portfolio\n",
    "RF_rank.to_csv(out_name)"
   ]
  },
  {
   "cell_type": "code",
   "execution_count": null,
   "metadata": {},
   "outputs": [],
   "source": [
    "### performance"
   ]
  },
  {
   "cell_type": "code",
   "execution_count": 269,
   "metadata": {},
   "outputs": [],
   "source": [
    "out_final=market_original[market_original['id'].isin(RF_rank.index)]\n",
    "portfolio_all=market_original[market_original['id'].isin(input_portfolio['id'])]"
   ]
  },
  {
   "cell_type": "code",
   "execution_count": 270,
   "metadata": {},
   "outputs": [
    {
     "data": {
      "image/png": "[encoded data removed]",
      "text/plain": [
       "<Figure size 432x288 with 2 Axes>"
      ]
     },
     "metadata": {
      "needs_background": "light"
     },
     "output_type": "display_data"
    },
    {
     "data": {
      "image/png": "[encoded data removed]",
      "text/plain": [
       "<Figure size 432x288 with 2 Axes>"
      ]
     },
     "metadata": {
      "needs_background": "light"
     },
     "output_type": "display_data"
    },
    {
     "data": {
      "image/png": "[encoded data removed]",
      "text/plain": [
       "<Figure size 432x288 with 2 Axes>"
      ]
     },
     "metadata": {
      "needs_background": "light"
     },
     "output_type": "display_data"
    }
   ],
   "source": [
    "list_compare=['setor','de_ramo','nm_segmento']\n",
    "for variable in list_compare:\n",
    "    fig, axes = plt.subplots(ncols=2, sharey=True)\n",
    "    axes[0].barh(portfolio_all[variable].value_counts().index, np.log(portfolio_all[variable].value_counts()), align='center', color='gray')\n",
    "    axes[1].barh(out_final[variable].value_counts().index, np.log(out_final[variable].value_counts()), align='center', color='gray')\n",
    "    axes[0].invert_xaxis()\n",
    "    axes[1].set_xlabel('leads [log scale]')\n",
    "    axes[0].set_xlabel('portfolio [log scale]')\n",
    "    fig.suptitle(variable, fontsize=16)\n",
    "    plt.show()"
   ]
  },
  {
   "cell_type": "markdown",
   "metadata": {},
   "source": [
    "Possible post-processing filters: \n",
    "\n",
    "Removing companies that does not share the following caracteristics with the input portfolio:\n",
    "* 'de_ramo'\n",
    "* 'setor'\n",
    "* 'nm_segmento'\n",
    "* 'nm_divisao'\n",
    "* 'natureza_juridica_macro'\n",
    "* 'de_natureza_juridica'\n",
    "* 'nm_meso_regiao'\n",
    "* 'nm_micro_regiao'\n",
    "\n",
    "Also, only the leads with the following characteristics are included:\n",
    "\n",
    "* 'fl_st_especial'= False\n",
    "* 'fl_simples_irregular'= False\n",
    "* 'de_saude_tributaria' = 'VERDE'\n",
    "* 'nu_meses_rescencia' <= 24\n",
    "* 'de_nivel_atividade' = 'ALTA'\n",
    "* 'de_indicador_telefone' = 'BOA'"
   ]
  },
  {
   "cell_type": "markdown",
   "metadata": {},
   "source": [
    "---"
   ]
  }
 ],
 "metadata": {
  "kernelspec": {
   "display_name": "Python 3",
   "language": "python",
   "name": "python3"
  },
  "language_info": {
   "codemirror_mode": {
    "name": "ipython",
    "version": 3
   },
   "file_extension": ".py",
   "mimetype": "text/x-python",
   "name": "python",
   "nbconvert_exporter": "python",
   "pygments_lexer": "ipython3",
   "version": "3.7.3"
  }
 },
 "nbformat": 4,
 "nbformat_minor": 2
}

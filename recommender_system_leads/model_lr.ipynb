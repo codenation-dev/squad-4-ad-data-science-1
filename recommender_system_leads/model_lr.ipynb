{
 "cells": [
  {
   "cell_type": "code",
   "execution_count": 34,
   "metadata": {},
   "outputs": [],
   "source": [
    "from sklearn.preprocessing import OneHotEncoder\n",
    "from sklearn.preprocessing import LabelEncoder\n",
    "from sklearn.preprocessing import StandardScaler\n",
    "from sklearn.preprocessing import MinMaxScaler\n",
    "from sklearn.feature_selection import RFE\n",
    "from sklearn.linear_model import LogisticRegression\n",
    "from sklearn.metrics import confusion_matrix\n",
    "from sklearn.metrics import classification_report\n",
    "from sklearn.model_selection import train_test_split\n",
    "from sklearn.impute import SimpleImputer\n",
    "from sklearn.pipeline import Pipeline\n",
    "from sklearn.decomposition import PCA\n",
    "import numpy as np\n",
    "import pandas as pd\n",
    "import sys\n",
    "sys.path.insert(1, '/home/marcelo/Documents/codenation_squad4/squad-4-ad-data-science-1/data_processing/')\n",
    "import data_treatment as dt"
   ]
  },
  {
   "cell_type": "code",
   "execution_count": 66,
   "metadata": {},
   "outputs": [],
   "source": [
    "\n",
    "##Get train and test dataset for pradictions\n",
    "def get_train_test(dataset, portofolio_id):\n",
    "    portfolio = portfolio1[portfolio1['cliente_flag'] == portofolio_id]\n",
    "    market = portfolio1[portfolio1['cliente_flag'] == 0]\n",
    "\n",
    "    market_sample = market.sample(portfolio.shape[0])\n",
    "\n",
    "    portfolio_num = portfolio._get_numeric_data()\n",
    "    market_num =  market_sample._get_numeric_data()\n",
    "\n",
    "    portfolio_train = pd.concat([portfolio_num, market_num], sort = False)\n",
    "\n",
    "    portfolio_train = portfolio_train.fillna(0)\n",
    "    market_test = market.fillna(0)\n",
    "\n",
    "    return(portfolio_train, market_test)\n",
    "\n",
    "\n",
    "def get_importance(dataset):\n",
    "    logreg = LogisticRegression()\n",
    "\n",
    "    rfe = RFE(logreg, 20)\n",
    "    rfe = rfe.fit(dataset.drop('cliente_flag', axis=1), dataset['cliente_flag'])\n",
    "\n",
    "    rfe_support = rfe.support_\n",
    "    print(rfe.ranking_)\n",
    "\n",
    "    feat_importance = []\n",
    "    col_list = dataset.drop('cliente_flag', axis=1).columns.tolist()\n",
    "\n",
    "    for i in range(0, len(col_list)):\n",
    "        if(rfe_support[i]== True):\n",
    "            feat_importance.append(col_list[i])\n",
    "\n",
    "    return(feat_importance)\n",
    "\n",
    "def train(dataset,features):\n",
    "    x_train, x_test, y_train, y_test = train_test_split(dataset.drop('cliente_flag',axis=1), \n",
    "                                                    dataset['cliente_flag'], test_size=0.30, \n",
    "                                                    random_state=101, stratify=dataset['cliente_flag'])\n",
    "    \n",
    "    logmodel = LogisticRegression()\n",
    "    logmodel.fit(x_train[features],y_train)\n",
    "    predictions = logmodel.predict(x_test[features])\n",
    "    predictions_prob = logmodel.predict_proba(x_test[features])\n",
    "    \n",
    "    return(logmodel,predictions,y_test)\n",
    "\n",
    "def metadata(predictions_train_ytest,predictions_train):\n",
    "    classification = classification_report(predictions_train_ytest,predictions_train)\n",
    "    confusion = confusion_matrix(predictions_train_ytest,predictions_train)\n",
    "    print(classification)\n",
    "    print(confusion)\n",
    "    return(classification,confusion)\n",
    "\n",
    "def predict(input_data,logmodel,features):\n",
    "    #print(\"==> PREDICT DATASET {}\".format(input_data))\n",
    "    predictions = logmodel.predict(input_data[features])\n",
    "    predictions_prob = logmodel.predict_proba(input_data[features])\n",
    "    return(predictions, predictions_prob)"
   ]
  },
  {
   "cell_type": "code",
   "execution_count": null,
   "metadata": {},
   "outputs": [
    {
     "name": "stderr",
     "output_type": "stream",
     "text": [
      "/home/marcelo/Documents/codenation_squad4/squad-4-ad-data-science-1/data_processing/data_treatment.py:91: UserWarning: This pattern has match groups. To actually get the groups, use str.extract.\n",
      "  col_list_selector = df.columns.str.contains( pattern , regex = regexp)\n"
     ]
    }
   ],
   "source": [
    "portfolio = dt.fetch_market(2)\n",
    "portfolio_train, market_test = get_train_test(portfolio, 2)\n",
    "feat_importance = get_importance(portfolio_train)\n",
    "feat_importance\n",
    "#feat_importance = get_importance(portfolio_train)"
   ]
  },
  {
   "cell_type": "code",
   "execution_count": 30,
   "metadata": {},
   "outputs": [
    {
     "name": "stderr",
     "output_type": "stream",
     "text": [
      "/home/marcelo/anaconda3/lib/python3.7/site-packages/sklearn/linear_model/logistic.py:433: FutureWarning: Default solver will be changed to 'lbfgs' in 0.22. Specify a solver to silence this warning.\n",
      "  FutureWarning)\n"
     ]
    }
   ],
   "source": [
    "#feat_importance = get_importance(portfolio_train)\n",
    "logmodel, predictions_train, predictions_train_ytest = train(portfolio_train,feat_importance)"
   ]
  },
  {
   "cell_type": "code",
   "execution_count": 36,
   "metadata": {},
   "outputs": [
    {
     "name": "stdout",
     "output_type": "stream",
     "text": [
      "              precision    recall  f1-score   support\n",
      "\n",
      "           0       0.95      0.62      0.75       166\n",
      "           1       0.72      0.97      0.83       167\n",
      "\n",
      "   micro avg       0.80      0.80      0.80       333\n",
      "   macro avg       0.84      0.80      0.79       333\n",
      "weighted avg       0.84      0.80      0.79       333\n",
      "\n"
     ]
    }
   ],
   "source": [
    "print(classification_report(predictions_train_ytest,predictions_train))"
   ]
  },
  {
   "cell_type": "code",
   "execution_count": 37,
   "metadata": {},
   "outputs": [
    {
     "name": "stdout",
     "output_type": "stream",
     "text": [
      "[[103  63]\n",
      " [  5 162]]\n"
     ]
    }
   ],
   "source": [
    "print(confusion_matrix(predictions_train_ytest,predictions_train))"
   ]
  },
  {
   "cell_type": "code",
   "execution_count": 49,
   "metadata": {},
   "outputs": [],
   "source": [
    "predictions, predictions_prob =  predict(market_test,logmodel,feat_importance)"
   ]
  },
  {
   "cell_type": "code",
   "execution_count": 56,
   "metadata": {},
   "outputs": [],
   "source": [
    "market_test['predictions'] = predictions\n",
    "market_test['Prob_N'] = predictions_prob[0:,0]\n",
    "market_test['Prob_Y'] = predictions_prob[0:,1]"
   ]
  },
  {
   "cell_type": "code",
   "execution_count": 63,
   "metadata": {},
   "outputs": [],
   "source": [
    "market_test.sort_values('Prob_Y', ascending=[False])[['predictions','Prob_Y','Prob_N']].to_csv('LR_rank_01.csv')"
   ]
  },
  {
   "cell_type": "code",
   "execution_count": 65,
   "metadata": {},
   "outputs": [],
   "source": [
    "rank01 = market_test.sort_values('Prob_Y', ascending=[False])"
   ]
  },
  {
   "cell_type": "code",
   "execution_count": null,
   "metadata": {},
   "outputs": [],
   "source": [
    "rank02 = market_test.sort_values('Prob_Y', ascending=[False])"
   ]
  },
  {
   "cell_type": "code",
   "execution_count": null,
   "metadata": {},
   "outputs": [],
   "source": [
    "rank03 = market_test.sort_values('Prob_Y', ascending=[False])"
   ]
  }
 ],
 "metadata": {
  "kernelspec": {
   "display_name": "Python 3",
   "language": "python",
   "name": "python3"
  },
  "language_info": {
   "codemirror_mode": {
    "name": "ipython",
    "version": 3
   },
   "file_extension": ".py",
   "mimetype": "text/x-python",
   "name": "python",
   "nbconvert_exporter": "python",
   "pygments_lexer": "ipython3",
   "version": "3.7.3"
  }
 },
 "nbformat": 4,
 "nbformat_minor": 2
}

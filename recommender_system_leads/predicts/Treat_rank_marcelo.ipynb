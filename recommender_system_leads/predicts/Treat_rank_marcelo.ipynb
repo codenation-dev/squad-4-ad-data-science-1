{
 "cells": [
  {
   "cell_type": "markdown",
   "metadata": {},
   "source": [
    "#### Resumo predições do Marcelo:"
   ]
  },
  {
   "cell_type": "code",
   "execution_count": 51,
   "metadata": {},
   "outputs": [],
   "source": [
    "import pandas as pd"
   ]
  },
  {
   "cell_type": "code",
   "execution_count": 54,
   "metadata": {},
   "outputs": [],
   "source": [
    "rank1 = pd.read_csv(\"LR_rank_01_o.csv\")\n",
    "rank2 = pd.read_csv(\"LR_rank_02_o.csv\")\n",
    "rank3 = pd.read_csv(\"LR_rank_03_o.csv\")"
   ]
  },
  {
   "cell_type": "code",
   "execution_count": 55,
   "metadata": {},
   "outputs": [
    {
     "data": {
      "text/html": [
       "<div>\n",
       "<style scoped>\n",
       "    .dataframe tbody tr th:only-of-type {\n",
       "        vertical-align: middle;\n",
       "    }\n",
       "\n",
       "    .dataframe tbody tr th {\n",
       "        vertical-align: top;\n",
       "    }\n",
       "\n",
       "    .dataframe thead th {\n",
       "        text-align: right;\n",
       "    }\n",
       "</style>\n",
       "<table border=\"1\" class=\"dataframe\">\n",
       "  <thead>\n",
       "    <tr style=\"text-align: right;\">\n",
       "      <th></th>\n",
       "      <th>id</th>\n",
       "      <th>predictions</th>\n",
       "      <th>Prob_Y</th>\n",
       "      <th>Prob_N</th>\n",
       "    </tr>\n",
       "  </thead>\n",
       "  <tbody>\n",
       "    <tr>\n",
       "      <th>0</th>\n",
       "      <td>4ce577f4c4de184011dd068a207bb034d7f9308ec14726...</td>\n",
       "      <td>1</td>\n",
       "      <td>0.870621</td>\n",
       "      <td>0.129379</td>\n",
       "    </tr>\n",
       "    <tr>\n",
       "      <th>1</th>\n",
       "      <td>b30f9c20d02b251e79703c0cb1f5c12d4818f0112b62fb...</td>\n",
       "      <td>1</td>\n",
       "      <td>0.870621</td>\n",
       "      <td>0.129379</td>\n",
       "    </tr>\n",
       "  </tbody>\n",
       "</table>\n",
       "</div>"
      ],
      "text/plain": [
       "                                                  id  predictions    Prob_Y  \\\n",
       "0  4ce577f4c4de184011dd068a207bb034d7f9308ec14726...            1  0.870621   \n",
       "1  b30f9c20d02b251e79703c0cb1f5c12d4818f0112b62fb...            1  0.870621   \n",
       "\n",
       "     Prob_N  \n",
       "0  0.129379  \n",
       "1  0.129379  "
      ]
     },
     "execution_count": 55,
     "metadata": {},
     "output_type": "execute_result"
    }
   ],
   "source": [
    "rank1.head(2)"
   ]
  },
  {
   "cell_type": "code",
   "execution_count": 56,
   "metadata": {},
   "outputs": [],
   "source": [
    "rank1 = rank1[rank1['predictions']==1]\n",
    "rank2 = rank2[rank2['predictions']==1]\n",
    "rank3 = rank3[rank3['predictions']==1]"
   ]
  },
  {
   "cell_type": "code",
   "execution_count": 57,
   "metadata": {},
   "outputs": [
    {
     "data": {
      "text/plain": [
       "1    188473\n",
       "Name: predictions, dtype: int64"
      ]
     },
     "execution_count": 57,
     "metadata": {},
     "output_type": "execute_result"
    }
   ],
   "source": [
    "rank1['predictions'].value_counts()"
   ]
  },
  {
   "cell_type": "code",
   "execution_count": 58,
   "metadata": {},
   "outputs": [],
   "source": [
    "LR_rank_01 = pd.DataFrame()\n",
    "LR_rank_01['id'] = rank1['id']\n",
    "LR_rank_01['prob'] = rank1['Prob_Y']\n",
    "LR_rank_01.to_csv('LR_rank_01.csv', index=False)"
   ]
  },
  {
   "cell_type": "code",
   "execution_count": 59,
   "metadata": {},
   "outputs": [],
   "source": [
    "LR_rank_02 = pd.DataFrame()\n",
    "LR_rank_02['id'] = rank1['id']\n",
    "LR_rank_02['prob'] = rank1['Prob_Y']\n",
    "LR_rank_02.to_csv('LR_rank_02.csv', index=False)"
   ]
  },
  {
   "cell_type": "code",
   "execution_count": 60,
   "metadata": {},
   "outputs": [],
   "source": [
    "LR_rank_03 = pd.DataFrame()\n",
    "LR_rank_03['id'] = rank1['id']\n",
    "LR_rank_03['prob'] = rank1['Prob_Y']\n",
    "LR_rank_03.to_csv('LR_rank_03.csv', index=False)"
   ]
  },
  {
   "cell_type": "code",
   "execution_count": null,
   "metadata": {},
   "outputs": [],
   "source": []
  },
  {
   "cell_type": "code",
   "execution_count": null,
   "metadata": {},
   "outputs": [],
   "source": []
  }
 ],
 "metadata": {
  "kernelspec": {
   "display_name": "Python 3",
   "language": "python",
   "name": "python3"
  },
  "language_info": {
   "codemirror_mode": {
    "name": "ipython",
    "version": 3
   },
   "file_extension": ".py",
   "mimetype": "text/x-python",
   "name": "python",
   "nbconvert_exporter": "python",
   "pygments_lexer": "ipython3",
   "version": "3.6.8"
  }
 },
 "nbformat": 4,
 "nbformat_minor": 2
}

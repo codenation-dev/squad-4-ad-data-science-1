{
 "cells": [
  {
   "cell_type": "markdown",
   "metadata": {},
   "source": [
    "#### Resumo predições do Marcelo:"
   ]
  },
  {
   "cell_type": "code",
   "execution_count": 1,
   "metadata": {},
   "outputs": [],
   "source": [
    "import pandas as pd"
   ]
  },
  {
   "cell_type": "code",
   "execution_count": 2,
   "metadata": {},
   "outputs": [],
   "source": [
    "rank1 = pd.read_csv(\"rank1.csv\")\n",
    "rank2 = pd.read_csv(\"rank2.csv\")\n",
    "rank3 = pd.read_csv(\"rank3.csv\")"
   ]
  },
  {
   "cell_type": "code",
   "execution_count": 4,
   "metadata": {},
   "outputs": [
    {
     "data": {
      "text/html": [
       "<div>\n",
       "<style scoped>\n",
       "    .dataframe tbody tr th:only-of-type {\n",
       "        vertical-align: middle;\n",
       "    }\n",
       "\n",
       "    .dataframe tbody tr th {\n",
       "        vertical-align: top;\n",
       "    }\n",
       "\n",
       "    .dataframe thead th {\n",
       "        text-align: right;\n",
       "    }\n",
       "</style>\n",
       "<table border=\"1\" class=\"dataframe\">\n",
       "  <thead>\n",
       "    <tr style=\"text-align: right;\">\n",
       "      <th></th>\n",
       "      <th>Unnamed: 0</th>\n",
       "      <th>id</th>\n",
       "      <th>Prediction_Portf1</th>\n",
       "      <th>Prediction_Portf2</th>\n",
       "      <th>Prediction_Portf3</th>\n",
       "      <th>Prob_not_Portf1</th>\n",
       "      <th>Prob_Portf1</th>\n",
       "      <th>Prob_not_Portf2</th>\n",
       "      <th>Prob_Portf2</th>\n",
       "      <th>Prob_not_Portf3</th>\n",
       "      <th>Prob_Portf3</th>\n",
       "    </tr>\n",
       "  </thead>\n",
       "  <tbody>\n",
       "    <tr>\n",
       "      <th>0</th>\n",
       "      <td>227</td>\n",
       "      <td>88dbfa70e609465a70feb667fd4498e567b05e58bb6db8...</td>\n",
       "      <td>1</td>\n",
       "      <td>0</td>\n",
       "      <td>0</td>\n",
       "      <td>0.000457</td>\n",
       "      <td>0.999543</td>\n",
       "      <td>0.769583</td>\n",
       "      <td>0.230417</td>\n",
       "      <td>0.910061</td>\n",
       "      <td>0.089939</td>\n",
       "    </tr>\n",
       "    <tr>\n",
       "      <th>1</th>\n",
       "      <td>342</td>\n",
       "      <td>12e18e0d4f02b8eaf145b5ef3480e6e7f77dc9739ae583...</td>\n",
       "      <td>1</td>\n",
       "      <td>2</td>\n",
       "      <td>3</td>\n",
       "      <td>0.000565</td>\n",
       "      <td>0.999435</td>\n",
       "      <td>0.109187</td>\n",
       "      <td>0.890813</td>\n",
       "      <td>0.489100</td>\n",
       "      <td>0.510900</td>\n",
       "    </tr>\n",
       "  </tbody>\n",
       "</table>\n",
       "</div>"
      ],
      "text/plain": [
       "   Unnamed: 0                                                 id  \\\n",
       "0         227  88dbfa70e609465a70feb667fd4498e567b05e58bb6db8...   \n",
       "1         342  12e18e0d4f02b8eaf145b5ef3480e6e7f77dc9739ae583...   \n",
       "\n",
       "   Prediction_Portf1  Prediction_Portf2  Prediction_Portf3  Prob_not_Portf1  \\\n",
       "0                  1                  0                  0         0.000457   \n",
       "1                  1                  2                  3         0.000565   \n",
       "\n",
       "   Prob_Portf1  Prob_not_Portf2  Prob_Portf2  Prob_not_Portf3  Prob_Portf3  \n",
       "0     0.999543         0.769583     0.230417         0.910061     0.089939  \n",
       "1     0.999435         0.109187     0.890813         0.489100     0.510900  "
      ]
     },
     "execution_count": 4,
     "metadata": {},
     "output_type": "execute_result"
    }
   ],
   "source": [
    "rank1.head(2)"
   ]
  },
  {
   "cell_type": "code",
   "execution_count": 10,
   "metadata": {},
   "outputs": [],
   "source": [
    "LR_rank_01 = pd.DataFrame()\n",
    "LR_rank_01['id'] = rank1['id']\n",
    "LR_rank_01['prob'] = rank1['Prob_Portf1']\n",
    "LR_rank_01.to_csv('LR_rank_01.csv', index=False)"
   ]
  },
  {
   "cell_type": "code",
   "execution_count": 11,
   "metadata": {},
   "outputs": [],
   "source": [
    "LR_rank_02 = pd.DataFrame()\n",
    "LR_rank_02['id'] = rank1['id']\n",
    "LR_rank_02['prob'] = rank1['Prob_Portf2']\n",
    "LR_rank_02.to_csv('LR_rank_02.csv', index=False)"
   ]
  },
  {
   "cell_type": "code",
   "execution_count": 12,
   "metadata": {},
   "outputs": [],
   "source": [
    "LR_rank_03 = pd.DataFrame()\n",
    "LR_rank_03['id'] = rank1['id']\n",
    "LR_rank_03['prob'] = rank1['Prob_Portf3']\n",
    "LR_rank_03.to_csv('LR_rank_03.csv', index=False)"
   ]
  },
  {
   "cell_type": "code",
   "execution_count": null,
   "metadata": {},
   "outputs": [],
   "source": []
  }
 ],
 "metadata": {
  "kernelspec": {
   "display_name": "Python 3",
   "language": "python",
   "name": "python3"
  },
  "language_info": {
   "codemirror_mode": {
    "name": "ipython",
    "version": 3
   },
   "file_extension": ".py",
   "mimetype": "text/x-python",
   "name": "python",
   "nbconvert_exporter": "python",
   "pygments_lexer": "ipython3",
   "version": "3.6.8"
  }
 },
 "nbformat": 4,
 "nbformat_minor": 2
}

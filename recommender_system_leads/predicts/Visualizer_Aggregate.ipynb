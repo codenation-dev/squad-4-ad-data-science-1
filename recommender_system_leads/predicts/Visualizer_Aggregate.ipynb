{
 "cells": [
  {
   "cell_type": "code",
   "execution_count": 66,
   "metadata": {},
   "outputs": [],
   "source": [
    "import pandas as pd"
   ]
  },
  {
   "cell_type": "code",
   "execution_count": 67,
   "metadata": {},
   "outputs": [],
   "source": [
    "ag_rank_portfolio1 = pd.read_csv(\"ag_rank_portfolio1.csv\")\n",
    "ag_rank_portfolio2 = pd.read_csv(\"ag_rank_portfolio2.csv\")\n",
    "ag_rank_portfolio3 = pd.read_csv(\"ag_rank_portfolio3.csv\")"
   ]
  },
  {
   "cell_type": "code",
   "execution_count": 3,
   "metadata": {},
   "outputs": [
    {
     "data": {
      "text/html": [
       "<div>\n",
       "<style scoped>\n",
       "    .dataframe tbody tr th:only-of-type {\n",
       "        vertical-align: middle;\n",
       "    }\n",
       "\n",
       "    .dataframe tbody tr th {\n",
       "        vertical-align: top;\n",
       "    }\n",
       "\n",
       "    .dataframe thead th {\n",
       "        text-align: right;\n",
       "    }\n",
       "</style>\n",
       "<table border=\"1\" class=\"dataframe\">\n",
       "  <thead>\n",
       "    <tr style=\"text-align: right;\">\n",
       "      <th></th>\n",
       "      <th>id</th>\n",
       "      <th>rank_01</th>\n",
       "      <th>rank_02</th>\n",
       "      <th>rank_03</th>\n",
       "      <th>rank_mean</th>\n",
       "      <th>rank_std</th>\n",
       "    </tr>\n",
       "  </thead>\n",
       "  <tbody>\n",
       "    <tr>\n",
       "      <th>0</th>\n",
       "      <td>8a39891dd70cf06653cc20a7bd5926e6cda147943a12d2...</td>\n",
       "      <td>96.0</td>\n",
       "      <td>4080.0</td>\n",
       "      <td>34.0</td>\n",
       "      <td>1403.333</td>\n",
       "      <td>1892.858</td>\n",
       "    </tr>\n",
       "    <tr>\n",
       "      <th>1</th>\n",
       "      <td>6d5e7c0b8ae625dea6c700859223ae44cd967261887862...</td>\n",
       "      <td>174.0</td>\n",
       "      <td>4080.0</td>\n",
       "      <td>22.0</td>\n",
       "      <td>1425.333</td>\n",
       "      <td>1878.158</td>\n",
       "    </tr>\n",
       "    <tr>\n",
       "      <th>2</th>\n",
       "      <td>9893ca533adcb579e97062462cf53d7a0255f91a86a7ca...</td>\n",
       "      <td>1784.0</td>\n",
       "      <td>1.0</td>\n",
       "      <td>2614.0</td>\n",
       "      <td>1466.333</td>\n",
       "      <td>1090.146</td>\n",
       "    </tr>\n",
       "    <tr>\n",
       "      <th>3</th>\n",
       "      <td>51ca1a80bed69529d21c476b672448d4d45f02a3368b9b...</td>\n",
       "      <td>36.0</td>\n",
       "      <td>4080.0</td>\n",
       "      <td>305.0</td>\n",
       "      <td>1473.667</td>\n",
       "      <td>1846.225</td>\n",
       "    </tr>\n",
       "    <tr>\n",
       "      <th>4</th>\n",
       "      <td>917a563e9c2b2c21e9535de9c8746d7865aba2a2eb8166...</td>\n",
       "      <td>1880.0</td>\n",
       "      <td>1.0</td>\n",
       "      <td>2614.0</td>\n",
       "      <td>1498.333</td>\n",
       "      <td>1100.362</td>\n",
       "    </tr>\n",
       "  </tbody>\n",
       "</table>\n",
       "</div>"
      ],
      "text/plain": [
       "                                                  id  rank_01  rank_02  \\\n",
       "0  8a39891dd70cf06653cc20a7bd5926e6cda147943a12d2...     96.0   4080.0   \n",
       "1  6d5e7c0b8ae625dea6c700859223ae44cd967261887862...    174.0   4080.0   \n",
       "2  9893ca533adcb579e97062462cf53d7a0255f91a86a7ca...   1784.0      1.0   \n",
       "3  51ca1a80bed69529d21c476b672448d4d45f02a3368b9b...     36.0   4080.0   \n",
       "4  917a563e9c2b2c21e9535de9c8746d7865aba2a2eb8166...   1880.0      1.0   \n",
       "\n",
       "   rank_03  rank_mean  rank_std  \n",
       "0     34.0   1403.333  1892.858  \n",
       "1     22.0   1425.333  1878.158  \n",
       "2   2614.0   1466.333  1090.146  \n",
       "3    305.0   1473.667  1846.225  \n",
       "4   2614.0   1498.333  1100.362  "
      ]
     },
     "execution_count": 3,
     "metadata": {},
     "output_type": "execute_result"
    }
   ],
   "source": [
    "ag_rank_portfolio1.head()"
   ]
  },
  {
   "cell_type": "code",
   "execution_count": 4,
   "metadata": {},
   "outputs": [
    {
     "data": {
      "text/html": [
       "<div>\n",
       "<style scoped>\n",
       "    .dataframe tbody tr th:only-of-type {\n",
       "        vertical-align: middle;\n",
       "    }\n",
       "\n",
       "    .dataframe tbody tr th {\n",
       "        vertical-align: top;\n",
       "    }\n",
       "\n",
       "    .dataframe thead th {\n",
       "        text-align: right;\n",
       "    }\n",
       "</style>\n",
       "<table border=\"1\" class=\"dataframe\">\n",
       "  <thead>\n",
       "    <tr style=\"text-align: right;\">\n",
       "      <th></th>\n",
       "      <th>id</th>\n",
       "      <th>rank_01</th>\n",
       "      <th>rank_02</th>\n",
       "      <th>rank_03</th>\n",
       "      <th>rank_mean</th>\n",
       "      <th>rank_std</th>\n",
       "    </tr>\n",
       "  </thead>\n",
       "  <tbody>\n",
       "    <tr>\n",
       "      <th>0</th>\n",
       "      <td>931008de17675b8089f461b1adb94b298b6eaeea98c523...</td>\n",
       "      <td>4.0</td>\n",
       "      <td>2.0</td>\n",
       "      <td>1.0</td>\n",
       "      <td>2.333</td>\n",
       "      <td>1.247</td>\n",
       "    </tr>\n",
       "    <tr>\n",
       "      <th>1</th>\n",
       "      <td>824dfef51042cc47a13b79f86eac0e5f2a331997ca9b7e...</td>\n",
       "      <td>12.0</td>\n",
       "      <td>2.0</td>\n",
       "      <td>5.0</td>\n",
       "      <td>6.333</td>\n",
       "      <td>4.190</td>\n",
       "    </tr>\n",
       "    <tr>\n",
       "      <th>2</th>\n",
       "      <td>d06639ff1d28dce5353c17592c8377115ce769a4ecbbc8...</td>\n",
       "      <td>13.0</td>\n",
       "      <td>2.0</td>\n",
       "      <td>13.0</td>\n",
       "      <td>9.333</td>\n",
       "      <td>5.185</td>\n",
       "    </tr>\n",
       "    <tr>\n",
       "      <th>3</th>\n",
       "      <td>050230d2e5b5c06d3f76d65fdad4111395c700c652b7f2...</td>\n",
       "      <td>18.0</td>\n",
       "      <td>2.0</td>\n",
       "      <td>11.0</td>\n",
       "      <td>10.333</td>\n",
       "      <td>6.549</td>\n",
       "    </tr>\n",
       "    <tr>\n",
       "      <th>4</th>\n",
       "      <td>efc39f042e0cd53e9e70ef33f536bfdeef9bc8fb886fe8...</td>\n",
       "      <td>26.0</td>\n",
       "      <td>2.0</td>\n",
       "      <td>7.0</td>\n",
       "      <td>11.667</td>\n",
       "      <td>10.339</td>\n",
       "    </tr>\n",
       "  </tbody>\n",
       "</table>\n",
       "</div>"
      ],
      "text/plain": [
       "                                                  id  rank_01  rank_02  \\\n",
       "0  931008de17675b8089f461b1adb94b298b6eaeea98c523...      4.0      2.0   \n",
       "1  824dfef51042cc47a13b79f86eac0e5f2a331997ca9b7e...     12.0      2.0   \n",
       "2  d06639ff1d28dce5353c17592c8377115ce769a4ecbbc8...     13.0      2.0   \n",
       "3  050230d2e5b5c06d3f76d65fdad4111395c700c652b7f2...     18.0      2.0   \n",
       "4  efc39f042e0cd53e9e70ef33f536bfdeef9bc8fb886fe8...     26.0      2.0   \n",
       "\n",
       "   rank_03  rank_mean  rank_std  \n",
       "0      1.0      2.333     1.247  \n",
       "1      5.0      6.333     4.190  \n",
       "2     13.0      9.333     5.185  \n",
       "3     11.0     10.333     6.549  \n",
       "4      7.0     11.667    10.339  "
      ]
     },
     "execution_count": 4,
     "metadata": {},
     "output_type": "execute_result"
    }
   ],
   "source": [
    "ag_rank_portfolio2.head()"
   ]
  },
  {
   "cell_type": "code",
   "execution_count": 6,
   "metadata": {},
   "outputs": [
    {
     "data": {
      "text/html": [
       "<div>\n",
       "<style scoped>\n",
       "    .dataframe tbody tr th:only-of-type {\n",
       "        vertical-align: middle;\n",
       "    }\n",
       "\n",
       "    .dataframe tbody tr th {\n",
       "        vertical-align: top;\n",
       "    }\n",
       "\n",
       "    .dataframe thead th {\n",
       "        text-align: right;\n",
       "    }\n",
       "</style>\n",
       "<table border=\"1\" class=\"dataframe\">\n",
       "  <thead>\n",
       "    <tr style=\"text-align: right;\">\n",
       "      <th></th>\n",
       "      <th>id</th>\n",
       "      <th>rank_01</th>\n",
       "      <th>rank_02</th>\n",
       "      <th>rank_03</th>\n",
       "      <th>rank_mean</th>\n",
       "      <th>rank_std</th>\n",
       "    </tr>\n",
       "  </thead>\n",
       "  <tbody>\n",
       "    <tr>\n",
       "      <th>0</th>\n",
       "      <td>e532402800ba5abc95e7d8bb85413b738e7bb5419e57de...</td>\n",
       "      <td>2.0</td>\n",
       "      <td>1.0</td>\n",
       "      <td>1.0</td>\n",
       "      <td>1.333</td>\n",
       "      <td>0.471</td>\n",
       "    </tr>\n",
       "  </tbody>\n",
       "</table>\n",
       "</div>"
      ],
      "text/plain": [
       "                                                  id  rank_01  rank_02  \\\n",
       "0  e532402800ba5abc95e7d8bb85413b738e7bb5419e57de...      2.0      1.0   \n",
       "\n",
       "   rank_03  rank_mean  rank_std  \n",
       "0      1.0      1.333     0.471  "
      ]
     },
     "execution_count": 6,
     "metadata": {},
     "output_type": "execute_result"
    }
   ],
   "source": [
    "ag_rank_portfolio3"
   ]
  },
  {
   "cell_type": "code",
   "execution_count": 68,
   "metadata": {},
   "outputs": [
    {
     "data": {
      "text/plain": [
       "(100, 6)"
      ]
     },
     "execution_count": 68,
     "metadata": {},
     "output_type": "execute_result"
    }
   ],
   "source": [
    "ag_rank_portfolio1.shape"
   ]
  },
  {
   "cell_type": "code",
   "execution_count": 69,
   "metadata": {},
   "outputs": [
    {
     "data": {
      "text/plain": [
       "(100, 6)"
      ]
     },
     "execution_count": 69,
     "metadata": {},
     "output_type": "execute_result"
    }
   ],
   "source": [
    "ag_rank_portfolio2.shape"
   ]
  },
  {
   "cell_type": "code",
   "execution_count": 63,
   "metadata": {},
   "outputs": [
    {
     "data": {
      "text/plain": [
       "(100, 6)"
      ]
     },
     "execution_count": 63,
     "metadata": {},
     "output_type": "execute_result"
    }
   ],
   "source": [
    "ag_rank_portfolio3.shape"
   ]
  },
  {
   "cell_type": "code",
   "execution_count": 44,
   "metadata": {},
   "outputs": [
    {
     "data": {
      "text/html": [
       "<div>\n",
       "<style scoped>\n",
       "    .dataframe tbody tr th:only-of-type {\n",
       "        vertical-align: middle;\n",
       "    }\n",
       "\n",
       "    .dataframe tbody tr th {\n",
       "        vertical-align: top;\n",
       "    }\n",
       "\n",
       "    .dataframe thead th {\n",
       "        text-align: right;\n",
       "    }\n",
       "</style>\n",
       "<table border=\"1\" class=\"dataframe\">\n",
       "  <thead>\n",
       "    <tr style=\"text-align: right;\">\n",
       "      <th></th>\n",
       "      <th>id</th>\n",
       "      <th>rank_01</th>\n",
       "      <th>rank_02</th>\n",
       "      <th>rank_03</th>\n",
       "      <th>rank_mean</th>\n",
       "      <th>rank_std</th>\n",
       "    </tr>\n",
       "  </thead>\n",
       "  <tbody>\n",
       "    <tr>\n",
       "      <th>95</th>\n",
       "      <td>d6bb5680ea9158e37f7190ea1077130824a4009d74afd2...</td>\n",
       "      <td>7.0</td>\n",
       "      <td>24.0</td>\n",
       "      <td>265.0</td>\n",
       "      <td>98.667</td>\n",
       "      <td>117.820</td>\n",
       "    </tr>\n",
       "    <tr>\n",
       "      <th>96</th>\n",
       "      <td>386f00fd11ba42964935c94949da0ce67405d6a6d59202...</td>\n",
       "      <td>119.0</td>\n",
       "      <td>24.0</td>\n",
       "      <td>154.0</td>\n",
       "      <td>99.000</td>\n",
       "      <td>54.924</td>\n",
       "    </tr>\n",
       "    <tr>\n",
       "      <th>97</th>\n",
       "      <td>d992145b4bec3f1f48d8878324e7ff803bc9b15241456f...</td>\n",
       "      <td>25.0</td>\n",
       "      <td>24.0</td>\n",
       "      <td>253.0</td>\n",
       "      <td>100.667</td>\n",
       "      <td>107.717</td>\n",
       "    </tr>\n",
       "    <tr>\n",
       "      <th>98</th>\n",
       "      <td>80ef4cba5569af62102773c477571f9484972dcfe6f76a...</td>\n",
       "      <td>17.0</td>\n",
       "      <td>24.0</td>\n",
       "      <td>263.0</td>\n",
       "      <td>101.333</td>\n",
       "      <td>114.351</td>\n",
       "    </tr>\n",
       "    <tr>\n",
       "      <th>99</th>\n",
       "      <td>3cdec6082f248ce68d4bfc8ef1df0cb3d0ffed4485b7e8...</td>\n",
       "      <td>217.0</td>\n",
       "      <td>24.0</td>\n",
       "      <td>64.0</td>\n",
       "      <td>101.667</td>\n",
       "      <td>83.172</td>\n",
       "    </tr>\n",
       "  </tbody>\n",
       "</table>\n",
       "</div>"
      ],
      "text/plain": [
       "                                                   id  rank_01  rank_02  \\\n",
       "95  d6bb5680ea9158e37f7190ea1077130824a4009d74afd2...      7.0     24.0   \n",
       "96  386f00fd11ba42964935c94949da0ce67405d6a6d59202...    119.0     24.0   \n",
       "97  d992145b4bec3f1f48d8878324e7ff803bc9b15241456f...     25.0     24.0   \n",
       "98  80ef4cba5569af62102773c477571f9484972dcfe6f76a...     17.0     24.0   \n",
       "99  3cdec6082f248ce68d4bfc8ef1df0cb3d0ffed4485b7e8...    217.0     24.0   \n",
       "\n",
       "    rank_03  rank_mean  rank_std  \n",
       "95    265.0     98.667   117.820  \n",
       "96    154.0     99.000    54.924  \n",
       "97    253.0    100.667   107.717  \n",
       "98    263.0    101.333   114.351  \n",
       "99     64.0    101.667    83.172  "
      ]
     },
     "execution_count": 44,
     "metadata": {},
     "output_type": "execute_result"
    }
   ],
   "source": []
  },
  {
   "cell_type": "code",
   "execution_count": null,
   "metadata": {},
   "outputs": [],
   "source": []
  }
 ],
 "metadata": {
  "kernelspec": {
   "display_name": "Python 3",
   "language": "python",
   "name": "python3"
  },
  "language_info": {
   "codemirror_mode": {
    "name": "ipython",
    "version": 3
   },
   "file_extension": ".py",
   "mimetype": "text/x-python",
   "name": "python",
   "nbconvert_exporter": "python",
   "pygments_lexer": "ipython3",
   "version": "3.6.8"
  }
 },
 "nbformat": 4,
 "nbformat_minor": 2
}
